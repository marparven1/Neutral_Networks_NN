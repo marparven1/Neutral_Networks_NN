{
 "cells": [
  {
   "cell_type": "markdown",
   "metadata": {
    "colab_type": "text",
    "id": "view-in-github"
   },
   "source": [
    "<a href=\"https://colab.research.google.com/github/marparven1/MachineLearning_Classification/blob/main/Fraud_Detection_NN_Loyola_2022.ipynb\" target=\"_parent\"><img src=\"https://colab.research.google.com/assets/colab-badge.svg\" alt=\"Open In Colab\"/></a>"
   ]
  },
  {
   "cell_type": "markdown",
   "metadata": {
    "id": "2Y0CUn60jZex"
   },
   "source": [
    "# Ejercicio: Detección de fruade\n",
    "Este ejercicio tiene por objetivo poner en práctica los conceptos las técnicas de aprendizaje supervisado y en particular clasificación. El ejercicio se divide en las siguientes secciones: \n",
    "1. exploración de los datos mediante técnicas estadísticas clásicas, \n",
    "2. selección de atributos, \n",
    "3. entrenamiento de diferentes clasificadores,\n",
    "4. evaluación."
   ]
  },
  {
   "cell_type": "markdown",
   "metadata": {
    "id": "XdA5nF8JvOQ0"
   },
   "source": [
    "# Librerías:\n",
    "Importamos todas las librerías que serán utilizadas para el ejercicio.\n",
    "\n",
    "\n"
   ]
  },
  {
   "cell_type": "code",
   "execution_count": 20,
   "metadata": {
    "colab": {
     "base_uri": "https://localhost:8080/"
    },
    "id": "W3f05yxKmKaS",
    "outputId": "c631187e-19f0-48ca-e3cb-8bb50937ee20"
   },
   "outputs": [
    {
     "name": "stdout",
     "output_type": "stream",
     "text": [
      "\u001b[33mWARNING: Ignoring invalid distribution -andas (/opt/anaconda3/lib/python3.8/site-packages)\u001b[0m\u001b[33m\n",
      "\u001b[0m\u001b[33mWARNING: Ignoring invalid distribution -andas (/opt/anaconda3/lib/python3.8/site-packages)\u001b[0m\u001b[33m\n",
      "\u001b[0mRequirement already satisfied: gdown in /opt/anaconda3/lib/python3.8/site-packages (4.5.3)\n",
      "Requirement already satisfied: filelock in /opt/anaconda3/lib/python3.8/site-packages (from gdown) (3.0.12)\n",
      "Requirement already satisfied: beautifulsoup4 in /opt/anaconda3/lib/python3.8/site-packages (from gdown) (4.9.3)\n",
      "Requirement already satisfied: tqdm in /opt/anaconda3/lib/python3.8/site-packages (from gdown) (4.59.0)\n",
      "Requirement already satisfied: six in /opt/anaconda3/lib/python3.8/site-packages (from gdown) (1.15.0)\n",
      "Requirement already satisfied: requests[socks] in /opt/anaconda3/lib/python3.8/site-packages (from gdown) (2.25.1)\n",
      "Requirement already satisfied: soupsieve>1.2 in /opt/anaconda3/lib/python3.8/site-packages (from beautifulsoup4->gdown) (2.2.1)\n",
      "Requirement already satisfied: urllib3<1.27,>=1.21.1 in /opt/anaconda3/lib/python3.8/site-packages (from requests[socks]->gdown) (1.26.4)\n",
      "Requirement already satisfied: idna<3,>=2.5 in /opt/anaconda3/lib/python3.8/site-packages (from requests[socks]->gdown) (2.10)\n",
      "Requirement already satisfied: chardet<5,>=3.0.2 in /opt/anaconda3/lib/python3.8/site-packages (from requests[socks]->gdown) (4.0.0)\n",
      "Requirement already satisfied: certifi>=2017.4.17 in /opt/anaconda3/lib/python3.8/site-packages (from requests[socks]->gdown) (2021.10.8)\n",
      "Requirement already satisfied: PySocks!=1.5.7,>=1.5.6 in /opt/anaconda3/lib/python3.8/site-packages (from requests[socks]->gdown) (1.7.1)\n",
      "\u001b[33mWARNING: Ignoring invalid distribution -andas (/opt/anaconda3/lib/python3.8/site-packages)\u001b[0m\u001b[33m\n",
      "\u001b[0m\u001b[33mWARNING: Ignoring invalid distribution -andas (/opt/anaconda3/lib/python3.8/site-packages)\u001b[0m\u001b[33m\n",
      "\u001b[0m\u001b[33mWARNING: Ignoring invalid distribution -andas (/opt/anaconda3/lib/python3.8/site-packages)\u001b[0m\u001b[33m\n",
      "\u001b[0m\u001b[33mWARNING: Ignoring invalid distribution -andas (/opt/anaconda3/lib/python3.8/site-packages)\u001b[0m\u001b[33m\n",
      "\u001b[0m"
     ]
    }
   ],
   "source": [
    "# Import libs\n",
    "import pandas as pd\n",
    "import numpy as np\n",
    "import matplotlib.pyplot as plt\n",
    "#!pip3 install seaborn\n",
    "import seaborn as sns\n",
    "!pip install --upgrade --no-cache-dir gdown\n",
    "from sklearn.metrics import accuracy_score,classification_report,confusion_matrix"
   ]
  },
  {
   "cell_type": "markdown",
   "metadata": {
    "id": "Kc_0rl7zvV8t"
   },
   "source": [
    "# Datos:\n",
    "Descargamos los datos desde google drive a la instancia de google colab."
   ]
  },
  {
   "cell_type": "code",
   "execution_count": 2,
   "metadata": {
    "colab": {
     "base_uri": "https://localhost:8080/"
    },
    "id": "2AYoot6pBJQl",
    "outputId": "03a6596f-f458-499a-d429-5919bb417ea6"
   },
   "outputs": [
    {
     "name": "stdout",
     "output_type": "stream",
     "text": [
      "/opt/anaconda3/lib/python3.8/site-packages/gdown/cli.py:121: FutureWarning: Option `--id` was deprecated in version 4.3.1 and will be removed in 5.0. You don't need to pass it anymore to use a file ID.\n",
      "  warnings.warn(\n",
      "Downloading...\n",
      "From: https://drive.google.com/uc?id=1bWFuwCD_elqw3_jzR1Xob1YMnu-c7HcF\n",
      "To: /Users/martavenegas/Desktop/LOYOLA/PrimerCuatri/Aprendizaje_Automatico/Clasificacion/MachineLearning_Classification/creditcard.csv\n",
      "100%|████████████████████████████████████████| 150M/150M [00:05<00:00, 28.0MB/s]\n"
     ]
    }
   ],
   "source": [
    "!gdown --id 1bWFuwCD_elqw3_jzR1Xob1YMnu-c7HcF"
   ]
  },
  {
   "cell_type": "code",
   "execution_count": 3,
   "metadata": {
    "id": "i-eiw-HRmt-g"
   },
   "outputs": [],
   "source": [
    "# Ref.: https://www.kaggle.com/isaikumar/creditcardfraud/version/1\n",
    "# Data frame with credit card data\n",
    "\n",
    "# Leemos el archivo CSV\n",
    "df = pd.read_csv( 'creditcard.csv' )"
   ]
  },
  {
   "cell_type": "markdown",
   "metadata": {
    "id": "mFNEal38vlV2"
   },
   "source": [
    "# 1. Análisis de los datos\n",
    "\n",
    "1.   Visualizamos la información del dataframe de datos.\n",
    "2.   Calculamos la correlación entre cada una de las variables y la clase. Cuanto más grande el valor de correlación en valor absoluto mayor es la correlación estadística entre la variable y la clase Class que contiene si la transacción es fraudulenta o legítima.\n"
   ]
  },
  {
   "cell_type": "code",
   "execution_count": 4,
   "metadata": {
    "colab": {
     "base_uri": "https://localhost:8080/"
    },
    "id": "wFZwJKCcn6fs",
    "outputId": "e9e535e6-4bb1-4a79-98da-d8553d54220b"
   },
   "outputs": [
    {
     "name": "stdout",
     "output_type": "stream",
     "text": [
      "(284807, 31)\n",
      "Index(['Time', 'V1', 'V2', 'V3', 'V4', 'V5', 'V6', 'V7', 'V8', 'V9', 'V10',\n",
      "       'V11', 'V12', 'V13', 'V14', 'V15', 'V16', 'V17', 'V18', 'V19', 'V20',\n",
      "       'V21', 'V22', 'V23', 'V24', 'V25', 'V26', 'V27', 'V28', 'Amount',\n",
      "       'Class'],\n",
      "      dtype='object')\n"
     ]
    },
    {
     "data": {
      "text/plain": [
       "Class     1.000000\n",
       "V17      -0.326481\n",
       "V14      -0.302544\n",
       "V12      -0.260593\n",
       "V10      -0.216883\n",
       "V16      -0.196539\n",
       "V3       -0.192961\n",
       "V7       -0.187257\n",
       "V11       0.154876\n",
       "V4        0.133447\n",
       "V18      -0.111485\n",
       "V1       -0.101347\n",
       "V9       -0.097733\n",
       "V5       -0.094974\n",
       "V2        0.091289\n",
       "V6       -0.043643\n",
       "V21       0.040413\n",
       "V19       0.034783\n",
       "V20       0.020090\n",
       "V8        0.019875\n",
       "V27       0.017580\n",
       "Time     -0.012323\n",
       "V28       0.009536\n",
       "V24      -0.007221\n",
       "Amount    0.005632\n",
       "V13      -0.004570\n",
       "V26       0.004455\n",
       "V15      -0.004223\n",
       "V25       0.003308\n",
       "V23      -0.002685\n",
       "V22       0.000805\n",
       "Name: Class, dtype: float64"
      ]
     },
     "execution_count": 4,
     "metadata": {},
     "output_type": "execute_result"
    }
   ],
   "source": [
    "# 1\n",
    "# Details on data\n",
    "print(df.shape)\n",
    "print(df.columns)\n",
    "\n",
    "# 2\n",
    "# Compute correlation of features with respect to Class\n",
    "# By default uses Pearson correlation that estimates linear correlation: \n",
    "# +1 or -1 linearly correlated, 0 non linear correlated\n",
    "df.corr()[\"Class\"].sort_values(key=abs,ascending=False)"
   ]
  },
  {
   "cell_type": "code",
   "execution_count": 5,
   "metadata": {
    "collapsed": true,
    "jupyter": {
     "outputs_hidden": true
    },
    "tags": []
   },
   "outputs": [
    {
     "data": {
      "text/plain": [
       "<AxesSubplot:>"
      ]
     },
     "execution_count": 5,
     "metadata": {},
     "output_type": "execute_result"
    },
    {
     "data": {
      "image/png": "[encoded data removed]",
      "text/plain": [
       "<Figure size 1440x1440 with 2 Axes>"
      ]
     },
     "metadata": {
      "needs_background": "light"
     },
     "output_type": "display_data"
    }
   ],
   "source": [
    "import seaborn as sns\n",
    "import numpy as np\n",
    "corr_mat = df.corr()\n",
    "plt.figure(figsize=(20,20))\n",
    "matrix = np.triu(corr_mat)\n",
    "sns.heatmap(corr_mat, annot=True, linewidth=.5,vmax=.3, center=0,   square=True, mask = matrix)"
   ]
  },
  {
   "cell_type": "code",
   "execution_count": 6,
   "metadata": {},
   "outputs": [
    {
     "data": {
      "text/plain": [
       "0    0.998273\n",
       "1    0.001727\n",
       "Name: Class, dtype: float64"
      ]
     },
     "execution_count": 6,
     "metadata": {},
     "output_type": "execute_result"
    }
   ],
   "source": [
    "# Porcentaaje de casos de No fraude y fraude\n",
    "df.Class.value_counts()/len(df)"
   ]
  },
  {
   "cell_type": "code",
   "execution_count": 22,
   "metadata": {},
   "outputs": [
    {
     "data": {
      "text/plain": [
       "0    284315\n",
       "1       492\n",
       "Name: Class, dtype: int64"
      ]
     },
     "execution_count": 22,
     "metadata": {},
     "output_type": "execute_result"
    }
   ],
   "source": [
    "df.Class.value_counts()"
   ]
  },
  {
   "cell_type": "code",
   "execution_count": 7,
   "metadata": {},
   "outputs": [
    {
     "data": {
      "text/plain": [
       "Text(0.5, 0.98, 'Número de fraudes')"
      ]
     },
     "execution_count": 7,
     "metadata": {},
     "output_type": "execute_result"
    },
    {
     "data": {
      "image/png": "[encoded data removed]",
      "text/plain": [
       "<Figure size 172.8x288 with 1 Axes>"
      ]
     },
     "metadata": {
      "needs_background": "light"
     },
     "output_type": "display_data"
    }
   ],
   "source": [
    "# Instead of a group by, use seaborn to plot the count of passengers in each class\n",
    "fg = sns.catplot(x='Class', data=df, kind='count', height=4, aspect=.6)\n",
    "fg.set_xlabels('Class')\n",
    "# Add title and axis names\n",
    "\n",
    "fg.fig.subplots_adjust(top=0.9) # adjust the Figure in rp\n",
    "fg.fig.suptitle('Número de fraudes')"
   ]
  },
  {
   "cell_type": "code",
   "execution_count": 8,
   "metadata": {},
   "outputs": [
    {
     "name": "stdout",
     "output_type": "stream",
     "text": [
      "Time      0\n",
      "V1        0\n",
      "V2        0\n",
      "V3        0\n",
      "V4        0\n",
      "V5        0\n",
      "V6        0\n",
      "V7        0\n",
      "V8        0\n",
      "V9        0\n",
      "V10       0\n",
      "V11       0\n",
      "V12       0\n",
      "V13       0\n",
      "V14       0\n",
      "V15       0\n",
      "V16       0\n",
      "V17       0\n",
      "V18       0\n",
      "V19       0\n",
      "V20       0\n",
      "V21       0\n",
      "V22       0\n",
      "V23       0\n",
      "V24       0\n",
      "V25       0\n",
      "V26       0\n",
      "V27       0\n",
      "V28       0\n",
      "Amount    0\n",
      "Class     0\n",
      "dtype: int64\n"
     ]
    }
   ],
   "source": [
    "# Valores faltantes\n",
    "print(df.isnull().sum())"
   ]
  },
  {
   "cell_type": "code",
   "execution_count": 9,
   "metadata": {},
   "outputs": [
    {
     "data": {
      "text/html": [
       "<div>\n",
       "<style scoped>\n",
       "    .dataframe tbody tr th:only-of-type {\n",
       "        vertical-align: middle;\n",
       "    }\n",
       "\n",
       "    .dataframe tbody tr th {\n",
       "        vertical-align: top;\n",
       "    }\n",
       "\n",
       "    .dataframe thead th {\n",
       "        text-align: right;\n",
       "    }\n",
       "</style>\n",
       "<table border=\"1\" class=\"dataframe\">\n",
       "  <thead>\n",
       "    <tr style=\"text-align: right;\">\n",
       "      <th></th>\n",
       "      <th>Time</th>\n",
       "      <th>V1</th>\n",
       "      <th>V2</th>\n",
       "      <th>V3</th>\n",
       "      <th>V4</th>\n",
       "      <th>V5</th>\n",
       "      <th>V6</th>\n",
       "      <th>V7</th>\n",
       "      <th>V8</th>\n",
       "      <th>V9</th>\n",
       "      <th>...</th>\n",
       "      <th>V21</th>\n",
       "      <th>V22</th>\n",
       "      <th>V23</th>\n",
       "      <th>V24</th>\n",
       "      <th>V25</th>\n",
       "      <th>V26</th>\n",
       "      <th>V27</th>\n",
       "      <th>V28</th>\n",
       "      <th>Amount</th>\n",
       "      <th>Class</th>\n",
       "    </tr>\n",
       "  </thead>\n",
       "  <tbody>\n",
       "    <tr>\n",
       "      <th>count</th>\n",
       "      <td>284807.000000</td>\n",
       "      <td>2.848070e+05</td>\n",
       "      <td>2.848070e+05</td>\n",
       "      <td>2.848070e+05</td>\n",
       "      <td>2.848070e+05</td>\n",
       "      <td>2.848070e+05</td>\n",
       "      <td>2.848070e+05</td>\n",
       "      <td>2.848070e+05</td>\n",
       "      <td>2.848070e+05</td>\n",
       "      <td>2.848070e+05</td>\n",
       "      <td>...</td>\n",
       "      <td>2.848070e+05</td>\n",
       "      <td>2.848070e+05</td>\n",
       "      <td>2.848070e+05</td>\n",
       "      <td>2.848070e+05</td>\n",
       "      <td>2.848070e+05</td>\n",
       "      <td>2.848070e+05</td>\n",
       "      <td>2.848070e+05</td>\n",
       "      <td>2.848070e+05</td>\n",
       "      <td>284807.000000</td>\n",
       "      <td>284807.000000</td>\n",
       "    </tr>\n",
       "    <tr>\n",
       "      <th>mean</th>\n",
       "      <td>94813.859575</td>\n",
       "      <td>3.918649e-15</td>\n",
       "      <td>5.682686e-16</td>\n",
       "      <td>-8.761736e-15</td>\n",
       "      <td>2.811118e-15</td>\n",
       "      <td>-1.552103e-15</td>\n",
       "      <td>2.040130e-15</td>\n",
       "      <td>-1.698953e-15</td>\n",
       "      <td>-1.893285e-16</td>\n",
       "      <td>-3.147640e-15</td>\n",
       "      <td>...</td>\n",
       "      <td>1.473120e-16</td>\n",
       "      <td>8.042109e-16</td>\n",
       "      <td>5.282512e-16</td>\n",
       "      <td>4.456271e-15</td>\n",
       "      <td>1.426896e-15</td>\n",
       "      <td>1.701640e-15</td>\n",
       "      <td>-3.662252e-16</td>\n",
       "      <td>-1.217809e-16</td>\n",
       "      <td>88.349619</td>\n",
       "      <td>0.001727</td>\n",
       "    </tr>\n",
       "    <tr>\n",
       "      <th>std</th>\n",
       "      <td>47488.145955</td>\n",
       "      <td>1.958696e+00</td>\n",
       "      <td>1.651309e+00</td>\n",
       "      <td>1.516255e+00</td>\n",
       "      <td>1.415869e+00</td>\n",
       "      <td>1.380247e+00</td>\n",
       "      <td>1.332271e+00</td>\n",
       "      <td>1.237094e+00</td>\n",
       "      <td>1.194353e+00</td>\n",
       "      <td>1.098632e+00</td>\n",
       "      <td>...</td>\n",
       "      <td>7.345240e-01</td>\n",
       "      <td>7.257016e-01</td>\n",
       "      <td>6.244603e-01</td>\n",
       "      <td>6.056471e-01</td>\n",
       "      <td>5.212781e-01</td>\n",
       "      <td>4.822270e-01</td>\n",
       "      <td>4.036325e-01</td>\n",
       "      <td>3.300833e-01</td>\n",
       "      <td>250.120109</td>\n",
       "      <td>0.041527</td>\n",
       "    </tr>\n",
       "    <tr>\n",
       "      <th>min</th>\n",
       "      <td>0.000000</td>\n",
       "      <td>-5.640751e+01</td>\n",
       "      <td>-7.271573e+01</td>\n",
       "      <td>-4.832559e+01</td>\n",
       "      <td>-5.683171e+00</td>\n",
       "      <td>-1.137433e+02</td>\n",
       "      <td>-2.616051e+01</td>\n",
       "      <td>-4.355724e+01</td>\n",
       "      <td>-7.321672e+01</td>\n",
       "      <td>-1.343407e+01</td>\n",
       "      <td>...</td>\n",
       "      <td>-3.483038e+01</td>\n",
       "      <td>-1.093314e+01</td>\n",
       "      <td>-4.480774e+01</td>\n",
       "      <td>-2.836627e+00</td>\n",
       "      <td>-1.029540e+01</td>\n",
       "      <td>-2.604551e+00</td>\n",
       "      <td>-2.256568e+01</td>\n",
       "      <td>-1.543008e+01</td>\n",
       "      <td>0.000000</td>\n",
       "      <td>0.000000</td>\n",
       "    </tr>\n",
       "    <tr>\n",
       "      <th>25%</th>\n",
       "      <td>54201.500000</td>\n",
       "      <td>-9.203734e-01</td>\n",
       "      <td>-5.985499e-01</td>\n",
       "      <td>-8.903648e-01</td>\n",
       "      <td>-8.486401e-01</td>\n",
       "      <td>-6.915971e-01</td>\n",
       "      <td>-7.682956e-01</td>\n",
       "      <td>-5.540759e-01</td>\n",
       "      <td>-2.086297e-01</td>\n",
       "      <td>-6.430976e-01</td>\n",
       "      <td>...</td>\n",
       "      <td>-2.283949e-01</td>\n",
       "      <td>-5.423504e-01</td>\n",
       "      <td>-1.618463e-01</td>\n",
       "      <td>-3.545861e-01</td>\n",
       "      <td>-3.171451e-01</td>\n",
       "      <td>-3.269839e-01</td>\n",
       "      <td>-7.083953e-02</td>\n",
       "      <td>-5.295979e-02</td>\n",
       "      <td>5.600000</td>\n",
       "      <td>0.000000</td>\n",
       "    </tr>\n",
       "    <tr>\n",
       "      <th>50%</th>\n",
       "      <td>84692.000000</td>\n",
       "      <td>1.810880e-02</td>\n",
       "      <td>6.548556e-02</td>\n",
       "      <td>1.798463e-01</td>\n",
       "      <td>-1.984653e-02</td>\n",
       "      <td>-5.433583e-02</td>\n",
       "      <td>-2.741871e-01</td>\n",
       "      <td>4.010308e-02</td>\n",
       "      <td>2.235804e-02</td>\n",
       "      <td>-5.142873e-02</td>\n",
       "      <td>...</td>\n",
       "      <td>-2.945017e-02</td>\n",
       "      <td>6.781943e-03</td>\n",
       "      <td>-1.119293e-02</td>\n",
       "      <td>4.097606e-02</td>\n",
       "      <td>1.659350e-02</td>\n",
       "      <td>-5.213911e-02</td>\n",
       "      <td>1.342146e-03</td>\n",
       "      <td>1.124383e-02</td>\n",
       "      <td>22.000000</td>\n",
       "      <td>0.000000</td>\n",
       "    </tr>\n",
       "    <tr>\n",
       "      <th>75%</th>\n",
       "      <td>139320.500000</td>\n",
       "      <td>1.315642e+00</td>\n",
       "      <td>8.037239e-01</td>\n",
       "      <td>1.027196e+00</td>\n",
       "      <td>7.433413e-01</td>\n",
       "      <td>6.119264e-01</td>\n",
       "      <td>3.985649e-01</td>\n",
       "      <td>5.704361e-01</td>\n",
       "      <td>3.273459e-01</td>\n",
       "      <td>5.971390e-01</td>\n",
       "      <td>...</td>\n",
       "      <td>1.863772e-01</td>\n",
       "      <td>5.285536e-01</td>\n",
       "      <td>1.476421e-01</td>\n",
       "      <td>4.395266e-01</td>\n",
       "      <td>3.507156e-01</td>\n",
       "      <td>2.409522e-01</td>\n",
       "      <td>9.104512e-02</td>\n",
       "      <td>7.827995e-02</td>\n",
       "      <td>77.165000</td>\n",
       "      <td>0.000000</td>\n",
       "    </tr>\n",
       "    <tr>\n",
       "      <th>max</th>\n",
       "      <td>172792.000000</td>\n",
       "      <td>2.454930e+00</td>\n",
       "      <td>2.205773e+01</td>\n",
       "      <td>9.382558e+00</td>\n",
       "      <td>1.687534e+01</td>\n",
       "      <td>3.480167e+01</td>\n",
       "      <td>7.330163e+01</td>\n",
       "      <td>1.205895e+02</td>\n",
       "      <td>2.000721e+01</td>\n",
       "      <td>1.559499e+01</td>\n",
       "      <td>...</td>\n",
       "      <td>2.720284e+01</td>\n",
       "      <td>1.050309e+01</td>\n",
       "      <td>2.252841e+01</td>\n",
       "      <td>4.584549e+00</td>\n",
       "      <td>7.519589e+00</td>\n",
       "      <td>3.517346e+00</td>\n",
       "      <td>3.161220e+01</td>\n",
       "      <td>3.384781e+01</td>\n",
       "      <td>25691.160000</td>\n",
       "      <td>1.000000</td>\n",
       "    </tr>\n",
       "  </tbody>\n",
       "</table>\n",
       "<p>8 rows × 31 columns</p>\n",
       "</div>"
      ],
      "text/plain": [
       "                Time            V1            V2            V3            V4  \\\n",
       "count  284807.000000  2.848070e+05  2.848070e+05  2.848070e+05  2.848070e+05   \n",
       "mean    94813.859575  3.918649e-15  5.682686e-16 -8.761736e-15  2.811118e-15   \n",
       "std     47488.145955  1.958696e+00  1.651309e+00  1.516255e+00  1.415869e+00   \n",
       "min         0.000000 -5.640751e+01 -7.271573e+01 -4.832559e+01 -5.683171e+00   \n",
       "25%     54201.500000 -9.203734e-01 -5.985499e-01 -8.903648e-01 -8.486401e-01   \n",
       "50%     84692.000000  1.810880e-02  6.548556e-02  1.798463e-01 -1.984653e-02   \n",
       "75%    139320.500000  1.315642e+00  8.037239e-01  1.027196e+00  7.433413e-01   \n",
       "max    172792.000000  2.454930e+00  2.205773e+01  9.382558e+00  1.687534e+01   \n",
       "\n",
       "                 V5            V6            V7            V8            V9  \\\n",
       "count  2.848070e+05  2.848070e+05  2.848070e+05  2.848070e+05  2.848070e+05   \n",
       "mean  -1.552103e-15  2.040130e-15 -1.698953e-15 -1.893285e-16 -3.147640e-15   \n",
       "std    1.380247e+00  1.332271e+00  1.237094e+00  1.194353e+00  1.098632e+00   \n",
       "min   -1.137433e+02 -2.616051e+01 -4.355724e+01 -7.321672e+01 -1.343407e+01   \n",
       "25%   -6.915971e-01 -7.682956e-01 -5.540759e-01 -2.086297e-01 -6.430976e-01   \n",
       "50%   -5.433583e-02 -2.741871e-01  4.010308e-02  2.235804e-02 -5.142873e-02   \n",
       "75%    6.119264e-01  3.985649e-01  5.704361e-01  3.273459e-01  5.971390e-01   \n",
       "max    3.480167e+01  7.330163e+01  1.205895e+02  2.000721e+01  1.559499e+01   \n",
       "\n",
       "       ...           V21           V22           V23           V24  \\\n",
       "count  ...  2.848070e+05  2.848070e+05  2.848070e+05  2.848070e+05   \n",
       "mean   ...  1.473120e-16  8.042109e-16  5.282512e-16  4.456271e-15   \n",
       "std    ...  7.345240e-01  7.257016e-01  6.244603e-01  6.056471e-01   \n",
       "min    ... -3.483038e+01 -1.093314e+01 -4.480774e+01 -2.836627e+00   \n",
       "25%    ... -2.283949e-01 -5.423504e-01 -1.618463e-01 -3.545861e-01   \n",
       "50%    ... -2.945017e-02  6.781943e-03 -1.119293e-02  4.097606e-02   \n",
       "75%    ...  1.863772e-01  5.285536e-01  1.476421e-01  4.395266e-01   \n",
       "max    ...  2.720284e+01  1.050309e+01  2.252841e+01  4.584549e+00   \n",
       "\n",
       "                V25           V26           V27           V28         Amount  \\\n",
       "count  2.848070e+05  2.848070e+05  2.848070e+05  2.848070e+05  284807.000000   \n",
       "mean   1.426896e-15  1.701640e-15 -3.662252e-16 -1.217809e-16      88.349619   \n",
       "std    5.212781e-01  4.822270e-01  4.036325e-01  3.300833e-01     250.120109   \n",
       "min   -1.029540e+01 -2.604551e+00 -2.256568e+01 -1.543008e+01       0.000000   \n",
       "25%   -3.171451e-01 -3.269839e-01 -7.083953e-02 -5.295979e-02       5.600000   \n",
       "50%    1.659350e-02 -5.213911e-02  1.342146e-03  1.124383e-02      22.000000   \n",
       "75%    3.507156e-01  2.409522e-01  9.104512e-02  7.827995e-02      77.165000   \n",
       "max    7.519589e+00  3.517346e+00  3.161220e+01  3.384781e+01   25691.160000   \n",
       "\n",
       "               Class  \n",
       "count  284807.000000  \n",
       "mean        0.001727  \n",
       "std         0.041527  \n",
       "min         0.000000  \n",
       "25%         0.000000  \n",
       "50%         0.000000  \n",
       "75%         0.000000  \n",
       "max         1.000000  \n",
       "\n",
       "[8 rows x 31 columns]"
      ]
     },
     "execution_count": 9,
     "metadata": {},
     "output_type": "execute_result"
    }
   ],
   "source": [
    "df.describe()"
   ]
  },
  {
   "cell_type": "code",
   "execution_count": 10,
   "metadata": {},
   "outputs": [
    {
     "data": {
      "text/plain": [
       "Text(0.5, 1.0, 'Importe')"
      ]
     },
     "execution_count": 10,
     "metadata": {},
     "output_type": "execute_result"
    },
    {
     "data": {
      "image/png": "[encoded data removed]",
      "text/plain": [
       "<Figure size 432x288 with 1 Axes>"
      ]
     },
     "metadata": {},
     "output_type": "display_data"
    }
   ],
   "source": [
    "# boxplot para detectar outliers\n",
    "Fraude = df.Amount\n",
    "sns.set_theme(style=\"whitegrid\")\n",
    "p=sns.boxplot(x=Fraude)\n",
    "p.set_title(\"Importe\")\n"
   ]
  },
  {
   "cell_type": "markdown",
   "metadata": {
    "id": "9ccQZwfav2jY"
   },
   "source": [
    "# 2. Selección de atributos\n",
    "1. Seleccionamos los atributos (características) a ser utilizadas. Dentro de los atributos $X$ no debe estar la clase $Class$.\n",
    "2. Verificamos la cantidad de muestras de cada clase."
   ]
  },
  {
   "cell_type": "code",
   "execution_count": 122,
   "metadata": {
    "colab": {
     "base_uri": "https://localhost:8080/"
    },
    "id": "OK_BZmeErAzQ",
    "outputId": "ff75b537-3c29-465b-cce9-ebef31b1fb0d",
    "tags": []
   },
   "outputs": [
    {
     "name": "stdout",
     "output_type": "stream",
     "text": [
      "Class 0: Samples 284315\n",
      "Class 1: Samples 492\n",
      "Number of attributes: 5\n"
     ]
    }
   ],
   "source": [
    "# 1\n",
    "# Extract features and labels\n",
    "\n",
    "#\n",
    "# Obs. Modify the following code to select set of features\n",
    "#\n",
    "# The following line allows to select some variables to be used\n",
    "X = df.loc[:,['V17','V12','V10','V14','Amount']]\n",
    "#X = df.loc[:,['V17','Amount']]\n",
    "#X = df.loc[:,['V17','V12','V16','V3','V7','V10','V14','Amount']]\n",
    "# Class is the target to predict (classify)\n",
    "y = df.Class\n",
    "\n",
    "# 2\n",
    "# Number of samples per class\n",
    "unique, counts = np.unique(y, return_counts=True)\n",
    "for i in range(0,len(unique)):\n",
    "  print('Class %i: Samples %i' % (unique[i], counts[i]) )\n",
    "\n",
    "# Number of attributes\n",
    "print('Number of attributes: %i' % (X.shape)[1])"
   ]
  },
  {
   "cell_type": "markdown",
   "metadata": {
    "id": "o929j70xwV0f"
   },
   "source": [
    "# 3. Entrenamiento del clasificador\n",
    "\n",
    "1. El conjunto de datos se separa en entrenamiento y test.\n",
    "2. Se selecciona y entrena un clasificador.\n",
    "3. Métricas de performance\n",
    "\n"
   ]
  },
  {
   "cell_type": "code",
   "execution_count": 123,
   "metadata": {
    "colab": {
     "base_uri": "https://localhost:8080/"
    },
    "id": "546_qM25KkSJ",
    "outputId": "f4e670a5-7be4-4f23-ffa5-c90b42bf2d41"
   },
   "outputs": [
    {
     "data": {
      "text/plain": [
       "GaussianNB()"
      ]
     },
     "execution_count": 123,
     "metadata": {},
     "output_type": "execute_result"
    }
   ],
   "source": [
    "# Classifier\n",
    "from sklearn.metrics import confusion_matrix\n",
    "from sklearn.model_selection import train_test_split\n",
    "from sklearn.naive_bayes import GaussianNB\n",
    "from sklearn.neighbors import KNeighborsClassifier\n",
    "from sklearn.linear_model import LogisticRegression\n",
    "from sklearn.tree import DecisionTreeClassifier\n",
    "\n",
    "# 1\n",
    "# Split train and test \n",
    "# stratify=y means the same % of classes is present in train and test\n",
    "X_train, X_test, y_train, y_test = train_test_split(X, y, test_size=0.5, random_state=0, stratify=y)\n",
    "\n",
    "# 2\n",
    "#\n",
    "# Selection of classifier\n",
    "#\n",
    "#clf = KNeighborsClassifier(n_neighbors=5)\n",
    "#clf = KNeighborsClassifier(n_neighbors=10)\n",
    "#clf = DecisionTreeClassifier( random_state=1234,max_depth =4 , max_leaf_nodes=10)\n",
    "#clf = LogisticRegression(solver='lbfgs',max_iter=500)\n",
    "clf = GaussianNB()\n",
    "\n",
    "# Train classifier\n",
    "clf.fit(X_train,y_train)\n",
    "\n",
    "# Opcional: Sirve para visualizar las probabilidades a \n",
    "# Priors GuassianNB\n",
    "#print( clf.class_prior_ )\n",
    "\n",
    "# Opcional: Visualización de los coeficientes de regresión logística.\n",
    "# Coefs Logistic Regression\n",
    "# print( clf.coef_ )"
   ]
  },
  {
   "cell_type": "markdown",
   "metadata": {
    "id": "711Fe_D8mZQ7"
   },
   "source": [
    "# 4. Evaluación"
   ]
  },
  {
   "cell_type": "code",
   "execution_count": 124,
   "metadata": {
    "colab": {
     "base_uri": "https://localhost:8080/"
    },
    "id": "7RTbWpysmbt9",
    "outputId": "16ebf01c-8e81-4b2e-c4cb-a66f020f8806"
   },
   "outputs": [
    {
     "name": "stdout",
     "output_type": "stream",
     "text": [
      " Confusion matrix ------------------\n",
      "[[140724   1434]\n",
      " [    42    204]]\n",
      "\n",
      " % Corr ----------------------------\n",
      "98.96351226089155\n",
      "\n",
      " Classification report ------------------\n",
      "Class 0 (Fraud) {'precision': 0.12454212454212454, 'recall': 0.8292682926829268, 'f1-score': 0.2165605095541401, 'support': 246}: \n",
      "Class 1 (Valid) {'precision': 0.9997016324964835, 'recall': 0.9899126324230786, 'f1-score': 0.9947830512787886, 'support': 142158}: \n",
      "\n",
      " Amount ------------------ \n",
      " Detected = 21864.330000, Total = 30229.360000, Percentage = 72.328127\n"
     ]
    }
   ],
   "source": [
    "# 3\n",
    "# Confusion matrix\n",
    "y_pred = clf.predict(X_test)\n",
    "cm = confusion_matrix(y_test, y_pred)\n",
    "\n",
    "print(' Confusion matrix ------------------')\n",
    "print(cm)\n",
    "\n",
    "sum_diag = sum(cm[i][i] for i in range(2))\n",
    "sum_all = sum(sum(cm))\n",
    "\n",
    "print('\\n % Corr ----------------------------')\n",
    "print( sum_diag/sum_all*100 )\n",
    "\n",
    "# Classification report\n",
    "from sklearn.metrics import classification_report\n",
    "target_names = ['1', '0']\n",
    "\n",
    "print('\\n Classification report ------------------')\n",
    "report = classification_report(y_test, y_pred, target_names=target_names,output_dict=True)\n",
    "print('Class 0 (Fraud) %s: ' % report['0'])\n",
    "print('Class 1 (Valid) %s: ' % report['1'])\n",
    "\n",
    "# Amount of fraud detected\n",
    "a = X_test.Amount\n",
    "# TP \n",
    "ind = (y_pred == 1) & (y_test == 1)\n",
    "# Amount for TP\n",
    "amount_detected = np.sum( a[ ind ] ) \n",
    "# Total amount of fraud\n",
    "ind = (y_test == 1)\n",
    "amount_total = np.sum( a[ ind ] ) \n",
    "\n",
    "print('\\n Amount ------------------ \\n Detected = %f, Total = %f, Percentage = %f' % (amount_detected, amount_total, (amount_detected/amount_total)*100))"
   ]
  },
  {
   "cell_type": "code",
   "execution_count": 23,
   "metadata": {},
   "outputs": [
    {
     "data": {
      "image/png": "[encoded data removed]",
      "text/plain": [
       "<Figure size 432x288 with 1 Axes>"
      ]
     },
     "metadata": {},
     "output_type": "display_data"
    }
   ],
   "source": [
    "cm1 = cm\n",
    "fig, ax = plt.subplots()\n",
    "ax.imshow(cm)\n",
    "ax.grid(False)\n",
    "ax.xaxis.set(ticks=(0, 1), ticklabels=('Pred no fraude', 'Pred fraude'))\n",
    "ax.yaxis.set(ticks=(0, 1), ticklabels=('No fraude Real', 'Fraude real'))\n",
    "ax.set_ylim(1.5, -0.5)\n",
    "for i in range(2):\n",
    "    for j in range(2):\n",
    "        ax.text(j, i, cm[i, j], ha='center', va='center', color='red')\n",
    "plt.show()"
   ]
  },
  {
   "cell_type": "code",
   "execution_count": 57,
   "metadata": {},
   "outputs": [
    {
     "data": {
      "image/png": "[encoded data removed]",
      "text/plain": [
       "<Figure size 432x288 with 1 Axes>"
      ]
     },
     "metadata": {},
     "output_type": "display_data"
    }
   ],
   "source": [
    "cm2 = cm\n",
    "fig, ax = plt.subplots()\n",
    "ax.imshow(cm)\n",
    "ax.grid(False)\n",
    "ax.xaxis.set(ticks=(0, 1), ticklabels=('Pred no fraude', 'Pred fraude'))\n",
    "ax.yaxis.set(ticks=(0, 1), ticklabels=('No fraude Real', 'Fraude real'))\n",
    "ax.set_ylim(1.5, -0.5)\n",
    "for i in range(2):\n",
    "    for j in range(2):\n",
    "        ax.text(j, i, cm[i, j], ha='center', va='center', color='red')\n",
    "plt.show()"
   ]
  },
  {
   "cell_type": "code",
   "execution_count": 62,
   "metadata": {},
   "outputs": [
    {
     "name": "stdout",
     "output_type": "stream",
     "text": [
      "D Tree classifier 1\n"
     ]
    },
    {
     "data": {
      "image/png": "[encoded data removed]",
      "text/plain": [
       "<Figure size 432x288 with 1 Axes>"
      ]
     },
     "metadata": {},
     "output_type": "display_data"
    }
   ],
   "source": [
    "cm3 = cm\n",
    "print('D Tree classifier 1')\n",
    "fig, ax = plt.subplots()\n",
    "ax.imshow(cm)\n",
    "ax.grid(False)\n",
    "ax.xaxis.set(ticks=(0, 1), ticklabels=('Pred no fraude', 'Pred fraude'))\n",
    "ax.yaxis.set(ticks=(0, 1), ticklabels=('No fraude Real', 'Fraude real'))\n",
    "ax.set_ylim(1.5, -0.5)\n",
    "for i in range(2):\n",
    "    for j in range(2):\n",
    "        ax.text(j, i, cm[i, j], ha='center', va='center', color='red')\n",
    "plt.show()"
   ]
  },
  {
   "cell_type": "markdown",
   "metadata": {},
   "source": [
    "Mas error al predecir el no fraude."
   ]
  },
  {
   "cell_type": "code",
   "execution_count": 51,
   "metadata": {},
   "outputs": [
    {
     "name": "stdout",
     "output_type": "stream",
     "text": [
      "D Tree classifier 2\n"
     ]
    },
    {
     "data": {
      "image/png": "[encoded data removed]",
      "text/plain": [
       "<Figure size 432x288 with 1 Axes>"
      ]
     },
     "metadata": {},
     "output_type": "display_data"
    }
   ],
   "source": [
    "cm4 = cm\n",
    "print('D Tree classifier 2')\n",
    "fig, ax = plt.subplots()\n",
    "ax.imshow(cm)\n",
    "ax.grid(False)\n",
    "ax.xaxis.set(ticks=(0, 1), ticklabels=('Pred no fraude', 'Pred fraude'))\n",
    "ax.yaxis.set(ticks=(0, 1), ticklabels=('No fraude Real', 'Fraude real'))\n",
    "ax.set_ylim(1.5, -0.5)\n",
    "for i in range(2):\n",
    "    for j in range(2):\n",
    "        ax.text(j, i, cm[i, j], ha='center', va='center', color='red')\n",
    "plt.show()"
   ]
  },
  {
   "cell_type": "code",
   "execution_count": 76,
   "metadata": {},
   "outputs": [
    {
     "name": "stdout",
     "output_type": "stream",
     "text": [
      "\n",
      "Regresión logística 1\n",
      "\n"
     ]
    },
    {
     "data": {
      "image/png": "[encoded data removed]",
      "text/plain": [
       "<Figure size 432x288 with 1 Axes>"
      ]
     },
     "metadata": {},
     "output_type": "display_data"
    }
   ],
   "source": [
    "cm5 = cm\n",
    "print('\\nRegresión logística 1\\n')\n",
    "fig, ax = plt.subplots()\n",
    "ax.imshow(cm)\n",
    "ax.grid(False)\n",
    "ax.xaxis.set(ticks=(0, 1), ticklabels=('Pred no fraude', 'Pred fraude'))\n",
    "ax.yaxis.set(ticks=(0, 1), ticklabels=('No fraude Real', 'Fraude real'))\n",
    "ax.set_ylim(1.5, -0.5)\n",
    "for i in range(2):\n",
    "    for j in range(2):\n",
    "        ax.text(j, i, cm[i, j], ha='center', va='center', color='red')\n",
    "plt.show()"
   ]
  },
  {
   "cell_type": "code",
   "execution_count": 72,
   "metadata": {},
   "outputs": [
    {
     "name": "stdout",
     "output_type": "stream",
     "text": [
      "\n",
      "Regresión logística 2\n",
      "\n"
     ]
    },
    {
     "data": {
      "image/png": "[encoded data removed]",
      "text/plain": [
       "<Figure size 432x288 with 1 Axes>"
      ]
     },
     "metadata": {},
     "output_type": "display_data"
    }
   ],
   "source": [
    "cm6 = cm\n",
    "print('\\nRegresión logística 2\\n')\n",
    "fig, ax = plt.subplots()\n",
    "ax.imshow(cm)\n",
    "ax.grid(False)\n",
    "ax.xaxis.set(ticks=(0, 1), ticklabels=('Pred no fraude', 'Pred fraude'))\n",
    "ax.yaxis.set(ticks=(0, 1), ticklabels=('No fraude Real', 'Fraude real'))\n",
    "ax.set_ylim(1.5, -0.5)\n",
    "for i in range(2):\n",
    "    for j in range(2):\n",
    "        ax.text(j, i, cm[i, j], ha='center', va='center', color='red')\n",
    "plt.show()"
   ]
  },
  {
   "cell_type": "code",
   "execution_count": 97,
   "metadata": {},
   "outputs": [
    {
     "name": "stdout",
     "output_type": "stream",
     "text": [
      "\n",
      " Naive Bayes 1\n",
      "\n"
     ]
    },
    {
     "data": {
      "image/png": "[encoded data removed]",
      "text/plain": [
       "<Figure size 432x288 with 1 Axes>"
      ]
     },
     "metadata": {},
     "output_type": "display_data"
    }
   ],
   "source": [
    "cm7 = cm\n",
    "print('\\n Naive Bayes 1\\n')\n",
    "fig, ax = plt.subplots()\n",
    "ax.imshow(cm)\n",
    "ax.grid(False)\n",
    "ax.xaxis.set(ticks=(0, 1), ticklabels=('Pred no fraude', 'Pred fraude'))\n",
    "ax.yaxis.set(ticks=(0, 1), ticklabels=('No fraude Real', 'Fraude real'))\n",
    "ax.set_ylim(1.5, -0.5)\n",
    "for i in range(2):\n",
    "    for j in range(2):\n",
    "        ax.text(j, i, cm[i, j], ha='center', va='center', color='red')\n",
    "plt.show()"
   ]
  },
  {
   "cell_type": "code",
   "execution_count": 87,
   "metadata": {},
   "outputs": [
    {
     "name": "stdout",
     "output_type": "stream",
     "text": [
      "\n",
      " Naive Balles 2\n",
      "\n"
     ]
    },
    {
     "data": {
      "image/png": "[encoded data removed]",
      "text/plain": [
       "<Figure size 432x288 with 1 Axes>"
      ]
     },
     "metadata": {},
     "output_type": "display_data"
    }
   ],
   "source": [
    "cm8 = cm\n",
    "print('\\n Naive Bayes 2\\n')\n",
    "fig, ax = plt.subplots()\n",
    "ax.imshow(cm)\n",
    "ax.grid(False)\n",
    "ax.xaxis.set(ticks=(0, 1), ticklabels=('Pred no fraude', 'Pred fraude'))\n",
    "ax.yaxis.set(ticks=(0, 1), ticklabels=('No fraude Real', 'Fraude real'))\n",
    "ax.set_ylim(1.5, -0.5)\n",
    "for i in range(2):\n",
    "    for j in range(2):\n",
    "        ax.text(j, i, cm[i, j], ha='center', va='center', color='red')\n",
    "plt.show()"
   ]
  },
  {
   "cell_type": "code",
   "execution_count": 101,
   "metadata": {},
   "outputs": [
    {
     "name": "stdout",
     "output_type": "stream",
     "text": [
      "\n",
      " Naive Bayes 2\n",
      "\n"
     ]
    },
    {
     "data": {
      "image/png": "[encoded data removed]",
      "text/plain": [
       "<Figure size 432x288 with 1 Axes>"
      ]
     },
     "metadata": {},
     "output_type": "display_data"
    }
   ],
   "source": [
    "cm9 = cm\n",
    "print('\\n Naive Bayes 2\\n')\n",
    "fig, ax = plt.subplots()\n",
    "ax.imshow(cm)\n",
    "ax.grid(False)\n",
    "ax.xaxis.set(ticks=(0, 1), ticklabels=('Pred no fraude', 'Pred fraude'))\n",
    "ax.yaxis.set(ticks=(0, 1), ticklabels=('No fraude Real', 'Fraude real'))\n",
    "ax.set_ylim(1.5, -0.5)\n",
    "for i in range(2):\n",
    "    for j in range(2):\n",
    "        ax.text(j, i, cm[i, j], ha='center', va='center', color='red')\n",
    "plt.show()"
   ]
  },
  {
   "cell_type": "markdown",
   "metadata": {},
   "source": [
    "En nuestras matrices de confusión:\n",
    "\n",
    "- TP: No defraudadores predichos bien\n",
    "- TN: Defraudadores predichos como defraudadores\n",
    "- FP: Defraudadores predichos como NO defraudadores (peligroso)\n",
    "- FN: No son defraudadores pero son predichos como defraudadores\n",
    "- Precision: De todos los que no han defraudado (positive), cuáles son los que realmente no han defraudaado\n",
    "- Recall: De todos los que no han defraudado, qué porcentaje fué predicho bien "
   ]
  },
  {
   "cell_type": "code",
   "execution_count": null,
   "metadata": {},
   "outputs": [],
   "source": []
  },
  {
   "cell_type": "code",
   "execution_count": 121,
   "metadata": {},
   "outputs": [
    {
     "name": "stdout",
     "output_type": "stream",
     "text": [
      "Classification Report:\n",
      "              precision    recall  f1-score   support\n",
      "\n",
      "           0       1.00      1.00      1.00    142158\n",
      "           1       0.85      0.41      0.55       246\n",
      "\n",
      "    accuracy                           1.00    142404\n",
      "   macro avg       0.92      0.71      0.78    142404\n",
      "weighted avg       1.00      1.00      1.00    142404\n",
      "\n"
     ]
    }
   ],
   "source": [
    "print(\"Classification Report:\")\n",
    "print(classification_report(y_test, y_pred))"
   ]
  },
  {
   "cell_type": "code",
   "execution_count": 167,
   "metadata": {
    "tags": []
   },
   "outputs": [
    {
     "name": "stdout",
     "output_type": "stream",
     "text": [
      " Confusion matrix ------------------\n",
      "[[142124     34]\n",
      " [    61    185]]\n",
      "\n",
      " % Corr ----------------------------\n",
      "99.93328839077554\n",
      "\n",
      " Classification report ------------------\n",
      "Class 0 (Fraud) {'precision': 0.8447488584474886, 'recall': 0.7520325203252033, 'f1-score': 0.7956989247311829, 'support': 246}: \n",
      "Class 1 (Valid) {'precision': 0.999570981467806, 'recall': 0.9997608294995709, 'f1-score': 0.9996658964701083, 'support': 142158}: \n",
      "\n",
      " Amount ------------------ \n",
      " Detected = 19504.530000, Total = 30229.360000, Percentage = 64.521809\n"
     ]
    }
   ],
   "source": [
    "X = df.loc[:,['V17','V12','V10','V14','Amount']]\n",
    "#X = df.loc[:,['V17','Amount']]\n",
    "y = df.Class\n",
    "# Classifier\n",
    "from sklearn.metrics import confusion_matrix\n",
    "from sklearn.model_selection import train_test_split\n",
    "from sklearn.naive_bayes import GaussianNB\n",
    "from sklearn.neighbors import KNeighborsClassifier\n",
    "from sklearn.linear_model import LogisticRegression\n",
    "from sklearn.tree import DecisionTreeClassifier\n",
    "\n",
    "# 1\n",
    "# Split train and test \n",
    "# stratify=y means the same % of classes is present in train and test\n",
    "X_train, X_test, y_train, y_test = train_test_split(X, y, test_size=0.5, random_state=0, stratify=y)\n",
    "\n",
    "# 2\n",
    "#\n",
    "# Selection of classifier\n",
    "#\n",
    "#clf = KNeighborsClassifier(n_neighbors=5)\n",
    "#clf = KNeighborsClassifier(n_neighbors=10)\n",
    "clf = DecisionTreeClassifier( random_state=1234,\n",
    "                             max_depth =4 , # Max profundidad\n",
    "                             max_leaf_nodes=10 # Max nº nodos terminales\n",
    "                            )\n",
    "#clf = LogisticRegression(solver='lbfgs',max_iter=500)\n",
    "#clf = GaussianNB()\n",
    "\n",
    "# Train classifier\n",
    "clf.fit(X_train,y_train)\n",
    "# 3\n",
    "# Confusion matrix\n",
    "y_pred = clf.predict(X_test)\n",
    "cm = confusion_matrix(y_test, y_pred)\n",
    "\n",
    "print(' Confusion matrix ------------------')\n",
    "print(cm)\n",
    "\n",
    "sum_diag = sum(cm[i][i] for i in range(2))\n",
    "sum_all = sum(sum(cm))\n",
    "\n",
    "print('\\n % Corr ----------------------------')\n",
    "print( sum_diag/sum_all*100 )\n",
    "\n",
    "# Classification report\n",
    "from sklearn.metrics import classification_report\n",
    "target_names = ['1', '0']\n",
    "\n",
    "print('\\n Classification report ------------------')\n",
    "report = classification_report(y_test, y_pred, target_names=target_names,output_dict=True)\n",
    "print('Class 0 (Fraud) %s: ' % report['0'])\n",
    "print('Class 1 (Valid) %s: ' % report['1'])\n",
    "\n",
    "# Amount of fraud detected\n",
    "a = X_test.Amount\n",
    "# TP \n",
    "ind = (y_pred == 1) & (y_test == 1)\n",
    "# Amount for TP\n",
    "amount_detected = np.sum( a[ ind ] ) \n",
    "# Total amount of fraud\n",
    "ind = (y_test == 1)\n",
    "amount_total = np.sum( a[ ind ] ) \n",
    "\n",
    "print('\\n Amount ------------------ \\n Detected = %f, Total = %f, Percentage = %f' % (amount_detected, amount_total, (amount_detected/amount_total)*100))"
   ]
  },
  {
   "cell_type": "markdown",
   "metadata": {},
   "source": [
    "Variables predictoras: \n",
    "\n",
    "\n",
    "| Features | Target | Model | Hyperparam. | Acc. | F1 Score| Precision | Recall | % Fr detectado(recal para fraude) | FP | FN | % monto Fraude|\n",
    "---------- | ------ | ----- | ----------- | ---- | ------- | --------- | ------ | --------------------------------- | -- | -- | ------ | \n",
    "| V17, Amount | Class | KNN  | Nº vecinos=5     | 99.88% | 99.94%/55% | 99.898%/84.87% | 99.98/41%|  41 % | 18 | *145* | 11.67 |\n",
    "| V17,V14, V12, V10,Amount| Class | KNN  | Nº vecinos=10     | 99.91% | 99.95%/67% | 99.91%/93% | 100/52%|  52 % | 10 | *118* | 11.02 | \n",
    "| V17, Amount | Class | DT Classifier  |   Max_depth: 4  random_state=1234  max_leaf_nodes=10  | 99.89% | 99.95%/64% | 99.91%/83% | 99.98/52%|  52 % | 26 | *119* | 43.21 |\n",
    "| V17,V14, V12, V10,Amount | Class | DT Classifier  | Max_depth: 4  random_state=1234  max_leaf_nodes=10|   99.93% | 99.97%/80% | 99.96%/84% | 99.98/75%|  75 % | 34 | *61* |64.52 |\n",
    "| V17, Amount| Class |Logistic Regression  |  solver='lbfgs',max_iter=500  | 99.88% | 99.94%/55% | 99.9%/81% | 99.98/41%|  41 % | 23 | *145* | 33.75 |\n",
    "| V17,V14, V12, V10,Amount| Class |Logistic Regression  |  solver='lbfgs',max_iter=500  | 99.91% | 99.95%/68% | 99.92%/86% | 99.98/56%|  56 % | 22 | *108* | 45.49 |\n",
    "| V17, Amount| Class |GaussianNB  |  -               | 99.506% | 99.75%/32% | 99.94%/21% | 99.65/67%|  67 % | 622 | *81* | 60.43 |\n",
    "| V17,V14, V12, V10,Amount| Class |GaussianNB  |  -  | 98.96% | 99.47%/22% | 99.97%/12% | 98.99/83%|  83 % | 1434 | *42* | 72.32 |\n"
   ]
  },
  {
   "cell_type": "markdown",
   "metadata": {
    "id": "BN0t9c7uMU_s"
   },
   "source": [
    "# Ejercicio\n",
    "\n",
    "El objetivo del ejercicio es comparar diferentes clasificadores para el problema de detección de fraude. \n",
    "\n",
    "Para cada clasificador se deberán evaluar los indicadores: FN, FP, precision, recall, % de monto de fraude detectado. Se sugiere visualizar las matrices de confusión para poder evaluar los diferentes clasificadores en conjunto con los demás indicadores mencionados antes.\n",
    "\n",
    "## Clasificadores\n",
    "1. Vecinos más cercanos\n",
    "2. Decision Trees\n",
    "\n",
    "\n",
    "Probar un balanceo de datos -> 10/1 ; 20/1 ; cuidado con testeo, hay que testear con las proporciones originales, no con las del balanceo (oversampling a la clase minoritaria)\n",
    "\n",
    "\n"
   ]
  },
  {
   "cell_type": "markdown",
   "metadata": {},
   "source": [
    "\n",
    "## Balanceo de datos\n",
    "Nos encontramos ante un conjunto de datos no balanceados, claramente tenemos una clase minoritaria (No pagadores) y una mayoritaria (pagadores)\n",
    "\n",
    "Para tratar de minimizar este problema, y obtener así un modelo mas eficiente, existen tres técnicas para tratar de corregirlo : \n",
    "\n",
    "- Oversampling: duplicar entradas de la clase minoritaria\n",
    "- Undersampling: eliminar entradas de la clase mayoritaria\n",
    "- Mezclar ambos\n",
    "\n",
    "Trataremos así de que la clase minoritaria (impagos) y la mayoritaria (pagos) obtengan la misma (o más equilibrada ) representación en mi muestra de datos para la construcción del modelo, para obtener así un equilibrio de las diagonales de mi matriz de confusión, es decir, que el acierto y el no acierto sean similares.\n",
    "\n",
    "El construir modelos con los datos no balanceados podria llevarnos a no clasificar bien a la clase minoritaria, por lo que vamos a emplear estas técnicas de balanceo de datos (oversampling, undersampling y balanceo mixto) para tratar de evitar que nuestro modelo clasifique mejor a una clase que a otra."
   ]
  },
  {
   "cell_type": "code",
   "execution_count": 127,
   "metadata": {},
   "outputs": [],
   "source": [
    "# balanceo de datos\n",
    "from imblearn.over_sampling import RandomOverSampler\n",
    "from imblearn.under_sampling import RandomUnderSampler\n",
    "from collections import Counter"
   ]
  },
  {
   "cell_type": "code",
   "execution_count": 125,
   "metadata": {},
   "outputs": [
    {
     "name": "stdout",
     "output_type": "stream",
     "text": [
      "Datos de entrenamiento y testeo:\n",
      "Train: (142403, 5) (142404, 5)\n",
      "Test:  (142403,) (142404,)\n"
     ]
    }
   ],
   "source": [
    "# Split en datos de entrenamiento y test\n",
    "\n",
    "X = df.loc[:,['V17','V12','V10','V14','Amount']]\n",
    "y = df.Class\n",
    "X_train, X_test, y_train, y_test = train_test_split(X, y, test_size=0.5, random_state=0, stratify=y)\n",
    "\n",
    "print('Datos de entrenamiento y testeo:')\n",
    "print('Train:', X_train.shape, X_test.shape )\n",
    "print('Test: ', y_train.shape, y_test.shape)"
   ]
  },
  {
   "cell_type": "code",
   "execution_count": 133,
   "metadata": {},
   "outputs": [
    {
     "name": "stdout",
     "output_type": "stream",
     "text": [
      "Counter({0: 142157, 1: 246})\n",
      "Porcentaje de pagadores 99.82725083038981\n",
      "Porcentaje de defraudadores 0.1727491696101908\n"
     ]
    }
   ],
   "source": [
    "# Contamos los datos\n",
    "from sklearn import preprocessing\n",
    "label_encoder = preprocessing.LabelEncoder()\n",
    "y_train=y_train.astype('str')\n",
    "y_train= label_encoder.fit_transform(y_train)\n",
    "\n",
    "\n",
    "print(Counter(y_train))\n",
    "print(\"Porcentaje de pagadores\",(142157/142403*100))\n",
    "print(\"Porcentaje de defraudadores\",( 246/142403*100))"
   ]
  },
  {
   "cell_type": "markdown",
   "metadata": {},
   "source": [
    "Ni un 1% de defraudadores."
   ]
  },
  {
   "cell_type": "markdown",
   "metadata": {},
   "source": [
    "### Balanceo con Undersampling"
   ]
  },
  {
   "cell_type": "code",
   "execution_count": 134,
   "metadata": {},
   "outputs": [
    {
     "name": "stdout",
     "output_type": "stream",
     "text": [
      "Counter({0: 246, 1: 246})\n"
     ]
    }
   ],
   "source": [
    "# Undersampling de la clase mayoritaria\n",
    "\n",
    "Balanceo = RandomUnderSampler()\n",
    "X_train_BAL ,  Y_train_BAL = Balanceo.fit_resample(X_train ,y_train)\n",
    "print(Counter(Y_train_BAL))"
   ]
  },
  {
   "cell_type": "markdown",
   "metadata": {},
   "source": [
    "### Balanceo con Oversampling"
   ]
  },
  {
   "cell_type": "code",
   "execution_count": 168,
   "metadata": {},
   "outputs": [
    {
     "name": "stdout",
     "output_type": "stream",
     "text": [
      "Counter({0: 142157, 1: 142157})\n"
     ]
    }
   ],
   "source": [
    "# Oversampling de la claase minoritaria\n",
    "Balanceo = RandomOverSampler()\n",
    "X_train_Over ,  Y_train_Over = Balanceo.fit_resample(X_train ,y_train)\n",
    "print(Counter(Y_train_Over))"
   ]
  },
  {
   "cell_type": "markdown",
   "metadata": {},
   "source": [
    "### Balanceo combinado"
   ]
  },
  {
   "cell_type": "code",
   "execution_count": 169,
   "metadata": {},
   "outputs": [
    {
     "name": "stdout",
     "output_type": "stream",
     "text": [
      "Oversampled: Counter({0: 142157, 1: 85294})\n",
      "Balanceo Mixto: Counter({0: 106617, 1: 85294})\n"
     ]
    }
   ],
   "source": [
    "over =  RandomOverSampler(sampling_strategy = 0.6) \n",
    "under =  RandomUnderSampler(sampling_strategy = 0.8) \n",
    "\n",
    "# oversampling a la clase minoritaria (fraude)\n",
    "X_train_Over2 ,  y_train_Over2 = over.fit_resample(X_train ,  y_train)\n",
    "print(\"Oversampled:\" ,Counter(y_train_Over2))# doble de pagadores \n",
    "\n",
    "\n",
    "\n",
    "# combinación con undersampling\n",
    "\n",
    "X_train_BalanC ,  y_train_BalanC = under.fit_resample(X_train_Over2 ,  y_train_Over2)\n",
    "\n",
    "print(\"Balanceo Mixto:\" ,Counter(y_train_BalanC)) # proporción de defraudadores"
   ]
  },
  {
   "cell_type": "markdown",
   "metadata": {},
   "source": [
    "Ya tenemos los datos preparados para entrenar nuestros modelos y estudiar las matrices de confusión, a ver si conseguimos que las diagonales estén equilibradas."
   ]
  },
  {
   "cell_type": "markdown",
   "metadata": {},
   "source": [
    "## Modelado con balanceo"
   ]
  },
  {
   "cell_type": "code",
   "execution_count": null,
   "metadata": {},
   "outputs": [],
   "source": []
  },
  {
   "cell_type": "code",
   "execution_count": 170,
   "metadata": {
    "colab": {
     "base_uri": "https://localhost:8080/"
    },
    "id": "546_qM25KkSJ",
    "outputId": "f4e670a5-7be4-4f23-ffa5-c90b42bf2d41"
   },
   "outputs": [
    {
     "data": {
      "text/plain": [
       "KNeighborsClassifier(n_neighbors=10)"
      ]
     },
     "execution_count": 170,
     "metadata": {},
     "output_type": "execute_result"
    }
   ],
   "source": [
    "# Classifier\n",
    "from sklearn.metrics import confusion_matrix\n",
    "from sklearn.model_selection import train_test_split\n",
    "from sklearn.naive_bayes import GaussianNB\n",
    "from sklearn.neighbors import KNeighborsClassifier\n",
    "from sklearn.linear_model import LogisticRegression\n",
    "from sklearn.tree import DecisionTreeClassifier\n",
    "\n",
    "# 1\n",
    "# Split train and test \n",
    "# stratify=y means the same % of classes is present in train and test\n",
    "# YA LAS TENEMOS\n",
    "# 2\n",
    "#\n",
    "# Selection of classifier\n",
    "#\n",
    "#clf = KNeighborsClassifier(n_neighbors=5)\n",
    "clf = KNeighborsClassifier(n_neighbors=10)\n",
    "#clf = DecisionTreeClassifier( random_state=1234,max_depth =4 , max_leaf_nodes=10)\n",
    "#clf = LogisticRegression(solver='lbfgs',max_iter=500)\n",
    "#clf = GaussianNB()\n",
    "\n",
    "# Train classifier: ENTRENAMOS CON LOS DATOS BALANCEADOS\n",
    "clf.fit(X_train_BalanC ,  y_train_BalanC)"
   ]
  },
  {
   "cell_type": "markdown",
   "metadata": {
    "id": "711Fe_D8mZQ7"
   },
   "source": [
    "# 4. Evaluación"
   ]
  },
  {
   "cell_type": "code",
   "execution_count": 171,
   "metadata": {
    "colab": {
     "base_uri": "https://localhost:8080/"
    },
    "id": "7RTbWpysmbt9",
    "outputId": "16ebf01c-8e81-4b2e-c4cb-a66f020f8806"
   },
   "outputs": [
    {
     "name": "stdout",
     "output_type": "stream",
     "text": [
      " Confusion matrix ------------------\n",
      "[[141958    200]\n",
      " [    62    184]]\n",
      "\n",
      " % Corr ----------------------------\n",
      "99.81601640403359\n",
      "\n",
      " Classification report ------------------\n",
      "Class 0 (Fraud) {'precision': 0.4791666666666667, 'recall': 0.7479674796747967, 'f1-score': 0.5841269841269842, 'support': 246}: \n",
      "Class 1 (Valid) {'precision': 0.999563441768765, 'recall': 0.9985931147033582, 'f1-score': 0.9990780426352497, 'support': 142158}: \n",
      "\n",
      " Amount ------------------ \n",
      " Detected = 12096.520000, Total = 30229.360000, Percentage = 40.015799\n"
     ]
    }
   ],
   "source": [
    "# 3\n",
    "# Confusion matrix\n",
    "y_pred = clf.predict(X_test)\n",
    "# PREDECIMOS EN LOS DATOS NO BALANCEADOS: MUY IMPORTANTE!!\n",
    "cm = confusion_matrix(y_test, y_pred)\n",
    "\n",
    "print(' Confusion matrix ------------------')\n",
    "print(cm)\n",
    "\n",
    "sum_diag = sum(cm[i][i] for i in range(2))\n",
    "sum_all = sum(sum(cm))\n",
    "\n",
    "print('\\n % Corr ----------------------------')\n",
    "print( sum_diag/sum_all*100 )\n",
    "\n",
    "# Classification report\n",
    "from sklearn.metrics import classification_report\n",
    "target_names = ['1', '0']\n",
    "\n",
    "print('\\n Classification report ------------------')\n",
    "report = classification_report(y_test, y_pred, target_names=target_names,output_dict=True)\n",
    "print('Class 0 (Fraud) %s: ' % report['0'])\n",
    "print('Class 1 (Valid) %s: ' % report['1'])\n",
    "\n",
    "# Amount of fraud detected\n",
    "a = X_test.Amount\n",
    "# TP \n",
    "ind = (y_pred == 1) & (y_test == 1)\n",
    "# Amount for TP\n",
    "amount_detected = np.sum( a[ ind ] ) \n",
    "# Total amount of fraud\n",
    "ind = (y_test == 1)\n",
    "amount_total = np.sum( a[ ind ] ) \n",
    "\n",
    "print('\\n Amount ------------------ \\n Detected = %f, Total = %f, Percentage = %f' % (amount_detected, amount_total, (amount_detected/amount_total)*100))"
   ]
  },
  {
   "cell_type": "markdown",
   "metadata": {},
   "source": [
    "*Modelos con Balanceo de los datos mixto*\n",
    "\n",
    "| Features | Target | Model | Hyperparam. | Acc. | F1 Score| Precision | Recall | % Fr detectado(recal para fraude) | FN | FP |\n",
    "---------- | ------ | ----- | ----------- | ---- | ------- | --------- | ------ | --------------------------------- | -- | -- |\n",
    "| V17,V14, V12, V10,Amount| Class | KNN  | Nº vecinos=10     | 99.82% | 99.90%/59.10% | 99.95%/48.68% | 99.86/75.20%|  75.20 % | 61 | *195* | \n",
    "| V17,V14, V12, V10,Amount | Class | DT Classifier  | Max_depth: 4  random_state=1234  max_leaf_nodes=10|   99.18% | 99.58%/26% | 99.97%/15.41% | 99.20/83.74%|  83.74 % | 40 | *1131* | \n",
    "| V17,V14, V12, V10,Amount| Class |Logistic Regression  |  solver='lbfgs',max_iter=500  | 98.61% | 99.29%/17.54% | 99.97%/9.76% | 98.63/85.77%|  85.77 % | 35 | *1949* | \n",
    "| V17,V14, V12, V10,Amount| Class |GaussianNB  |  -  | 97.89% | 99.94%/12.21% | 99.97%/6.58% | 97.92/84.55%|  84.55 % | 38 | *2953* | \n",
    "\n",
    "\n",
    "\n"
   ]
  },
  {
   "cell_type": "markdown",
   "metadata": {},
   "source": [
    "Las métricas ya son mejores para predecir la clase minoritaria (fraude), y para la clase mayoritaria a penas varía."
   ]
  },
  {
   "cell_type": "code",
   "execution_count": null,
   "metadata": {},
   "outputs": [],
   "source": []
  },
  {
   "cell_type": "code",
   "execution_count": null,
   "metadata": {},
   "outputs": [],
   "source": []
  },
  {
   "cell_type": "code",
   "execution_count": null,
   "metadata": {},
   "outputs": [],
   "source": []
  },
  {
   "cell_type": "code",
   "execution_count": null,
   "metadata": {},
   "outputs": [],
   "source": []
  }
 ],
 "metadata": {
  "accelerator": "GPU",
  "colab": {
   "collapsed_sections": [],
   "include_colab_link": true,
   "provenance": []
  },
  "kernelspec": {
   "display_name": "Python 3",
   "language": "python",
   "name": "python3"
  },
  "language_info": {
   "codemirror_mode": {
    "name": "ipython",
    "version": 3
   },
   "file_extension": ".py",
   "mimetype": "text/x-python",
   "name": "python",
   "nbconvert_exporter": "python",
   "pygments_lexer": "ipython3",
   "version": "3.8.2"
  },
  "vscode": {
   "interpreter": {
    "hash": "aee8b7b246df8f9039afb4144a1f6fd8d2ca17a180786b69acc140d282b71a49"
   }
  }
 },
 "nbformat": 4,
 "nbformat_minor": 4
}
