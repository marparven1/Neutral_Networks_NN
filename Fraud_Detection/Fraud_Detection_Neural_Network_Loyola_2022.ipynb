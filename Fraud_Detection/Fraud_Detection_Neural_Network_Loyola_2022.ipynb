{
 "cells": [
  {
   "cell_type": "markdown",
   "metadata": {
    "id": "2Y0CUn60jZex"
   },
   "source": [
    "# Ejercicio: Detección de fraude\n",
    "Este ejercicio tiene por objetivo poner en práctica los conceptos las técnicas de aprendizaje supervisado y en particular clasificación. El ejercicio se divide en las siguientes secciones: \n",
    "1. exploración de los datos mediante técnicas estadísticas clásicas, \n",
    "2. selección de atributos, \n",
    "3. entrenamiento de diferentes clasificadores,\n",
    "4. evaluación."
   ]
  },
  {
   "cell_type": "markdown",
   "metadata": {
    "id": "XdA5nF8JvOQ0"
   },
   "source": [
    "# Librerías:\n",
    "Importamos todas las librerías que serán utilizadas para el ejercicio.\n",
    "\n",
    "\n"
   ]
  },
  {
   "cell_type": "code",
   "execution_count": 1,
   "metadata": {
    "colab": {
     "base_uri": "https://localhost:8080/"
    },
    "id": "W3f05yxKmKaS",
    "outputId": "40600158-e2ef-4d86-872f-f0ae82ca4029"
   },
   "outputs": [
    {
     "name": "stdout",
     "output_type": "stream",
     "text": [
      "\u001b[33mWARNING: Ignoring invalid distribution -andas (/opt/anaconda3/lib/python3.8/site-packages)\u001b[0m\u001b[33m\n",
      "\u001b[0m\u001b[33mWARNING: Ignoring invalid distribution -andas (/opt/anaconda3/lib/python3.8/site-packages)\u001b[0m\u001b[33m\n",
      "\u001b[0mRequirement already satisfied: gdown in /opt/anaconda3/lib/python3.8/site-packages (4.5.3)\n",
      "Requirement already satisfied: requests[socks] in /opt/anaconda3/lib/python3.8/site-packages (from gdown) (2.25.1)\n",
      "Requirement already satisfied: beautifulsoup4 in /opt/anaconda3/lib/python3.8/site-packages (from gdown) (4.9.3)\n",
      "Requirement already satisfied: six in /opt/anaconda3/lib/python3.8/site-packages (from gdown) (1.15.0)\n",
      "Requirement already satisfied: filelock in /opt/anaconda3/lib/python3.8/site-packages (from gdown) (3.0.12)\n",
      "Requirement already satisfied: tqdm in /opt/anaconda3/lib/python3.8/site-packages (from gdown) (4.59.0)\n",
      "Requirement already satisfied: soupsieve>1.2 in /opt/anaconda3/lib/python3.8/site-packages (from beautifulsoup4->gdown) (2.2.1)\n",
      "Requirement already satisfied: idna<3,>=2.5 in /opt/anaconda3/lib/python3.8/site-packages (from requests[socks]->gdown) (2.10)\n",
      "Requirement already satisfied: certifi>=2017.4.17 in /opt/anaconda3/lib/python3.8/site-packages (from requests[socks]->gdown) (2021.10.8)\n",
      "Requirement already satisfied: urllib3<1.27,>=1.21.1 in /opt/anaconda3/lib/python3.8/site-packages (from requests[socks]->gdown) (1.26.4)\n",
      "Requirement already satisfied: chardet<5,>=3.0.2 in /opt/anaconda3/lib/python3.8/site-packages (from requests[socks]->gdown) (4.0.0)\n",
      "Requirement already satisfied: PySocks!=1.5.7,>=1.5.6 in /opt/anaconda3/lib/python3.8/site-packages (from requests[socks]->gdown) (1.7.1)\n",
      "\u001b[33mWARNING: Ignoring invalid distribution -andas (/opt/anaconda3/lib/python3.8/site-packages)\u001b[0m\u001b[33m\n",
      "\u001b[0m\u001b[33mWARNING: Ignoring invalid distribution -andas (/opt/anaconda3/lib/python3.8/site-packages)\u001b[0m\u001b[33m\n",
      "\u001b[0m\u001b[33mWARNING: Ignoring invalid distribution -andas (/opt/anaconda3/lib/python3.8/site-packages)\u001b[0m\u001b[33m\n",
      "\u001b[0m\u001b[33mWARNING: Ignoring invalid distribution -andas (/opt/anaconda3/lib/python3.8/site-packages)\u001b[0m\u001b[33m\n",
      "\u001b[0m"
     ]
    }
   ],
   "source": [
    "# Import libs\n",
    "import pandas as pd\n",
    "import numpy as np\n",
    "import matplotlib.pyplot as plt\n",
    "import seaborn as sns\n",
    "!pip install --upgrade --no-cache-dir gdown"
   ]
  },
  {
   "cell_type": "markdown",
   "metadata": {
    "id": "Kc_0rl7zvV8t"
   },
   "source": [
    "# Datos:\n",
    "Descargamos los datos desde google drive a la instancia de google colab."
   ]
  },
  {
   "cell_type": "code",
   "execution_count": 2,
   "metadata": {
    "colab": {
     "base_uri": "https://localhost:8080/"
    },
    "id": "2AYoot6pBJQl",
    "outputId": "05009d3a-21ea-4129-df84-18913d68ccb2"
   },
   "outputs": [
    {
     "name": "stdout",
     "output_type": "stream",
     "text": [
      "/opt/anaconda3/lib/python3.8/site-packages/gdown/cli.py:121: FutureWarning: Option `--id` was deprecated in version 4.3.1 and will be removed in 5.0. You don't need to pass it anymore to use a file ID.\n",
      "  warnings.warn(\n",
      "Downloading...\n",
      "From: https://drive.google.com/uc?id=1bWFuwCD_elqw3_jzR1Xob1YMnu-c7HcF\n",
      "To: /Users/martavenegas/Desktop/LOYOLA/PrimerCuatri/Aprendizaje_Automatico/Clasificacion/MachineLearning_Classification/creditcard.csv\n",
      "100%|████████████████████████████████████████| 150M/150M [00:07<00:00, 19.3MB/s]\n"
     ]
    }
   ],
   "source": [
    "!gdown --id 1bWFuwCD_elqw3_jzR1Xob1YMnu-c7HcF"
   ]
  },
  {
   "cell_type": "code",
   "execution_count": 3,
   "metadata": {
    "id": "i-eiw-HRmt-g"
   },
   "outputs": [],
   "source": [
    "# Ref.: https://www.kaggle.com/isaikumar/creditcardfraud/version/1\n",
    "# Data frame with credit card data\n",
    "\n",
    "# Leemos el archivo CSV\n",
    "df = pd.read_csv( 'creditcard.csv' )"
   ]
  },
  {
   "cell_type": "markdown",
   "metadata": {
    "id": "mFNEal38vlV2"
   },
   "source": [
    "# 1. Análisis de los datos\n",
    "\n",
    "1.   Visualizamos la información del dataframe de datos.\n",
    "2.   Calculamos la correlación entre cada una de las variables y la clase. Cuanto más grande el valor de correlación en valor absoluto mayor es la correlación estadística entre la variable y la clase Class que contiene si la transacción es fraudulenta o legítima.\n"
   ]
  },
  {
   "cell_type": "code",
   "execution_count": 4,
   "metadata": {
    "colab": {
     "base_uri": "https://localhost:8080/"
    },
    "id": "wFZwJKCcn6fs",
    "outputId": "479da562-269b-415a-beaa-195d445b087c"
   },
   "outputs": [
    {
     "name": "stdout",
     "output_type": "stream",
     "text": [
      "(284807, 31)\n",
      "Index(['Time', 'V1', 'V2', 'V3', 'V4', 'V5', 'V6', 'V7', 'V8', 'V9', 'V10',\n",
      "       'V11', 'V12', 'V13', 'V14', 'V15', 'V16', 'V17', 'V18', 'V19', 'V20',\n",
      "       'V21', 'V22', 'V23', 'V24', 'V25', 'V26', 'V27', 'V28', 'Amount',\n",
      "       'Class'],\n",
      "      dtype='object')\n"
     ]
    },
    {
     "data": {
      "text/plain": [
       "Class     1.000000\n",
       "V17      -0.326481\n",
       "V14      -0.302544\n",
       "V12      -0.260593\n",
       "V10      -0.216883\n",
       "V16      -0.196539\n",
       "V3       -0.192961\n",
       "V7       -0.187257\n",
       "V11       0.154876\n",
       "V4        0.133447\n",
       "V18      -0.111485\n",
       "V1       -0.101347\n",
       "V9       -0.097733\n",
       "V5       -0.094974\n",
       "V2        0.091289\n",
       "V6       -0.043643\n",
       "V21       0.040413\n",
       "V19       0.034783\n",
       "V20       0.020090\n",
       "V8        0.019875\n",
       "V27       0.017580\n",
       "Time     -0.012323\n",
       "V28       0.009536\n",
       "V24      -0.007221\n",
       "Amount    0.005632\n",
       "V13      -0.004570\n",
       "V26       0.004455\n",
       "V15      -0.004223\n",
       "V25       0.003308\n",
       "V23      -0.002685\n",
       "V22       0.000805\n",
       "Name: Class, dtype: float64"
      ]
     },
     "execution_count": 4,
     "metadata": {},
     "output_type": "execute_result"
    }
   ],
   "source": [
    "# 1\n",
    "# Details on data\n",
    "print(df.shape)\n",
    "print(df.columns)\n",
    "\n",
    "# 2\n",
    "# Compute correlation of features with respect to Class\n",
    "# By default uses Pearson correlation that estimates linear correlation: \n",
    "# +1 or -1 linearly correlated, 0 non linear correlated\n",
    "df.corr()[\"Class\"].sort_values(key=abs,ascending=False)"
   ]
  },
  {
   "cell_type": "code",
   "execution_count": 5,
   "metadata": {
    "colab": {
     "base_uri": "https://localhost:8080/",
     "height": 367
    },
    "id": "E597GkWz2MXU",
    "outputId": "de357b43-3ae4-411e-8872-1dd0d136b2a9"
   },
   "outputs": [
    {
     "name": "stderr",
     "output_type": "stream",
     "text": [
      "/opt/anaconda3/lib/python3.8/site-packages/seaborn/distributions.py:2557: FutureWarning: `distplot` is a deprecated function and will be removed in a future version. Please adapt your code to use either `displot` (a figure-level function with similar flexibility) or `histplot` (an axes-level function for histograms).\n",
      "  warnings.warn(msg, FutureWarning)\n"
     ]
    },
    {
     "data": {
      "text/plain": [
       "Text(0, 0.5, 'Density')"
      ]
     },
     "execution_count": 5,
     "metadata": {},
     "output_type": "execute_result"
    },
    {
     "data": {
      "image/png": "[encoded data removed]",
      "text/plain": [
       "<Figure size 432x288 with 1 Axes>"
      ]
     },
     "metadata": {
      "needs_background": "light"
     },
     "output_type": "display_data"
    }
   ],
   "source": [
    "df_0 = df[ df['Class']==0 ]\n",
    "df_1 = df[ df['Class']==1 ]\n",
    "\n",
    "sns.distplot(df_1['V17'],  kde=False, label='Fraud', norm_hist=True, bins=50)\n",
    "sns.distplot(df_0['V17'],  kde=False, label='Valid', norm_hist=True, bins=50)\n",
    "\n",
    "plt.legend(prop={'size': 12})\n",
    "plt.title('Variable Distribution')\n",
    "plt.xlabel('Variable')\n",
    "plt.ylabel('Density')"
   ]
  },
  {
   "cell_type": "code",
   "execution_count": 6,
   "metadata": {
    "colab": {
     "base_uri": "https://localhost:8080/"
    },
    "id": "vF-p77bHEd4X",
    "outputId": "825d7b12-bd30-464c-f298-1b84c8f11708"
   },
   "outputs": [
    {
     "data": {
      "text/plain": [
       "<AxesSubplot:xlabel='V23', ylabel='V22'>"
      ]
     },
     "execution_count": 6,
     "metadata": {},
     "output_type": "execute_result"
    },
    {
     "data": {
      "image/png": "[encoded data removed]",
      "text/plain": [
       "<Figure size 432x288 with 1 Axes>"
      ]
     },
     "metadata": {
      "needs_background": "light"
     },
     "output_type": "display_data"
    }
   ],
   "source": [
    "sns.kdeplot(data=df_1, x=\"V23\", y=\"V22\", color=\"red\")\n",
    "sns.kdeplot(data=df_0.sample(frac=0.1), x=\"V23\", y=\"V22\", color=\"blue\") "
   ]
  },
  {
   "cell_type": "markdown",
   "metadata": {
    "id": "9ccQZwfav2jY"
   },
   "source": [
    "# 2. Selección de atributos\n",
    "1. Seleccionamos los atributos (características) a ser utilizadas. Dentro de los atributos $X$ no debe estar la clase $Class$.\n",
    "2. Verificamos la cantidad de muestras de cada clase."
   ]
  },
  {
   "cell_type": "code",
   "execution_count": 67,
   "metadata": {
    "colab": {
     "base_uri": "https://localhost:8080/"
    },
    "id": "OK_BZmeErAzQ",
    "outputId": "1345443f-dfc2-4205-d40c-851c173e9c1d"
   },
   "outputs": [
    {
     "name": "stdout",
     "output_type": "stream",
     "text": [
      "Class 0: Samples 284315\n",
      "Class 1: Samples 492\n",
      "Number of attributes: 6\n"
     ]
    }
   ],
   "source": [
    "# 1\n",
    "# Extract features and labels\n",
    "\n",
    "#\n",
    "# Obs. Modify the following code to select set of features\n",
    "#\n",
    "# The following line allows to select some variables to be used\n",
    "X = df.loc[:,['V17','V14','V12','V7','V10','Amount']]\n",
    "\n",
    "# Class is the target to predict (classify)\n",
    "y = df.Class\n",
    "\n",
    "# 2\n",
    "# Number of samples per class\n",
    "unique, counts = np.unique(y, return_counts=True)\n",
    "for i in range(0,len(unique)):\n",
    "  print('Class %i: Samples %i' % (unique[i], counts[i]) )\n",
    "\n",
    "# Number of attributes\n",
    "print('Number of attributes: %i' % (X.shape)[1])"
   ]
  },
  {
   "cell_type": "markdown",
   "metadata": {
    "id": "o929j70xwV0f",
    "tags": []
   },
   "source": [
    "# 3. Entrenamiento del clasificador\n",
    "\n",
    "1. El conjunto de datos se separa en entrenamiento y test.\n",
    "2. Se selecciona y entrena un clasificador.\n",
    "3. Métricas de performance\n",
    "\n"
   ]
  },
  {
   "cell_type": "code",
   "execution_count": 76,
   "metadata": {
    "colab": {
     "base_uri": "https://localhost:8080/"
    },
    "id": "546_qM25KkSJ",
    "outputId": "02d9762c-ebe3-4965-929c-359c56c3ca91",
    "tags": []
   },
   "outputs": [
    {
     "name": "stderr",
     "output_type": "stream",
     "text": [
      "/opt/anaconda3/lib/python3.8/site-packages/sklearn/neural_network/_multilayer_perceptron.py:614: ConvergenceWarning: Stochastic Optimizer: Maximum iterations (50) reached and the optimization hasn't converged yet.\n",
      "  warnings.warn(\n"
     ]
    },
    {
     "data": {
      "text/plain": [
       "MLPClassifier(alpha=0.05, hidden_layer_sizes=(100, 50, 30), max_iter=50,\n",
       "              random_state=1, solver='sgd')"
      ]
     },
     "execution_count": 76,
     "metadata": {},
     "output_type": "execute_result"
    }
   ],
   "source": [
    "# Classifier\n",
    "from sklearn.metrics import confusion_matrix\n",
    "from sklearn.model_selection import train_test_split\n",
    "from sklearn.neural_network import MLPClassifier\n",
    "\n",
    "# 1\n",
    "# Split train and test \n",
    "# stratify=y means the same % of classes is present in train and test\n",
    "X_train, X_test, y_train, y_test = train_test_split(X, y, test_size=0.5, random_state=0, stratify=y)\n",
    "\n",
    "# 2\n",
    "#\n",
    "# Selection of classifier\n",
    "#\n",
    "#clf = KNeighborsClassifier(n_neighbors=3)\n",
    "#clf = DecisionTreeClassifier()\n",
    "#clf = LogisticRegression(solver='lbfgs',max_iter=500)\n",
    "#clf = GaussianNB()\n",
    "\n",
    "# Configuration of the neural network\n",
    "#\n",
    "# https://scikit-learn.org/stable/modules/generated/sklearn.neural_network.MLPClassifier.html#sklearn.neural_network.MLPClassifier\n",
    "#\n",
    "# alpha: Strength of the L2 regularization term. The L2 regularization term is divided by the sample size when added to the loss.\n",
    "# hidden_layer_sizes: The ith element represents the number of neurons in the ith hidden layer.\n",
    "\n",
    "clf = MLPClassifier(solver='sgd', # stochastic gradient descent, SGD\n",
    "                    alpha=0.05, # Penaliza SC pesos\n",
    "                    hidden_layer_sizes=(100, 50, 30), # Redes ocultas\n",
    "                    random_state=1, # Num aleatorio para los pesos y el sesgo iniciales\n",
    "                    max_iter = 50) #Para la red si no mejoro las métricas en la validación\n",
    "\n",
    "# Train classifier\n",
    "clf.fit(X_train.values,y_train.values)"
   ]
  },
  {
   "cell_type": "code",
   "execution_count": 77,
   "metadata": {},
   "outputs": [],
   "source": [
    "#print(clf.best_params_)\n",
    "#from sklearn.model_selection import GridSearchCV             \n",
    "#param_grid = {\n",
    "#    'hidden_layer_sizes': [(150,100,50), (100,50,30)],\n",
    "#    'max_iter': [50, 100],\n",
    "#    'alpha': [0.0001, 0.05]\n",
    "#}\n",
    "\n",
    "#clf = GridSearchCV(MLPClassifier(early_stopping=True), param_grid, n_jobs=-1)\n",
    "# Train classifier\n",
    "#clf.fit(X_train.values,y_train.values)"
   ]
  },
  {
   "cell_type": "code",
   "execution_count": null,
   "metadata": {},
   "outputs": [],
   "source": []
  },
  {
   "cell_type": "code",
   "execution_count": 78,
   "metadata": {
    "colab": {
     "base_uri": "https://localhost:8080/"
    },
    "id": "SWC-wd6PvF8G",
    "outputId": "b1d3b187-e4da-45dd-eda0-0ad79a6dc044"
   },
   "outputs": [
    {
     "data": {
      "image/png": "[encoded data removed]",
      "text/plain": [
       "<Figure size 432x288 with 1 Axes>"
      ]
     },
     "metadata": {
      "needs_background": "light"
     },
     "output_type": "display_data"
    }
   ],
   "source": [
    "# Loss Curve\n",
    "plt.plot(clf.loss_curve_)\n",
    "plt.title('Costo en función de las iteraciones')\n",
    "plt.xlabel('Número de iteraciones')\n",
    "plt.ylabel('Costo')\n",
    "plt.show()"
   ]
  },
  {
   "cell_type": "code",
   "execution_count": null,
   "metadata": {},
   "outputs": [],
   "source": []
  },
  {
   "cell_type": "markdown",
   "metadata": {
    "id": "711Fe_D8mZQ7"
   },
   "source": [
    "# 4. Evaluación"
   ]
  },
  {
   "cell_type": "code",
   "execution_count": 79,
   "metadata": {
    "colab": {
     "base_uri": "https://localhost:8080/"
    },
    "id": "7RTbWpysmbt9",
    "outputId": "bec5d7ac-9efa-4a4f-92e1-454e7322ef9a"
   },
   "outputs": [
    {
     "name": "stdout",
     "output_type": "stream",
     "text": [
      " Confusion matrix ------------------\n",
      "[[142141     17]\n",
      " [   132    114]]\n",
      "\n",
      " % Corr ----------------------------\n",
      "99.89536810763742\n",
      "\n",
      " Classification report ------------------\n",
      "Class 0 (Fraud) {'precision': 0.8702290076335878, 'recall': 0.4634146341463415, 'f1-score': 0.6047745358090185, 'support': 246}: \n",
      "Class 1 (Valid) {'precision': 0.9990722062513618, 'recall': 0.9998804147497854, 'f1-score': 0.999476147114766, 'support': 142158}: \n",
      "\n",
      " Amount ------------------ \n",
      " Detected = 2009.620000, Total = 30229.360000, Percentage = 6.647908\n"
     ]
    }
   ],
   "source": [
    "# 3\n",
    "# Confusion matrix\n",
    "y_pred = clf.predict(X_test)\n",
    "cm = confusion_matrix(y_test, y_pred)\n",
    "\n",
    "print(' Confusion matrix ------------------')\n",
    "print(cm)\n",
    "\n",
    "sum_diag = sum(cm[i][i] for i in range(2))\n",
    "sum_all = sum(sum(cm))\n",
    "\n",
    "print('\\n % Corr ----------------------------')\n",
    "print( sum_diag/sum_all*100 )\n",
    "\n",
    "# Classification report\n",
    "from sklearn.metrics import classification_report\n",
    "target_names = ['1', '0']\n",
    "\n",
    "print('\\n Classification report ------------------')\n",
    "report = classification_report(y_test, y_pred, target_names=target_names,output_dict=True)\n",
    "print('Class 0 (Fraud) %s: ' % report['0'])\n",
    "print('Class 1 (Valid) %s: ' % report['1'])\n",
    "\n",
    "# Amount of fraud detected\n",
    "a = X_test.Amount\n",
    "# TP \n",
    "ind = (y_pred == 1) & (y_test == 1)\n",
    "# Amount for TP\n",
    "amount_detected = np.sum( a[ ind ] ) \n",
    "# Total amount of fraud\n",
    "ind = (y_test == 1)\n",
    "amount_total = np.sum( a[ ind ] ) \n",
    "\n",
    "print('\\n Amount ------------------ \\n Detected = %f, Total = %f, Percentage = %f' % (amount_detected, amount_total, (amount_detected/amount_total)*100))"
   ]
  },
  {
   "cell_type": "markdown",
   "metadata": {
    "tags": []
   },
   "source": [
    "| Features | Target | Model | Hyperparam. | Acc. | F1 Score| Precision | Recall | % Fr detectado(recal para fraude) | FP | FN | % monto Fraude|\n",
    "---------- | ------ | ----- | ----------- | ---- | ------- | --------- | ------ | --------------------------------- | -- | -- | ------ | \n",
    "| 'V17','V14','V12','V10','V16','Amount' | Class | MLPC  |  sgd, 12 layers, early stopping, alpha 0.1, random_state = 1   | 99.91% | 99.53%/71% | 99.93%/83.51% | 99.97/61.78%|  61.78 % | 30 | *94* |  39.95 |\n",
    "| 'V17','V14','V12','V7','V10','V4','V3','Amount' | Class | MLPC  |  sgd, 16 layers, early stopping, alpha 0.1, random_state = 1   | 99.92% | 99.96%/73.54% | 99.93%/86.74% | 99.98/63.82%|  63.82% | 24 | *89* |  43.72 |\n",
    "\n",
    "\n",
    "\n",
    "Amount:\n",
    "\n",
    "Detected = 12077.980000, Total = 30229.360000, Percentage = 39.954468\n",
    "Detected = 13217.220000, Total = 30229.360000, Percentage = 43.723122"
   ]
  }
 ],
 "metadata": {
  "accelerator": "GPU",
  "colab": {
   "collapsed_sections": [],
   "provenance": []
  },
  "kernelspec": {
   "display_name": "Python 3.9.5 64-bit",
   "language": "python",
   "name": "python3"
  },
  "language_info": {
   "codemirror_mode": {
    "name": "ipython",
    "version": 3
   },
   "file_extension": ".py",
   "mimetype": "text/x-python",
   "name": "python",
   "nbconvert_exporter": "python",
   "pygments_lexer": "ipython3",
   "version": "3.9.5"
  },
  "vscode": {
   "interpreter": {
    "hash": "aee8b7b246df8f9039afb4144a1f6fd8d2ca17a180786b69acc140d282b71a49"
   }
  }
 },
 "nbformat": 4,
 "nbformat_minor": 4
}
