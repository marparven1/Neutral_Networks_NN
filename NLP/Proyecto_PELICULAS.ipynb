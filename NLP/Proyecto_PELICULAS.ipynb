{
  "cells": [
    {
      "cell_type": "markdown",
      "metadata": {
        "id": "P9TCfEAPd_fk"
      },
      "source": [
        "# Proyecto 2: Clasificación sentimientos en reviews de películas\n",
        "## Componentes: Daniel Martínez Jiménez, Javier de Terry Coronel y Marta Venegas Pardo\n",
        "https://www.kaggle.com/competitions/sentiment-analysis-on-movie-reviews   \n",
        "\n",
        "\n",
        "La clasificación de sentimientos en textos busca asignar a un texto un sentimiento, positivo, neutro o negativo. En este caso particular los reviews de películas son clasificados en cinco clases: 0 - negative, 1 - somewhat negative, 2 - neutral, 3 - somewhat positive, 4 - positive. \n",
        "\n",
        "\n",
        "Estas técnicas se pueden aplicar para monitorear redes sociales, sitios de ecommerce o call centers. Los mensajes son clasificados en función de su sentimiento y los que puedan indicar posibles problemas para el negocio son analizados y eventualmente manejados de forma especial.\n",
        "\n",
        "\n",
        "Sugerencias:\n",
        "\n",
        "- Visualizar un conjunto de frases y sus sentimientos asociados.\n",
        "\n",
        "- Analizar las etapas de pre procesamiento que podrían ser necesarias para preparar los datos.\n",
        "\n",
        "- Haga un análisis estadístico de los datos para saber cuántos datos hay de cada clase. \n",
        "\n",
        "- Compare dos técnicas de clasificación diferentes, una clásica y otra basada en redes de convolución.\n",
        "\n",
        "**Nota**: Utilice Scikit Learn y Keras para construir la solución.\n",
        "\n",
        "Para la evaluación de ambas técnicas visualice la matriz de confusión. "
      ]
    },
    {
      "cell_type": "markdown",
      "metadata": {
        "id": "BgzoFRkMedbK"
      },
      "source": []
    },
    {
      "cell_type": "code",
      "execution_count": null,
      "metadata": {
        "id": "IO4FxdJ0elSu"
      },
      "outputs": [],
      "source": [
        "import pandas as pd\n",
        "import numpy as np\n",
        "import matplotlib.pyplot as plt\n",
        "import seaborn as sns"
      ]
    },
    {
      "cell_type": "code",
      "execution_count": null,
      "metadata": {
        "colab": {
          "base_uri": "https://localhost:8080/"
        },
        "id": "LYJq6xC8e_yW",
        "outputId": "5ef7162d-7625-4357-dc34-bc0426100548"
      },
      "outputs": [
        {
          "name": "stdout",
          "output_type": "stream",
          "text": [
            "/usr/local/lib/python3.8/dist-packages/gdown/cli.py:127: FutureWarning: Option `--id` was deprecated in version 4.3.1 and will be removed in 5.0. You don't need to pass it anymore to use a file ID.\n",
            "  warnings.warn(\n",
            "Downloading...\n",
            "From: https://drive.google.com/uc?id=1lJ2AUq4ad9xmpzTV_lApKlBtFgSBn3IL\n",
            "To: /content/train.tsv\n",
            "100% 8.48M/8.48M [00:00<00:00, 112MB/s]\n",
            "/usr/local/lib/python3.8/dist-packages/gdown/cli.py:127: FutureWarning: Option `--id` was deprecated in version 4.3.1 and will be removed in 5.0. You don't need to pass it anymore to use a file ID.\n",
            "  warnings.warn(\n",
            "Downloading...\n",
            "From: https://drive.google.com/uc?id=1KuJ3toInZy7LCqvwfjscyRDMk72xfJkM\n",
            "To: /content/test.tsv\n",
            "100% 3.37M/3.37M [00:00<00:00, 240MB/s]\n"
          ]
        }
      ],
      "source": [
        "# Descargamos los datos de prueba yelp_labelled.txt\n",
        "\n",
        "\n",
        "#https://drive.google.com/file/d/1lJ2AUq4ad9xmpzTV_lApKlBtFgSBn3IL/view?usp=share_link\n",
        "# https://drive.google.com/file/d/1KuJ3toInZy7LCqvwfjscyRDMk72xfJkM/view?usp=share_link\n",
        "!gdown --id 1lJ2AUq4ad9xmpzTV_lApKlBtFgSBn3IL\n",
        "!gdown --id 1KuJ3toInZy7LCqvwfjscyRDMk72xfJkM"
      ]
    },
    {
      "cell_type": "markdown",
      "metadata": {
        "id": "trG4Vii2APar"
      },
      "source": [
        "## Lectura de datos\n",
        "### Datos de entrenamiento"
      ]
    },
    {
      "cell_type": "code",
      "execution_count": null,
      "metadata": {
        "id": "uNPcHrGCjwT-"
      },
      "outputs": [],
      "source": [
        "filepath1 = \"train.tsv\"\n",
        "\n",
        "train_data = pd.read_csv(filepath1, sep='\\t')"
      ]
    },
    {
      "cell_type": "markdown",
      "metadata": {
        "id": "rwm9xjaCAKqt"
      },
      "source": [
        "Visualizamos los datos de entrenamiento:"
      ]
    },
    {
      "cell_type": "code",
      "execution_count": null,
      "metadata": {
        "colab": {
          "base_uri": "https://localhost:8080/",
          "height": 363
        },
        "id": "71UWRkl_AFej",
        "outputId": "84026860-cab8-4334-83ed-bdf1e6be7e30"
      },
      "outputs": [
        {
          "data": {
            "text/html": [
              "\n",
              "  <div id=\"df-5b0b3d09-9ad5-4087-bc9a-f12749495a98\">\n",
              "    <div class=\"colab-df-container\">\n",
              "      <div>\n",
              "<style scoped>\n",
              "    .dataframe tbody tr th:only-of-type {\n",
              "        vertical-align: middle;\n",
              "    }\n",
              "\n",
              "    .dataframe tbody tr th {\n",
              "        vertical-align: top;\n",
              "    }\n",
              "\n",
              "    .dataframe thead th {\n",
              "        text-align: right;\n",
              "    }\n",
              "</style>\n",
              "<table border=\"1\" class=\"dataframe\">\n",
              "  <thead>\n",
              "    <tr style=\"text-align: right;\">\n",
              "      <th></th>\n",
              "      <th>PhraseId</th>\n",
              "      <th>SentenceId</th>\n",
              "      <th>Phrase</th>\n",
              "      <th>Sentiment</th>\n",
              "    </tr>\n",
              "  </thead>\n",
              "  <tbody>\n",
              "    <tr>\n",
              "      <th>0</th>\n",
              "      <td>1</td>\n",
              "      <td>1</td>\n",
              "      <td>A series of escapades demonstrating the adage ...</td>\n",
              "      <td>1</td>\n",
              "    </tr>\n",
              "    <tr>\n",
              "      <th>1</th>\n",
              "      <td>2</td>\n",
              "      <td>1</td>\n",
              "      <td>A series of escapades demonstrating the adage ...</td>\n",
              "      <td>2</td>\n",
              "    </tr>\n",
              "    <tr>\n",
              "      <th>2</th>\n",
              "      <td>3</td>\n",
              "      <td>1</td>\n",
              "      <td>A series</td>\n",
              "      <td>2</td>\n",
              "    </tr>\n",
              "    <tr>\n",
              "      <th>3</th>\n",
              "      <td>4</td>\n",
              "      <td>1</td>\n",
              "      <td>A</td>\n",
              "      <td>2</td>\n",
              "    </tr>\n",
              "    <tr>\n",
              "      <th>4</th>\n",
              "      <td>5</td>\n",
              "      <td>1</td>\n",
              "      <td>series</td>\n",
              "      <td>2</td>\n",
              "    </tr>\n",
              "    <tr>\n",
              "      <th>5</th>\n",
              "      <td>6</td>\n",
              "      <td>1</td>\n",
              "      <td>of escapades demonstrating the adage that what...</td>\n",
              "      <td>2</td>\n",
              "    </tr>\n",
              "    <tr>\n",
              "      <th>6</th>\n",
              "      <td>7</td>\n",
              "      <td>1</td>\n",
              "      <td>of</td>\n",
              "      <td>2</td>\n",
              "    </tr>\n",
              "    <tr>\n",
              "      <th>7</th>\n",
              "      <td>8</td>\n",
              "      <td>1</td>\n",
              "      <td>escapades demonstrating the adage that what is...</td>\n",
              "      <td>2</td>\n",
              "    </tr>\n",
              "    <tr>\n",
              "      <th>8</th>\n",
              "      <td>9</td>\n",
              "      <td>1</td>\n",
              "      <td>escapades</td>\n",
              "      <td>2</td>\n",
              "    </tr>\n",
              "    <tr>\n",
              "      <th>9</th>\n",
              "      <td>10</td>\n",
              "      <td>1</td>\n",
              "      <td>demonstrating the adage that what is good for ...</td>\n",
              "      <td>2</td>\n",
              "    </tr>\n",
              "  </tbody>\n",
              "</table>\n",
              "</div>\n",
              "      <button class=\"colab-df-convert\" onclick=\"convertToInteractive('df-5b0b3d09-9ad5-4087-bc9a-f12749495a98')\"\n",
              "              title=\"Convert this dataframe to an interactive table.\"\n",
              "              style=\"display:none;\">\n",
              "        \n",
              "  <svg xmlns=\"http://www.w3.org/2000/svg\" height=\"24px\"viewBox=\"0 0 24 24\"\n",
              "       width=\"24px\">\n",
              "    <path d=\"M0 0h24v24H0V0z\" fill=\"none\"/>\n",
              "    <path d=\"M18.56 5.44l.94 2.06.94-2.06 2.06-.94-2.06-.94-.94-2.06-.94 2.06-2.06.94zm-11 1L8.5 8.5l.94-2.06 2.06-.94-2.06-.94L8.5 2.5l-.94 2.06-2.06.94zm10 10l.94 2.06.94-2.06 2.06-.94-2.06-.94-.94-2.06-.94 2.06-2.06.94z\"/><path d=\"M17.41 7.96l-1.37-1.37c-.4-.4-.92-.59-1.43-.59-.52 0-1.04.2-1.43.59L10.3 9.45l-7.72 7.72c-.78.78-.78 2.05 0 2.83L4 21.41c.39.39.9.59 1.41.59.51 0 1.02-.2 1.41-.59l7.78-7.78 2.81-2.81c.8-.78.8-2.07 0-2.86zM5.41 20L4 18.59l7.72-7.72 1.47 1.35L5.41 20z\"/>\n",
              "  </svg>\n",
              "      </button>\n",
              "      \n",
              "  <style>\n",
              "    .colab-df-container {\n",
              "      display:flex;\n",
              "      flex-wrap:wrap;\n",
              "      gap: 12px;\n",
              "    }\n",
              "\n",
              "    .colab-df-convert {\n",
              "      background-color: #E8F0FE;\n",
              "      border: none;\n",
              "      border-radius: 50%;\n",
              "      cursor: pointer;\n",
              "      display: none;\n",
              "      fill: #1967D2;\n",
              "      height: 32px;\n",
              "      padding: 0 0 0 0;\n",
              "      width: 32px;\n",
              "    }\n",
              "\n",
              "    .colab-df-convert:hover {\n",
              "      background-color: #E2EBFA;\n",
              "      box-shadow: 0px 1px 2px rgba(60, 64, 67, 0.3), 0px 1px 3px 1px rgba(60, 64, 67, 0.15);\n",
              "      fill: #174EA6;\n",
              "    }\n",
              "\n",
              "    [theme=dark] .colab-df-convert {\n",
              "      background-color: #3B4455;\n",
              "      fill: #D2E3FC;\n",
              "    }\n",
              "\n",
              "    [theme=dark] .colab-df-convert:hover {\n",
              "      background-color: #434B5C;\n",
              "      box-shadow: 0px 1px 3px 1px rgba(0, 0, 0, 0.15);\n",
              "      filter: drop-shadow(0px 1px 2px rgba(0, 0, 0, 0.3));\n",
              "      fill: #FFFFFF;\n",
              "    }\n",
              "  </style>\n",
              "\n",
              "      <script>\n",
              "        const buttonEl =\n",
              "          document.querySelector('#df-5b0b3d09-9ad5-4087-bc9a-f12749495a98 button.colab-df-convert');\n",
              "        buttonEl.style.display =\n",
              "          google.colab.kernel.accessAllowed ? 'block' : 'none';\n",
              "\n",
              "        async function convertToInteractive(key) {\n",
              "          const element = document.querySelector('#df-5b0b3d09-9ad5-4087-bc9a-f12749495a98');\n",
              "          const dataTable =\n",
              "            await google.colab.kernel.invokeFunction('convertToInteractive',\n",
              "                                                     [key], {});\n",
              "          if (!dataTable) return;\n",
              "\n",
              "          const docLinkHtml = 'Like what you see? Visit the ' +\n",
              "            '<a target=\"_blank\" href=https://colab.research.google.com/notebooks/data_table.ipynb>data table notebook</a>'\n",
              "            + ' to learn more about interactive tables.';\n",
              "          element.innerHTML = '';\n",
              "          dataTable['output_type'] = 'display_data';\n",
              "          await google.colab.output.renderOutput(dataTable, element);\n",
              "          const docLink = document.createElement('div');\n",
              "          docLink.innerHTML = docLinkHtml;\n",
              "          element.appendChild(docLink);\n",
              "        }\n",
              "      </script>\n",
              "    </div>\n",
              "  </div>\n",
              "  "
            ],
            "text/plain": [
              "   PhraseId  SentenceId                                             Phrase  \\\n",
              "0         1           1  A series of escapades demonstrating the adage ...   \n",
              "1         2           1  A series of escapades demonstrating the adage ...   \n",
              "2         3           1                                           A series   \n",
              "3         4           1                                                  A   \n",
              "4         5           1                                             series   \n",
              "5         6           1  of escapades demonstrating the adage that what...   \n",
              "6         7           1                                                 of   \n",
              "7         8           1  escapades demonstrating the adage that what is...   \n",
              "8         9           1                                          escapades   \n",
              "9        10           1  demonstrating the adage that what is good for ...   \n",
              "\n",
              "   Sentiment  \n",
              "0          1  \n",
              "1          2  \n",
              "2          2  \n",
              "3          2  \n",
              "4          2  \n",
              "5          2  \n",
              "6          2  \n",
              "7          2  \n",
              "8          2  \n",
              "9          2  "
            ]
          },
          "execution_count": 41,
          "metadata": {},
          "output_type": "execute_result"
        }
      ],
      "source": [
        "train_data.head(10)"
      ]
    },
    {
      "cell_type": "markdown",
      "metadata": {
        "id": "OxbWIeT3AB4s"
      },
      "source": [
        "### Datos de testeo \n",
        "\n",
        "Visualizamos los datos de testeo"
      ]
    },
    {
      "cell_type": "code",
      "execution_count": null,
      "metadata": {
        "id": "X9UZRPT3ireQ"
      },
      "outputs": [],
      "source": [
        "filepath2 = \"test.tsv\" # Datos de testeo\n",
        "test_data = pd.read_csv(filepath2, sep='\\t')"
      ]
    },
    {
      "cell_type": "code",
      "execution_count": null,
      "metadata": {
        "colab": {
          "base_uri": "https://localhost:8080/",
          "height": 206
        },
        "id": "TUPUl3Gt_7JP",
        "outputId": "0a136475-562e-42c1-bc4c-599e44ae23aa"
      },
      "outputs": [
        {
          "data": {
            "text/html": [
              "\n",
              "  <div id=\"df-be36f609-6e5c-4a29-ae38-4d35be66e3fd\">\n",
              "    <div class=\"colab-df-container\">\n",
              "      <div>\n",
              "<style scoped>\n",
              "    .dataframe tbody tr th:only-of-type {\n",
              "        vertical-align: middle;\n",
              "    }\n",
              "\n",
              "    .dataframe tbody tr th {\n",
              "        vertical-align: top;\n",
              "    }\n",
              "\n",
              "    .dataframe thead th {\n",
              "        text-align: right;\n",
              "    }\n",
              "</style>\n",
              "<table border=\"1\" class=\"dataframe\">\n",
              "  <thead>\n",
              "    <tr style=\"text-align: right;\">\n",
              "      <th></th>\n",
              "      <th>PhraseId</th>\n",
              "      <th>SentenceId</th>\n",
              "      <th>Phrase</th>\n",
              "    </tr>\n",
              "  </thead>\n",
              "  <tbody>\n",
              "    <tr>\n",
              "      <th>0</th>\n",
              "      <td>156061</td>\n",
              "      <td>8545</td>\n",
              "      <td>An intermittently pleasing but mostly routine ...</td>\n",
              "    </tr>\n",
              "    <tr>\n",
              "      <th>1</th>\n",
              "      <td>156062</td>\n",
              "      <td>8545</td>\n",
              "      <td>An intermittently pleasing but mostly routine ...</td>\n",
              "    </tr>\n",
              "    <tr>\n",
              "      <th>2</th>\n",
              "      <td>156063</td>\n",
              "      <td>8545</td>\n",
              "      <td>An</td>\n",
              "    </tr>\n",
              "    <tr>\n",
              "      <th>3</th>\n",
              "      <td>156064</td>\n",
              "      <td>8545</td>\n",
              "      <td>intermittently pleasing but mostly routine effort</td>\n",
              "    </tr>\n",
              "    <tr>\n",
              "      <th>4</th>\n",
              "      <td>156065</td>\n",
              "      <td>8545</td>\n",
              "      <td>intermittently pleasing but mostly routine</td>\n",
              "    </tr>\n",
              "  </tbody>\n",
              "</table>\n",
              "</div>\n",
              "      <button class=\"colab-df-convert\" onclick=\"convertToInteractive('df-be36f609-6e5c-4a29-ae38-4d35be66e3fd')\"\n",
              "              title=\"Convert this dataframe to an interactive table.\"\n",
              "              style=\"display:none;\">\n",
              "        \n",
              "  <svg xmlns=\"http://www.w3.org/2000/svg\" height=\"24px\"viewBox=\"0 0 24 24\"\n",
              "       width=\"24px\">\n",
              "    <path d=\"M0 0h24v24H0V0z\" fill=\"none\"/>\n",
              "    <path d=\"M18.56 5.44l.94 2.06.94-2.06 2.06-.94-2.06-.94-.94-2.06-.94 2.06-2.06.94zm-11 1L8.5 8.5l.94-2.06 2.06-.94-2.06-.94L8.5 2.5l-.94 2.06-2.06.94zm10 10l.94 2.06.94-2.06 2.06-.94-2.06-.94-.94-2.06-.94 2.06-2.06.94z\"/><path d=\"M17.41 7.96l-1.37-1.37c-.4-.4-.92-.59-1.43-.59-.52 0-1.04.2-1.43.59L10.3 9.45l-7.72 7.72c-.78.78-.78 2.05 0 2.83L4 21.41c.39.39.9.59 1.41.59.51 0 1.02-.2 1.41-.59l7.78-7.78 2.81-2.81c.8-.78.8-2.07 0-2.86zM5.41 20L4 18.59l7.72-7.72 1.47 1.35L5.41 20z\"/>\n",
              "  </svg>\n",
              "      </button>\n",
              "      \n",
              "  <style>\n",
              "    .colab-df-container {\n",
              "      display:flex;\n",
              "      flex-wrap:wrap;\n",
              "      gap: 12px;\n",
              "    }\n",
              "\n",
              "    .colab-df-convert {\n",
              "      background-color: #E8F0FE;\n",
              "      border: none;\n",
              "      border-radius: 50%;\n",
              "      cursor: pointer;\n",
              "      display: none;\n",
              "      fill: #1967D2;\n",
              "      height: 32px;\n",
              "      padding: 0 0 0 0;\n",
              "      width: 32px;\n",
              "    }\n",
              "\n",
              "    .colab-df-convert:hover {\n",
              "      background-color: #E2EBFA;\n",
              "      box-shadow: 0px 1px 2px rgba(60, 64, 67, 0.3), 0px 1px 3px 1px rgba(60, 64, 67, 0.15);\n",
              "      fill: #174EA6;\n",
              "    }\n",
              "\n",
              "    [theme=dark] .colab-df-convert {\n",
              "      background-color: #3B4455;\n",
              "      fill: #D2E3FC;\n",
              "    }\n",
              "\n",
              "    [theme=dark] .colab-df-convert:hover {\n",
              "      background-color: #434B5C;\n",
              "      box-shadow: 0px 1px 3px 1px rgba(0, 0, 0, 0.15);\n",
              "      filter: drop-shadow(0px 1px 2px rgba(0, 0, 0, 0.3));\n",
              "      fill: #FFFFFF;\n",
              "    }\n",
              "  </style>\n",
              "\n",
              "      <script>\n",
              "        const buttonEl =\n",
              "          document.querySelector('#df-be36f609-6e5c-4a29-ae38-4d35be66e3fd button.colab-df-convert');\n",
              "        buttonEl.style.display =\n",
              "          google.colab.kernel.accessAllowed ? 'block' : 'none';\n",
              "\n",
              "        async function convertToInteractive(key) {\n",
              "          const element = document.querySelector('#df-be36f609-6e5c-4a29-ae38-4d35be66e3fd');\n",
              "          const dataTable =\n",
              "            await google.colab.kernel.invokeFunction('convertToInteractive',\n",
              "                                                     [key], {});\n",
              "          if (!dataTable) return;\n",
              "\n",
              "          const docLinkHtml = 'Like what you see? Visit the ' +\n",
              "            '<a target=\"_blank\" href=https://colab.research.google.com/notebooks/data_table.ipynb>data table notebook</a>'\n",
              "            + ' to learn more about interactive tables.';\n",
              "          element.innerHTML = '';\n",
              "          dataTable['output_type'] = 'display_data';\n",
              "          await google.colab.output.renderOutput(dataTable, element);\n",
              "          const docLink = document.createElement('div');\n",
              "          docLink.innerHTML = docLinkHtml;\n",
              "          element.appendChild(docLink);\n",
              "        }\n",
              "      </script>\n",
              "    </div>\n",
              "  </div>\n",
              "  "
            ],
            "text/plain": [
              "   PhraseId  SentenceId                                             Phrase\n",
              "0    156061        8545  An intermittently pleasing but mostly routine ...\n",
              "1    156062        8545  An intermittently pleasing but mostly routine ...\n",
              "2    156063        8545                                                 An\n",
              "3    156064        8545  intermittently pleasing but mostly routine effort\n",
              "4    156065        8545         intermittently pleasing but mostly routine"
            ]
          },
          "execution_count": 43,
          "metadata": {},
          "output_type": "execute_result"
        }
      ],
      "source": [
        "\n",
        "test_data.head()"
      ]
    },
    {
      "cell_type": "markdown",
      "metadata": {
        "id": "U0K74j4zllNe"
      },
      "source": [
        "### Descripción de los datos\n",
        "\n",
        "El conjunto de datos de reseñas de películas de Rotten Tomatoes consta de una serie de frases sobre las películas clasificadas en una escala de cinco valores.\n",
        "\n",
        "Nuestro **objetivo** será conseguir el mejor clasificador para etiquetar las oraciones del conjunto de testeo con la mayor precisión posible.\n",
        "\n",
        "\n",
        "En este proyecto, los datos se estructuran de la siguiente forma:\n",
        "\n",
        "\n",
        "\n",
        "Tenemos un dataset de entrenamiento y otro de testeo. \n",
        "\n",
        "Los datos de *entrenamiento* los utilizaremos para entrenar y validar el modelo, para posteriormente, una vez exista un modelo definitivo, utilizarlo con los datos *test* para conseguir clasificar las películas de este conjunto de datos.\n",
        "\n",
        "Es decir, el conjunto de datos de testeo no lo utilizaremos para entrenar, sino que últimamente lo utilizaremos para testear, es decir, clasificar las frases en una de las cinco clases existentes. \n",
        "\n",
        "\n",
        "**Datos de entrenamiento**: Tenemos un conjunto de datos con las siguientes variables:\n",
        "\n",
        "- PhraseId: Identificador del registro (uno para cada fila)\n",
        "- SentenceId: Identificador de la frase\n",
        "- Phrase: Frase en cuestión\n",
        "- Sentiment: Variable objetivo (categórica). Se trata del sentimiento provocado al espectador, y consta de cinco clases:\n",
        "    \n",
        "    - 0: Negativo\n",
        "    - 1: Algo negativo\n",
        "    - 2: Neutro\n",
        "    - 3: Algo positivo\n",
        "    - 4: Positivo\n",
        "\n",
        "**Datos de testeo**: En este conjunto de datos no tenemos la variable *sentimiento*, ya que es el objetivo de este ejercicio, entrenar un buen modelo para poder clasificar las frases del conjunto de testeo en función de una de las cinco clases."
      ]
    },
    {
      "cell_type": "code",
      "execution_count": null,
      "metadata": {
        "colab": {
          "base_uri": "https://localhost:8080/"
        },
        "id": "B4ewCOFbD0xM",
        "outputId": "49692671-50aa-4f7b-d828-777b4795bf78"
      },
      "outputs": [
        {
          "name": "stdout",
          "output_type": "stream",
          "text": [
            "El conjunto de datos de entrenamiento consta de 156060 filas, es decir, tenemos 156060 comentarios sobre películas con su clasificación.\n",
            "Por ello, tendremos que aplicar el modelo en los datos de testeo para clasificar un total de 66292 comentarios de películas.\n"
          ]
        }
      ],
      "source": [
        "print('El conjunto de datos de entrenamiento consta de {} filas, es decir, tenemos {} comentarios sobre películas con su clasificación.\\nPor ello, tendremos que aplicar el modelo en los datos de testeo para clasificar un total de {} comentarios de películas.'.format(train_data.shape[0],train_data.shape[0],test_data.shape[0]))"
      ]
    },
    {
      "cell_type": "code",
      "execution_count": null,
      "metadata": {
        "colab": {
          "base_uri": "https://localhost:8080/"
        },
        "id": "cXcKlFnQB8ZT",
        "outputId": "15fe4132-26a8-49df-f58d-b0cd976bee33"
      },
      "outputs": [
        {
          "name": "stdout",
          "output_type": "stream",
          "text": [
            "Información de los datos de entrenamiento: \n",
            "\n",
            "<class 'pandas.core.frame.DataFrame'>\n",
            "RangeIndex: 156060 entries, 0 to 156059\n",
            "Data columns (total 4 columns):\n",
            " #   Column      Non-Null Count   Dtype \n",
            "---  ------      --------------   ----- \n",
            " 0   PhraseId    156060 non-null  int64 \n",
            " 1   SentenceId  156060 non-null  int64 \n",
            " 2   Phrase      156060 non-null  object\n",
            " 3   Sentiment   156060 non-null  int64 \n",
            "dtypes: int64(3), object(1)\n",
            "memory usage: 4.8+ MB\n"
          ]
        }
      ],
      "source": [
        "print('Información de los datos de entrenamiento: \\n')\n",
        "train_data.info()"
      ]
    },
    {
      "cell_type": "code",
      "execution_count": null,
      "metadata": {
        "colab": {
          "base_uri": "https://localhost:8080/"
        },
        "id": "C4TBmEyDDiwQ",
        "outputId": "e8568df7-1909-46db-9583-39d5811b9e3e"
      },
      "outputs": [
        {
          "name": "stdout",
          "output_type": "stream",
          "text": [
            "Información de los datos de testeo: \n",
            "\n",
            "<class 'pandas.core.frame.DataFrame'>\n",
            "RangeIndex: 66292 entries, 0 to 66291\n",
            "Data columns (total 3 columns):\n",
            " #   Column      Non-Null Count  Dtype \n",
            "---  ------      --------------  ----- \n",
            " 0   PhraseId    66292 non-null  int64 \n",
            " 1   SentenceId  66292 non-null  int64 \n",
            " 2   Phrase      66292 non-null  object\n",
            "dtypes: int64(2), object(1)\n",
            "memory usage: 1.5+ MB\n"
          ]
        }
      ],
      "source": [
        "print('Información de los datos de testeo: \\n')\n",
        "test_data.info()"
      ]
    },
    {
      "cell_type": "markdown",
      "metadata": {
        "id": "1FnpVCn5FD-o"
      },
      "source": [
        "No tenemos datos faltantes ni en los datos de entrenamiento ni en el testeo, por lo que todas las filas están completas.\n",
        "\n",
        "Para entrenar la red, únicamente necesitamos la frase y el sentimiento (target), por lo que vamos a eliminar los identificadores, ya que no nos aportan información sobre la variable objetivo. \n",
        "\n",
        "Por lo que ahora únicamente tenemos dos columnas en el conjunto de entrenamiento y una en el testeo."
      ]
    },
    {
      "cell_type": "code",
      "execution_count": null,
      "metadata": {
        "id": "mazx2X5QDvls"
      },
      "outputs": [],
      "source": [
        "train_data = train_data.drop(['PhraseId','SentenceId'],axis = 1)\n",
        "test_data = test_data.drop(['PhraseId','SentenceId'],axis = 1)"
      ]
    },
    {
      "cell_type": "markdown",
      "metadata": {
        "id": "a8X3dyDAG35Z"
      },
      "source": [
        "## Visualizar un conjunto de frases y sus sentimientos asociados\n"
      ]
    },
    {
      "cell_type": "code",
      "execution_count": null,
      "metadata": {
        "colab": {
          "base_uri": "https://localhost:8080/"
        },
        "id": "otbU3FeZG9bg",
        "outputId": "bb3af71c-387a-4aab-c3ae-9ec41cade336"
      },
      "outputs": [
        {
          "name": "stdout",
          "output_type": "stream",
          "text": [
            "\n",
            "Frase 1 : A series of escapades demonstrating the adage that what is good for the goose is also good for the gander , some of which occasionally amuses but none of which amounts to much of a story .\n",
            "\n",
            "Sentimiento: 1\n",
            "\n",
            "\n",
            "\n",
            "Frase 2 : A series of escapades demonstrating the adage that what is good for the goose\n",
            "\n",
            "Sentimiento: 2\n",
            "\n",
            "\n",
            "\n",
            "Frase 3 : A series\n",
            "\n",
            "Sentimiento: 2\n",
            "\n",
            "\n",
            "\n",
            "Frase 4 : A\n",
            "\n",
            "Sentimiento: 2\n",
            "\n",
            "\n",
            "\n",
            "Frase 5 : series\n",
            "\n",
            "Sentimiento: 2\n",
            "\n",
            "\n",
            "\n",
            "Frase 6 : of escapades demonstrating the adage that what is good for the goose\n",
            "\n",
            "Sentimiento: 2\n",
            "\n",
            "\n",
            "\n",
            "Frase 7 : of\n",
            "\n",
            "Sentimiento: 2\n",
            "\n",
            "\n",
            "\n",
            "Frase 8 : escapades demonstrating the adage that what is good for the goose\n",
            "\n",
            "Sentimiento: 2\n",
            "\n",
            "\n",
            "\n",
            "Frase 9 : escapades\n",
            "\n",
            "Sentimiento: 2\n",
            "\n",
            "\n",
            "\n",
            "Frase 10 : demonstrating the adage that what is good for the goose\n",
            "\n",
            "Sentimiento: 2\n",
            "\n",
            "\n",
            "\n",
            "Frase 11 : demonstrating the adage\n",
            "\n",
            "Sentimiento: 2\n",
            "\n",
            "\n",
            "\n",
            "Frase 12 : demonstrating\n",
            "\n",
            "Sentimiento: 2\n",
            "\n",
            "\n",
            "\n",
            "Frase 13 : the adage\n",
            "\n",
            "Sentimiento: 2\n",
            "\n",
            "\n",
            "\n",
            "Frase 14 : the\n",
            "\n",
            "Sentimiento: 2\n",
            "\n",
            "\n",
            "\n",
            "Frase 15 : adage\n",
            "\n",
            "Sentimiento: 2\n",
            "\n",
            "\n"
          ]
        }
      ],
      "source": [
        "for i in range(0,15):\n",
        "  print('\\nFrase',i+1,':',train_data.iloc[i,0])\n",
        "  print('\\nSentimiento:',train_data.iloc[i,1])\n",
        "  print('\\n')"
      ]
    },
    {
      "cell_type": "markdown",
      "metadata": {
        "id": "BveFoRewI3Jg"
      },
      "source": [
        "## Preprocesamiento de los datos\n",
        "\n",
        "En esta etapa del proyecto vamos a preparar los datos, ya que hemos encontrado frases con una única letra, quitaremos mayúsculas, espacios, caracteres extraños,...\n",
        "\n",
        "Para trabajar con las frases, que son cadenas de texto, podemos limpiarlas haciendo uso de la librería **re**, dedicada a expresiones regulares.\n",
        "\n",
        "Procedemos a importar esta librería para el procesamiento de las frases."
      ]
    },
    {
      "cell_type": "code",
      "execution_count": null,
      "metadata": {
        "id": "sFUFvUgzcAQv"
      },
      "outputs": [],
      "source": [
        "import re # Librerías para regular expressions\n"
      ]
    },
    {
      "cell_type": "markdown",
      "metadata": {
        "id": "ci-uiXR3cAF1"
      },
      "source": [
        "### Eliminación de los puntos"
      ]
    },
    {
      "cell_type": "code",
      "execution_count": null,
      "metadata": {
        "id": "3G1dyh1eKodt"
      },
      "outputs": [],
      "source": [
        "# Recorremos el dataset y eliminamos los puntos de las frases\n",
        "train_data['Phrase']=train_data['Phrase'].apply(lambda i: ' '.join(i.split('.'))) \n",
        "test_data['Phrase']=test_data['Phrase'].apply(lambda i: ' '.join(i.split('.'))) "
      ]
    },
    {
      "cell_type": "markdown",
      "metadata": {
        "id": "teNlpmHVMKd6"
      },
      "source": [
        "### Utilizar únicamente minúsculas"
      ]
    },
    {
      "cell_type": "code",
      "execution_count": null,
      "metadata": {
        "id": "T379lsgtMNOM"
      },
      "outputs": [],
      "source": [
        "# Recorremos el dataset y cambiamos las mayúscylas por minúsculas\n",
        "train_data['Phrase']=train_data['Phrase'].apply(lambda i: i.lower()) \n",
        "test_data['Phrase']=test_data['Phrase'].apply(lambda i: i.lower()) "
      ]
    },
    {
      "cell_type": "markdown",
      "metadata": {
        "id": "xXeKoIfqQTKa"
      },
      "source": [
        "### Eliminamos los caracteres especiales de las frases y espacios sobrantes\n",
        "\n",
        "En primer lugar, quitamos los caracteres \\ y / de las frases. Vamos a ilustrar este proceso con unas cuantas filas del datset:"
      ]
    },
    {
      "cell_type": "code",
      "execution_count": null,
      "metadata": {
        "colab": {
          "base_uri": "https://localhost:8080/"
        },
        "id": "ugw8aMaIXUxD",
        "outputId": "d92c412a-a2e6-4703-a274-5d958d170adb"
      },
      "outputs": [
        {
          "name": "stdout",
          "output_type": "stream",
          "text": [
            "----------------------------------------------------------------------\n",
            "Frase nº: 155966\n",
            "Se han encontrado los siguientes caracteres \\: \n",
            " ['\\\\']\n",
            "\n",
            "La frase:\n",
            " has turned out nearly 21\\/2 hours of unfocused , excruciatingly tedious cinema that , half an hour in , starts making water torture seem appealing \n",
            "Se va a transformar en:\n",
            "has turned out nearly 21  2 hours of unfocused , excruciatingly tedious cinema that , half an hour in , starts making water torture seem appealing\n",
            "----------------------------------------------------------------------\n",
            "Frase nº: 155967\n",
            "Se han encontrado los siguientes caracteres \\: \n",
            " ['\\\\']\n",
            "\n",
            "La frase:\n",
            " turned out nearly 21\\/2 hours of unfocused , excruciatingly tedious cinema that , half an hour in , starts making water torture seem appealing \n",
            "Se va a transformar en:\n",
            "turned out nearly 21  2 hours of unfocused , excruciatingly tedious cinema that , half an hour in , starts making water torture seem appealing\n",
            "----------------------------------------------------------------------\n",
            "Frase nº: 152061\n",
            "Se han encontrado los siguientes caracteres \\: \n",
            " ['\\\\']\n",
            "\n",
            "La frase:\n",
            " decided he will just screen the master of disguise 24\\/7 \n",
            "Se va a transformar en:\n",
            "decided he will just screen the master of disguise 24  7\n",
            "----------------------------------------------------------------------\n",
            "Frase nº: 152062\n",
            "Se han encontrado los siguientes caracteres \\: \n",
            " ['\\\\']\n",
            "\n",
            "La frase:\n",
            " he will just screen the master of disguise 24\\/7 \n",
            "Se va a transformar en:\n",
            "he will just screen the master of disguise 24  7\n",
            "----------------------------------------------------------------------\n",
            "Frase nº: 152063\n",
            "Se han encontrado los siguientes caracteres \\: \n",
            " ['\\\\']\n",
            "\n",
            "La frase:\n",
            " will just screen the master of disguise 24\\/7 \n",
            "Se va a transformar en:\n",
            "will just screen the master of disguise 24  7\n"
          ]
        }
      ],
      "source": [
        "for i in range(155966,155968):\n",
        "  print('-'*70)\n",
        "  print('Frase nº:',i)\n",
        "  print('Se han encontrado los siguientes caracteres \\: \\n',re.findall(r'\\\\', train_data.iloc[i,0]))\n",
        "  print('\\nLa frase:\\n',train_data.iloc[i,0],'\\nSe va a transformar en:')\n",
        "  frase =  re.sub(r'\\\\', ' ', train_data.iloc[i,0])\n",
        "  frase = re.sub('\\/', ' ', frase)\n",
        "  print(frase)\n",
        "\n",
        "for i in range(152061,152064):\n",
        "  print('-'*70)\n",
        "  print('Frase nº:',i)\n",
        "  print('Se han encontrado los siguientes caracteres \\: \\n',re.findall(r'\\\\', train_data.iloc[i,0]))\n",
        "  print('\\nLa frase:\\n',train_data.iloc[i,0],'\\nSe va a transformar en:')\n",
        "  frase =  re.sub(r'\\\\', ' ', train_data.iloc[i,0])\n",
        "  frase = re.sub('\\/', ' ', frase)\n",
        "  print(frase)\n"
      ]
    },
    {
      "cell_type": "code",
      "execution_count": null,
      "metadata": {
        "id": "15FX6eKYJmAf"
      },
      "outputs": [],
      "source": [
        "# Recorremos el dataset y eliminamos \\ y /\n",
        "train_data['Phrase']=train_data['Phrase'].apply(lambda i: re.sub(r'\\\\',' ',i)) # Elimina \\\n",
        "train_data['Phrase']=train_data['Phrase'].apply(lambda i: re.sub('\\/',' ',i)) # Elimina /\n",
        "\n",
        "test_data['Phrase']=test_data['Phrase'].apply(lambda i: re.sub(r'\\\\',' ',i)) # Elimina \\\n",
        "test_data['Phrase']=test_data['Phrase'].apply(lambda i: re.sub('\\/',' ',i)) # Elimina /\n",
        "\n"
      ]
    },
    {
      "cell_type": "markdown",
      "metadata": {
        "id": "i4QUvTtZVXQr"
      },
      "source": [
        "A continuación, eliminamos espacios iniciales de las frases y caracteres especiales como *'-'* y *'*. A continuación vemos unas cuantas frases de ejemplo para ilustrar lo que hacemos:"
      ]
    },
    {
      "cell_type": "code",
      "execution_count": null,
      "metadata": {
        "colab": {
          "base_uri": "https://localhost:8080/"
        },
        "id": "Ww-VwvbaV1sR",
        "outputId": "3ea6058b-5903-488b-b1fe-c4e622c18f8a"
      },
      "outputs": [
        {
          "name": "stdout",
          "output_type": "stream",
          "text": [
            "----------------------------------------------------------------------\n",
            "Frase nº: 2570\n",
            "Se han encontrado los siguientes caracteres o espacios: \n",
            " []\n",
            "\n",
            "La frase:\n",
            " tagline \n",
            "Se va a transformar en:\n",
            " tagline\n",
            "----------------------------------------------------------------------\n",
            "Frase nº: 2571\n",
            "Se han encontrado los siguientes caracteres o espacios: \n",
            " [\" '\", ' ', ' ', ' ', ' ', '  ']\n",
            "\n",
            "La frase:\n",
            " there 's definite room for improvement   \n",
            "Se va a transformar en:\n",
            " there s definite room for improvement\n",
            "----------------------------------------------------------------------\n",
            "Frase nº: 2572\n",
            "Se han encontrado los siguientes caracteres o espacios: \n",
            " [\"'\", ' ', ' ', ' ', ' ', '  ']\n",
            "\n",
            "La frase:\n",
            " 's definite room for improvement   \n",
            "Se va a transformar en:\n",
            " s definite room for improvement\n",
            "----------------------------------------------------------------------\n",
            "Frase nº: 2573\n",
            "Se han encontrado los siguientes caracteres o espacios: \n",
            " [\"'\", ' ', ' ', ' ', ' ']\n",
            "\n",
            "La frase:\n",
            " 's definite room for improvement \n",
            "Se va a transformar en:\n",
            " s definite room for improvement\n",
            "----------------------------------------------------------------------\n",
            "Frase nº: 2574\n",
            "Se han encontrado los siguientes caracteres o espacios: \n",
            " [' ', ' ', ' ']\n",
            "\n",
            "La frase:\n",
            " definite room for improvement \n",
            "Se va a transformar en:\n",
            " definite room for improvement\n"
          ]
        }
      ],
      "source": [
        "for i in range(2570,2575):\n",
        "  print('-'*70)\n",
        "  print('Frase nº:',i)\n",
        "  print('Se han encontrado los siguientes caracteres o espacios: \\n',re.findall(r'\\W+', train_data.iloc[i,0]))\n",
        "  print('\\nLa frase:\\n',train_data.iloc[i,0],'\\nSe va a transformar en:\\n',re.sub(r'\\W+', ' ', train_data.iloc[i,0].strip().lower()).strip())\n",
        "\n"
      ]
    },
    {
      "cell_type": "code",
      "execution_count": null,
      "metadata": {
        "id": "iFTt6-nHVhDu"
      },
      "outputs": [],
      "source": [
        "# Recorremos el dataset y eliminamos espacios sobrantes, - y ' \n",
        "train_data['Phrase']=train_data['Phrase'].apply(lambda i: re.sub(r'\\W+', ' ', i.strip().lower()).strip()) \n",
        "test_data['Phrase']=test_data['Phrase'].apply(lambda i: re.sub(r'\\W+', ' ', i.strip().lower()).strip())  \n"
      ]
    },
    {
      "cell_type": "markdown",
      "metadata": {
        "id": "a3ovtDMYY6os"
      },
      "source": [
        " ## Análisis estadístico de los datos para saber cuántos datos hay de cada clase"
      ]
    },
    {
      "cell_type": "code",
      "execution_count": null,
      "metadata": {
        "colab": {
          "base_uri": "https://localhost:8080/",
          "height": 475
        },
        "id": "XIiTlBOjeHrv",
        "outputId": "e281842f-25c5-46fd-e6ed-b8836a2c9233"
      },
      "outputs": [
        {
          "name": "stderr",
          "output_type": "stream",
          "text": [
            "/usr/local/lib/python3.8/dist-packages/seaborn/_decorators.py:36: FutureWarning: Pass the following variable as a keyword arg: x. From version 0.12, the only valid positional argument will be `data`, and passing other arguments without an explicit keyword will result in an error or misinterpretation.\n",
            "  warnings.warn(\n"
          ]
        },
        {
          "data": {
            "image/png": "[encoded data removed]",
            "text/plain": [
              "<Figure size 540x360 with 1 Axes>"
            ]
          },
          "metadata": {
            "needs_background": "light"
          },
          "output_type": "display_data"
        }
      ],
      "source": [
        "import seaborn as sns \n",
        "\n",
        "train_data.Sentiment.value_counts()\n",
        "fg = sns.catplot('Sentiment', data=train_data, kind='count', aspect=1.5,\n",
        "                #order=train_data.Sentiment.value_counts().index,\n",
        "                 palette='Paired')\n",
        "plt.xticks([0,1,2,3,4],['Negativo','Algo negativo','Neutro','Algo positivo','Positivo'])\n",
        "plt.xticks(rotation=45)\n",
        "fg.set_xlabels('Sentimiento')\n",
        "fg.set_ylabels('Número de casos')\n",
        "fg.fig.subplots_adjust(top=0.9) # adjust the Figure in rp\n",
        "fg.fig.suptitle('Número de películas según clases')\n",
        "plt.show()\n",
        "\n"
      ]
    },
    {
      "cell_type": "markdown",
      "metadata": {
        "id": "5NS6x9zAf793"
      },
      "source": [
        "Observamos como la mayoría de las películas han sido clasificadas con un sentimiento *neutro*, ya que son casi 80 mil películas calificadas con esta etiqueta, en concreto son 79582 valoraciones como sentimiento neutro. Del resto, existen más películas clasificadas positivamente que negativamente, pero la diferencia tampoco es muy acentuada. Poco más de 30 mil películas (32927) son clasificadas como algo positivas y poco más de 9 mil como positivas. Por el contrario, las películas algo negativas no superan los 30 mil casos y las clasificadas con un sentimiento negativo no son más que 7072 en total."
      ]
    },
    {
      "cell_type": "code",
      "execution_count": null,
      "metadata": {
        "colab": {
          "base_uri": "https://localhost:8080/"
        },
        "id": "ILsaea4-gk0T",
        "outputId": "72b6264b-5ac4-41cb-e53e-2c7fbed9fb02"
      },
      "outputs": [
        {
          "data": {
            "text/plain": [
              "2    79582\n",
              "3    32927\n",
              "1    27273\n",
              "4     9206\n",
              "0     7072\n",
              "Name: Sentiment, dtype: int64"
            ]
          },
          "execution_count": 57,
          "metadata": {},
          "output_type": "execute_result"
        }
      ],
      "source": [
        "train_data.Sentiment.value_counts()"
      ]
    },
    {
      "cell_type": "markdown",
      "metadata": {
        "id": "1lRO6NukeH2U"
      },
      "source": [
        "## Técnicas de clasificación \n",
        "\n",
        "A continuación aplicaremos dos técnicas de clasificación basadas en redes neuronales. La primera de ellas, será una red neuronal clásica y para la segunda aplicaremos la técnica conocida como word embeddings.\n",
        "\n",
        "La diferencia reside en que haciendo uso de word embedding, logramos recuperar la visión de secuencia de las palabras que perdíamos con la red neuronal clásica, ya que con esta última, no se impone el orden de las palabras en el dicionario, y en la vida real, las palabras están vinculadas entre sí."
      ]
    },
    {
      "cell_type": "code",
      "execution_count": null,
      "metadata": {
        "id": "UEzpZ0QOcd6h"
      },
      "outputs": [],
      "source": []
    },
    {
      "cell_type": "markdown",
      "metadata": {
        "id": "ihezeMf7Y6st"
      },
      "source": [
        "### División de los datos de entrenamiento y testeo"
      ]
    },
    {
      "cell_type": "markdown",
      "metadata": {
        "id": "ynB9M_dnlLIz"
      },
      "source": [
        "Para crear el modelo de clasificación, vamos a hacer una división de los datos de entrenamiento en las siguientes partes: un conjunto de datos de entrenamiento y otro de validación. Utilizaremos el **75%** de los registros para entrenar y el **25%** restante para validar el modelo.\n"
      ]
    },
    {
      "cell_type": "code",
      "execution_count": null,
      "metadata": {
        "id": "5m6lKT3XlhUE"
      },
      "outputs": [],
      "source": [
        "# Separamos el conjunto de datos en train y test\n",
        "\n",
        "from sklearn.model_selection import train_test_split\n",
        "\n",
        "Frases = train_data['Phrase'].values\n",
        "y = train_data['Sentiment'].values # Variable Target, la que quiero predecir\n",
        "# 75% para entrenar y 25% para testear\n",
        "frases_entrenamiento, frases_validacion, y_entrenamiento, y_validacion = train_test_split(Frases, y, test_size=0.25, random_state=1000)"
      ]
    },
    {
      "cell_type": "code",
      "execution_count": null,
      "metadata": {
        "colab": {
          "base_uri": "https://localhost:8080/"
        },
        "id": "-7iD2hENK4-K",
        "outputId": "f21dea7e-dff6-4ba9-fff8-8f651ce3951b"
      },
      "outputs": [
        {
          "name": "stdout",
          "output_type": "stream",
          "text": [
            "Algunas frases de testeo:\n",
            "\n",
            " an intermittently pleasing but mostly routine effort\n",
            "\n",
            " an intermittently pleasing but mostly routine effort\n",
            "\n",
            " an\n",
            "\n",
            " intermittently pleasing but mostly routine effort\n",
            "\n",
            " intermittently pleasing but mostly routine\n",
            "\n",
            " intermittently pleasing but\n",
            "\n",
            " intermittently pleasing\n",
            "\n",
            " intermittently\n",
            "\n",
            " pleasing\n",
            "\n",
            " but\n"
          ]
        },
        {
          "data": {
            "text/plain": [
              "[None, None, None, None, None, None, None, None, None, None]"
            ]
          },
          "execution_count": 59,
          "metadata": {},
          "output_type": "execute_result"
        }
      ],
      "source": [
        "frases_testeo =  test_data['Phrase'].values\n",
        "print('Algunas frases de testeo:')\n",
        "[print('\\n',i) for i in frases_testeo[0:10]]"
      ]
    },
    {
      "cell_type": "code",
      "execution_count": null,
      "metadata": {
        "colab": {
          "base_uri": "https://localhost:8080/"
        },
        "id": "cYqQ64s-mV57",
        "outputId": "9b48d251-b8db-426f-cbf6-a12f60c74c76"
      },
      "outputs": [
        {
          "name": "stderr",
          "output_type": "stream",
          "text": [
            "/usr/local/lib/python3.8/dist-packages/sklearn/utils/deprecation.py:87: FutureWarning: Function get_feature_names is deprecated; get_feature_names is deprecated in 1.0 and will be removed in 1.2. Please use get_feature_names_out instead.\n",
            "  warnings.warn(msg, category=FutureWarning)\n"
          ]
        },
        {
          "name": "stdout",
          "output_type": "stream",
          "text": [
            "Cantidad de palabras en el vectorizador:  1000\n"
          ]
        }
      ],
      "source": [
        "from sklearn.feature_extraction.text import CountVectorizer\n",
        "max_features= 1000 # Elegiremos las mil palabras que más se repiten\n",
        "vectorizer = CountVectorizer(max_features=max_features)\n",
        "vectorizer.fit(frases_entrenamiento) \n",
        "\n",
        "print(\"Cantidad de palabras en el vectorizador: \", len(vectorizer.get_feature_names())) # Número de palabras del vocabulario\n",
        "\n",
        "X_entrenamiento = vectorizer.transform( frases_entrenamiento ) # \n",
        "X_validacion  = vectorizer.transform( frases_validacion )\n"
      ]
    },
    {
      "cell_type": "code",
      "execution_count": null,
      "metadata": {
        "id": "hcgMoIakiKeq"
      },
      "outputs": [],
      "source": []
    },
    {
      "cell_type": "code",
      "execution_count": null,
      "metadata": {
        "colab": {
          "base_uri": "https://localhost:8080/"
        },
        "id": "4CorpqvcnAg6",
        "outputId": "d667b8b8-e701-47b0-8dca-4c3639d672f1"
      },
      "outputs": [
        {
          "name": "stdout",
          "output_type": "stream",
          "text": [
            "Frase : \n",
            " going to this movie is a little like chewing whale blubber it s an acquired taste that takes time to enjoy but it s worth it even if it does take 3 hours to get through\n",
            "Representación esparsa: \n",
            "   (0, 40)\t1\n",
            "  (0, 109)\t1\n",
            "  (0, 212)\t1\n",
            "  (0, 245)\t1\n",
            "  (0, 258)\t1\n",
            "  (0, 346)\t1\n",
            "  (0, 356)\t1\n",
            "  (0, 407)\t1\n",
            "  (0, 416)\t1\n",
            "  (0, 442)\t1\n",
            "  (0, 444)\t4\n",
            "  (0, 481)\t1\n",
            "  (0, 485)\t1\n",
            "  (0, 550)\t1\n",
            "  (0, 823)\t1\n",
            "  (0, 825)\t1\n",
            "  (0, 831)\t1\n",
            "  (0, 840)\t1\n",
            "  (0, 856)\t1\n",
            "  (0, 864)\t1\n",
            "  (0, 866)\t1\n",
            "  (0, 870)\t3\n",
            "  (0, 985)\t1\n",
            "['10', '20', '90', 'ability', 'able', 'about', 'above', 'across', 'act', 'acted', 'acting', 'action', 'actor', 'actors', 'actress', 'actually', 'adaptation', 'add', 'adults', 'adventure', 'after', 'again', 'against', 'age', 'ages', 'ago', 'air', 'all', 'almost', 'alone', 'along', 'already', 'also', 'always', 'ambitious', 'america', 'american', 'among', 'amount', 'amusing', 'an', 'and', 'animated', 'animation', 'another', 'anti', 'any', 'anyone', 'anything', 'appeal', 'appealing', 'approach', 'are', 'around', 'art', 'artist', 'as', 'at', 'atmosphere', 'attempt', 'attempts', 'attention', 'audience', 'audiences', 'average', 'away', 'awful', 'back', 'bad', 'badly', 'barely', 'based', 'battle', 'be', 'beautiful', 'beautifully', 'beauty', 'because', 'become', 'becomes', 'been', 'before', 'behind', 'being', 'believable', 'believe', 'best', 'better', 'between', 'beyond', 'big', 'bit', 'bizarre', 'black', 'bland', 'blood', 'book', 'boring', 'both', 'boy', 'boys', 'brain', 'break', 'brilliant', 'bring', 'british', 'brothers', 'budget', 'business', 'but', 'by', 'ca', 'call', 'called', 'camera', 'can', 'car', 'care', 'career', 'cartoon', 'case', 'cast', 'central', 'century', 'certain', 'certainly', 'chan', 'change', 'character', 'characters', 'charm', 'charming', 'cheap', 'chemistry', 'children', 'cinema', 'cinematic', 'city', 'class', 'classic', 'clear', 'clever', 'cliches', 'close', 'co', 'cold', 'college', 'colorful', 'come', 'comedies', 'comedy', 'comes', 'comic', 'coming', 'company', 'compelling', 'completely', 'complex', 'computer', 'concept', 'conclusion', 'considerable', 'contemporary', 'contrived', 'conventional', 'convincing', 'cool', 'core', 'could', 'country', 'couple', 'crafted', 'crazy', 'create', 'creative', 'creepy', 'crime', 'crowd', 'cultural', 'culture', 'cut', 'cute', 'damned', 'dark', 'date', 'david', 'day', 'days', 'de', 'dead', 'deal', 'death', 'debut', 'decades', 'decent', 'deep', 'deeply', 'delightful', 'delivers', 'depth', 'despite', 'dialogue', 'did', 'different', 'difficult', 'directed', 'direction', 'director', 'directors', 'disney', 'do', 'documentary', 'does', 'dog', 'doing', 'done', 'doubt', 'down', 'drama', 'dramatic', 'dream', 'dry', 'dull', 'dumb', 'during', 'each', 'earnest', 'easily', 'easy', 'edge', 'effective', 'effects', 'effort', 'either', 'elements', 'else', 'emotional', 'emotionally', 'emotions', 'end', 'ending', 'ends', 'energy', 'engaging', 'engrossing', 'enjoy', 'enjoyable', 'enough', 'ensemble', 'entertaining', 'entertainment', 'entire', 'entirely', 'epic', 'episode', 'equally', 'era', 'especially', 'even', 'events', 'ever', 'every', 'everyone', 'everything', 'evil', 'exactly', 'examination', 'excellent', 'exciting', 'execution', 'exercise', 'expect', 'experience', 'extreme', 'eye', 'eyes', 'face', 'fact', 'fails', 'fairly', 'falls', 'familiar', 'family', 'fans', 'fantasy', 'far', 'fascinating', 'fashioned', 'fast', 'favor', 'feature', 'feel', 'feeling', 'feels', 'felt', 'female', 'few', 'fi', 'fiction', 'figure', 'film', 'filmmaker', 'filmmakers', 'filmmaking', 'films', 'final', 'finally', 'find', 'fine', 'fire', 'first', 'fit', 'five', 'flat', 'flawed', 'flaws', 'flick', 'flicks', 'for', 'force', 'forget', 'forgettable', 'form', 'formula', 'found', 'four', 'frame', 'franchise', 'free', 'french', 'fresh', 'friendship', 'from', 'full', 'fully', 'fun', 'funny', 'future', 'gags', 'game', 'gay', 'generic', 'genre', 'gentle', 'genuine', 'george', 'get', 'gets', 'getting', 'girl', 'girls', 'give', 'given', 'gives', 'go', 'goes', 'going', 'gone', 'good', 'goofy', 'gorgeous', 'got', 'grace', 'grant', 'great', 'greatest', 'gross', 'growing', 'guilty', 'guy', 'guys', 'had', 'half', 'hand', 'happen', 'happy', 'hard', 'has', 'have', 'having', 'he', 'head', 'heart', 'heavy', 'hell', 'help', 'her', 'here', 'hero', 'high', 'highly', 'hilarious', 'him', 'himself', 'hip', 'his', 'historical', 'history', 'hit', 'hold', 'holiday', 'hollywood', 'home', 'honest', 'horror', 'hot', 'hour', 'hours', 'house', 'how', 'huge', 'human', 'humanity', 'humor', 'idea', 'ideas', 'if', 'ii', 'ill', 'images', 'imagination', 'imagine', 'impact', 'important', 'impossible', 'in', 'indie', 'industry', 'inside', 'insight', 'inspired', 'instead', 'intelligence', 'intelligent', 'intended', 'interest', 'interested', 'interesting', 'into', 'intrigue', 'intriguing', 'inventive', 'is', 'issues', 'it', 'its', 'itself', 'job', 'john', 'joke', 'jokes', 'journey', 'just', 'justice', 'keep', 'keeps', 'kid', 'kids', 'killer', 'kind', 'know', 'knows', 'lack', 'lacks', 'large', 'last', 'late', 'latest', 'laugh', 'laughs', 'lead', 'least', 'leave', 'leaves', 'left', 'length', 'less', 'let', 'level', 'life', 'light', 'like', 'likely', 'line', 'list', 'little', 'live', 'lives', 'living', 'll', 'long', 'look', 'looking', 'looks', 'loss', 'lost', 'lot', 'loud', 'love', 'lovely', 'low', 'lrb', 'made', 'magic', 'major', 'make', 'makes', 'making', 'man', 'manages', 'manipulative', 'manner', 'many', 'master', 'masterpiece', 'material', 'matter', 'may', 'maybe', 'me', 'mean', 'meaning', 'mediocre', 'melodrama', 'memorable', 'memory', 'men', 'merely', 'mess', 'message', 'michael', 'middle', 'might', 'mildly', 'mind', 'minded', 'minute', 'minutes', 'modern', 'moment', 'moments', 'money', 'monster', 'mood', 'moral', 'more', 'most', 'mostly', 'mother', 'motion', 'movie', 'movies', 'moving', 'mr', 'ms', 'much', 'murder', 'music', 'must', 'my', 'mystery', 'name', 'narrative', 'nature', 'nearly', 'need', 'needs', 'neither', 'never', 'new', 'next', 'nice', 'night', 'no', 'non', 'none', 'nor', 'not', 'nothing', 'novel', 'now', 'number', 'numbers', 'obvious', 'occasionally', 'odd', 'of', 'off', 'offer', 'offers', 'often', 'old', 'on', 'once', 'one', 'ones', 'only', 'open', 'opera', 'or', 'original', 'oscar', 'other', 'others', 'otherwise', 'our', 'out', 'over', 'overall', 'own', 'pace', 'paced', 'pacing', 'painful', 'parents', 'part', 'particularly', 'party', 'passion', 'past', 'pay', 'people', 'perfect', 'perfectly', 'performance', 'performances', 'period', 'personal', 'perspective', 'picture', 'pictures', 'piece', 'pieces', 'place', 'places', 'plain', 'play', 'playing', 'plays', 'pleasure', 'plenty', 'plot', 'point', 'points', 'political', 'poor', 'poorly', 'pop', 'popcorn', 'portrait', 'possible', 'post', 'potential', 'power', 'powerful', 'predictable', 'premise', 'pretentious', 'pretty', 'previous', 'probably', 'problem', 'problems', 'process', 'production', 'project', 'promise', 'proves', 'provocative', 'psychological', 'pure', 'purpose', 'put', 'quality', 'queen', 'questions', 'quiet', 'quirky', 'quite', 'rare', 'rather', 're', 'read', 'real', 'reality', 'really', 'reason', 'recent', 'red', 'relationship', 'relationships', 'release', 'remains', 'remake', 'remarkable', 'rest', 'rich', 'ride', 'right', 'road', 'robert', 'rock', 'role', 'romance', 'romantic', 'room', 'rrb', 'run', 'running', 'sad', 'same', 'sandler', 'satire', 'satisfying', 'saw', 'say', 'scary', 'scene', 'scenes', 'school', 'sci', 'science', 'screen', 'screenplay', 'script', 'seat', 'second', 'see', 'seeing', 'seem', 'seems', 'seen', 'self', 'sense', 'sentimental', 'sequel', 'sequences', 'series', 'serious', 'set', 'several', 'sex', 'sexual', 'share', 'sharp', 'she', 'shoot', 'short', 'shot', 'shots', 'should', 'show', 'shows', 'side', 'silly', 'simple', 'simply', 'since', 'sincere', 'single', 'sit', 'situation', 'situations', 'skin', 'slapstick', 'slight', 'slightly', 'slow', 'small', 'smart', 'so', 'soap', 'social', 'solid', 'some', 'someone', 'something', 'sometimes', 'somewhat', 'sophisticated', 'sort', 'soul', 'sound', 'south', 'special', 'spielberg', 'spirit', 'spy', 'stand', 'standard', 'star', 'stars', 'start', 'starts', 'step', 'steven', 'still', 'stories', 'story', 'storytelling', 'straight', 'strange', 'strong', 'study', 'stuff', 'stupid', 'style', 'stylish', 'subject', 'subtle', 'success', 'successful', 'such', 'summer', 'supposed', 'sure', 'surprise', 'surprises', 'surprising', 'surprisingly', 'suspense', 'sustain', 'sweet', 'take', 'taken', 'takes', 'taking', 'tale', 'talent', 'talented', 'target', 'taste', 'tedious', 'teen', 'television', 'tell', 'telling', 'tension', 'terrific', 'than', 'that', 'the', 'theater', 'their', 'them', 'themes', 'themselves', 'then', 'there', 'these', 'they', 'thin', 'thing', 'things', 'think', 'thinking', 'this', 'thoroughly', 'those', 'though', 'thought', 'thoughtful', 'three', 'thriller', 'through', 'throughout', 'time', 'times', 'tired', 'title', 'to', 'today', 'together', 'told', 'tom', 'tone', 'too', 'top', 'touch', 'touching', 'tragedy', 'tragic', 'treatment', 'tries', 'trip', 'trouble', 'true', 'truly', 'truth', 'try', 'trying', 'turn', 'turned', 'turns', 'tv', 'twice', 'twists', 'two', 'typical', 'ugly', 'ultimate', 'ultimately', 'under', 'understand', 'unexpected', 'unfunny', 'unique', 'universal', 'unsettling', 'until', 'up', 'upon', 'urban', 'us', 'use', 'used', 'uses', 'usual', 'utterly', 've', 'version', 'very', 'video', 'view', 'viewer', 'viewers', 'viewing', 'violence', 'vision', 'visual', 'visually', 'voice', 'want', 'wanted', 'wants', 'war', 'warm', 'warmth', 'was', 'waste', 'watch', 'watchable', 'watching', 'water', 'way', 'ways', 'we', 'weird', 'welcome', 'well', 'were', 'what', 'when', 'where', 'whether', 'which', 'while', 'white', 'who', 'whole', 'whose', 'why', 'wife', 'wild', 'will', 'williams', 'win', 'winning', 'wise', 'wish', 'wit', 'with', 'without', 'wo', 'woman', 'women', 'wonderful', 'word', 'words', 'work', 'working', 'works', 'world', 'worse', 'worst', 'worth', 'worthy', 'would', 'writer', 'writing', 'written', 'wrong', 'ya', 'year', 'years', 'yet', 'york', 'you', 'young', 'your']\n"
          ]
        }
      ],
      "source": [
        "# Inspeccionamos el resultado de la vectorización\n",
        "\n",
        "# Cojo la frase 0 del dataframe inicial\n",
        "print(\"Frase : \\n\", frases_entrenamiento[100]) # Texto\n",
        "print(\"Representación esparsa: \\n\", X_entrenamiento[100] ) # Hay un uno en las posiciones: 125,145,201,...\n",
        "# Representación esparsa, que transforma una matriz con ceros y un pocos valores no nulos en  cada fila\n",
        "\n",
        "\n",
        "# Vocabulario\n",
        "print( vectorizer.get_feature_names() ) "
      ]
    },
    {
      "cell_type": "markdown",
      "metadata": {
        "id": "BVzYY2m7o6cP"
      },
      "source": []
    },
    {
      "cell_type": "markdown",
      "metadata": {
        "id": "0_g8oIr7o7jP"
      },
      "source": [
        "### Red Neuronal clásica"
      ]
    },
    {
      "cell_type": "markdown",
      "metadata": {
        "id": "W6ueNIkyiZKU"
      },
      "source": [
        "A continuación, se muestra la red neuronal clásica que vamos a emplear a nuestro modelo. \n",
        "\n",
        "Iniciamos el modelo de forma secuencial con dos capas ocultas; la primera capa contiene **160 neuronas** y la segunda capa consta de **50 neuronas**. La capa de salida contiene 5 neuronas que corresponden a las 5 clases de la variable objetivo.\n",
        "\n",
        "La función de activación *softmax* para la última capa se ha elegido debido a que se trata de un problema de clasificación múltiple. Con esta función, obtendremos para cada frase  un valor entre 0 y 1 para cada una de las categorías, por lo que podemos ver estos valores como la probabilidad de que la frase pertenezca a cada categoría."
      ]
    },
    {
      "cell_type": "code",
      "execution_count": null,
      "metadata": {
        "colab": {
          "base_uri": "https://localhost:8080/"
        },
        "id": "pGxu-MPFo6i3",
        "outputId": "f488db4f-a72e-495b-df94-b8a0bdb7e9d6"
      },
      "outputs": [
        {
          "name": "stdout",
          "output_type": "stream",
          "text": [
            "Model: \"sequential_1\"\n",
            "_________________________________________________________________\n",
            " Layer (type)                Output Shape              Param #   \n",
            "=================================================================\n",
            " dense_3 (Dense)             (None, 30)                30030     \n",
            "                                                                 \n",
            " dense_4 (Dense)             (None, 5)                 155       \n",
            "                                                                 \n",
            "=================================================================\n",
            "Total params: 30,185\n",
            "Trainable params: 30,185\n",
            "Non-trainable params: 0\n",
            "_________________________________________________________________\n"
          ]
        }
      ],
      "source": [
        "from tensorflow.keras.models import Sequential\n",
        "from tensorflow.keras.layers import Dense\n",
        "\n",
        "# La cantidad de entradas es el tamaño del vocabulario\n",
        "input_dim = X_entrenamiento.shape[1]  # Número de columnas\n",
        "\n",
        "model = Sequential()\n",
        "\n",
        "# Una capa densa con 10 neuronas\n",
        "model.add(Dense(30, \n",
        "                input_dim=input_dim, # Dim de entrada son 15222 filas\n",
        "                activation='relu'))\n",
        "# Una capa densa de salida con 5 neuronas, una por clsae\n",
        "model.add(Dense(5, activation='softmax')) #cinco neuronas en la salida por las 5 clases\n",
        "\n",
        "model.compile(loss='categorical_crossentropy', \n",
        "              optimizer='adam', \n",
        "              metrics=['accuracy'])\n",
        "\n",
        "model.summary()"
      ]
    },
    {
      "cell_type": "code",
      "execution_count": null,
      "metadata": {
        "colab": {
          "base_uri": "https://localhost:8080/"
        },
        "id": "y8ZaSwyspgRt",
        "outputId": "f421790e-2cb5-4e00-a225-6e34797303f5"
      },
      "outputs": [
        {
          "name": "stdout",
          "output_type": "stream",
          "text": [
            "Entrenamiento \t Validación\n",
            "x  (117045, 1000) (39015, 1000)\n",
            "y  (117045, 5) (39015, 5)\n"
          ]
        }
      ],
      "source": [
        "# Transformamos los y a categorical\n",
        "from tensorflow.keras.utils import to_categorical\n",
        "\n",
        "# Tengo que transformar a categoricas las etiquetas, ya que puse dos neuronas a la salida\n",
        "# Y train tiene 0s y 1s\n",
        "# 0 lo paso a (1,0,0,0,0) \n",
        "# 1 lo paso a (0,1,0,0,0)\n",
        "# 2 lo paso a (0,0,1,0,0)\n",
        "# 3 lo paso a (0,0,0,1,0)\n",
        "# 4 lo paso a (0,0,0,0,1)\n",
        "\n",
        "y_entrenamiento_categorico = to_categorical( y_entrenamiento )\n",
        "y_validacion_categorico = to_categorical( y_validacion )\n",
        "\n",
        "X_entrenamiento_dense = X_entrenamiento.todense() # Paso de representación esparsa a densa\n",
        "X_validacion_dense = X_validacion.todense()\n",
        "print('Entrenamiento \\t Validación')\n",
        "print('x ',X_entrenamiento_dense.shape,X_validacion_dense.shape)\n",
        "print('y ',y_entrenamiento_categorico.shape,y_validacion_categorico.shape)"
      ]
    },
    {
      "cell_type": "code",
      "execution_count": null,
      "metadata": {
        "colab": {
          "base_uri": "https://localhost:8080/"
        },
        "id": "TL-x19mCiL0T",
        "outputId": "e16f55b9-ecb1-4ca5-ee75-9efca0c5ed45"
      },
      "outputs": [
        {
          "name": "stdout",
          "output_type": "stream",
          "text": [
            "Epoch 1/30\n",
            "11705/11705 [==============================] - 42s 4ms/step - loss: 1.0803 - accuracy: 0.5784 - val_loss: 1.0410 - val_accuracy: 0.5928\n",
            "Epoch 2/30\n",
            "11705/11705 [==============================] - 46s 4ms/step - loss: 1.0062 - accuracy: 0.6087 - val_loss: 1.0225 - val_accuracy: 0.5983\n",
            "Epoch 3/30\n",
            "11705/11705 [==============================] - 46s 4ms/step - loss: 0.9743 - accuracy: 0.6224 - val_loss: 1.0144 - val_accuracy: 0.6034\n",
            "Epoch 4/30\n",
            "11705/11705 [==============================] - 47s 4ms/step - loss: 0.9514 - accuracy: 0.6326 - val_loss: 1.0121 - val_accuracy: 0.6072\n",
            "Epoch 5/30\n",
            "11705/11705 [==============================] - 44s 4ms/step - loss: 0.9324 - accuracy: 0.6410 - val_loss: 1.0086 - val_accuracy: 0.6075\n",
            "Epoch 6/30\n",
            "11705/11705 [==============================] - 50s 4ms/step - loss: 0.9172 - accuracy: 0.6475 - val_loss: 1.0116 - val_accuracy: 0.6087\n",
            "Epoch 7/30\n",
            "11705/11705 [==============================] - 44s 4ms/step - loss: 0.9051 - accuracy: 0.6515 - val_loss: 1.0087 - val_accuracy: 0.6120\n",
            "Epoch 8/30\n",
            "11705/11705 [==============================] - 50s 4ms/step - loss: 0.8942 - accuracy: 0.6559 - val_loss: 1.0126 - val_accuracy: 0.6120\n",
            "Epoch 9/30\n",
            "11705/11705 [==============================] - 50s 4ms/step - loss: 0.8848 - accuracy: 0.6606 - val_loss: 1.0149 - val_accuracy: 0.6113\n",
            "Epoch 10/30\n",
            "11705/11705 [==============================] - 42s 4ms/step - loss: 0.8770 - accuracy: 0.6625 - val_loss: 1.0178 - val_accuracy: 0.6121\n",
            "Epoch 11/30\n",
            "11705/11705 [==============================] - 44s 4ms/step - loss: 0.8698 - accuracy: 0.6657 - val_loss: 1.0200 - val_accuracy: 0.6118\n",
            "Epoch 12/30\n",
            "11705/11705 [==============================] - 39s 3ms/step - loss: 0.8637 - accuracy: 0.6678 - val_loss: 1.0193 - val_accuracy: 0.6129\n",
            "Epoch 13/30\n",
            "11705/11705 [==============================] - 42s 4ms/step - loss: 0.8575 - accuracy: 0.6704 - val_loss: 1.0217 - val_accuracy: 0.6121\n",
            "Epoch 14/30\n",
            "11705/11705 [==============================] - 40s 3ms/step - loss: 0.8530 - accuracy: 0.6713 - val_loss: 1.0257 - val_accuracy: 0.6118\n",
            "Epoch 15/30\n",
            "11705/11705 [==============================] - 39s 3ms/step - loss: 0.8482 - accuracy: 0.6742 - val_loss: 1.0305 - val_accuracy: 0.6122\n",
            "Epoch 16/30\n",
            "11705/11705 [==============================] - 39s 3ms/step - loss: 0.8439 - accuracy: 0.6763 - val_loss: 1.0298 - val_accuracy: 0.6120\n",
            "Epoch 17/30\n",
            "11705/11705 [==============================] - 39s 3ms/step - loss: 0.8400 - accuracy: 0.6781 - val_loss: 1.0357 - val_accuracy: 0.6130\n",
            "Epoch 18/30\n",
            "11705/11705 [==============================] - 42s 4ms/step - loss: 0.8364 - accuracy: 0.6790 - val_loss: 1.0401 - val_accuracy: 0.6125\n",
            "Epoch 19/30\n",
            "11705/11705 [==============================] - 44s 4ms/step - loss: 0.8332 - accuracy: 0.6809 - val_loss: 1.0386 - val_accuracy: 0.6124\n",
            "Epoch 20/30\n",
            "11705/11705 [==============================] - 39s 3ms/step - loss: 0.8304 - accuracy: 0.6815 - val_loss: 1.0417 - val_accuracy: 0.6113\n",
            "Epoch 21/30\n",
            "11705/11705 [==============================] - 39s 3ms/step - loss: 0.8273 - accuracy: 0.6834 - val_loss: 1.0439 - val_accuracy: 0.6119\n",
            "Epoch 22/30\n",
            "11705/11705 [==============================] - 42s 4ms/step - loss: 0.8247 - accuracy: 0.6837 - val_loss: 1.0460 - val_accuracy: 0.6137\n",
            "Epoch 23/30\n",
            "11705/11705 [==============================] - 40s 3ms/step - loss: 0.8220 - accuracy: 0.6846 - val_loss: 1.0490 - val_accuracy: 0.6108\n",
            "Epoch 24/30\n",
            "11705/11705 [==============================] - 39s 3ms/step - loss: 0.8198 - accuracy: 0.6858 - val_loss: 1.0518 - val_accuracy: 0.6098\n",
            "Epoch 25/30\n",
            "11705/11705 [==============================] - 39s 3ms/step - loss: 0.8172 - accuracy: 0.6878 - val_loss: 1.0518 - val_accuracy: 0.6120\n",
            "Epoch 26/30\n",
            "11705/11705 [==============================] - 42s 4ms/step - loss: 0.8155 - accuracy: 0.6877 - val_loss: 1.0551 - val_accuracy: 0.6097\n",
            "Epoch 27/30\n",
            "11705/11705 [==============================] - 41s 3ms/step - loss: 0.8133 - accuracy: 0.6883 - val_loss: 1.0609 - val_accuracy: 0.6125\n",
            "Epoch 28/30\n",
            "11705/11705 [==============================] - 40s 3ms/step - loss: 0.8111 - accuracy: 0.6895 - val_loss: 1.0589 - val_accuracy: 0.6116\n",
            "Epoch 29/30\n",
            "11705/11705 [==============================] - 44s 4ms/step - loss: 0.8094 - accuracy: 0.6905 - val_loss: 1.0617 - val_accuracy: 0.6115\n",
            "Epoch 30/30\n",
            "11705/11705 [==============================] - 43s 4ms/step - loss: 0.8079 - accuracy: 0.6904 - val_loss: 1.0627 - val_accuracy: 0.6071\n"
          ]
        }
      ],
      "source": [
        "# Entrenamos el modelo con los datos de entrenamiento y validamos con los de validación\n",
        "history = model.fit(X_entrenamiento_dense, y_entrenamiento_categorico,\n",
        "                    epochs=30,\n",
        "                    verbose=True,\n",
        "                    validation_data=(X_validacion_dense, y_validacion_categorico),   \n",
        "                    batch_size=10)"
      ]
    },
    {
      "cell_type": "markdown",
      "metadata": {
        "id": "hgQYoYWcl0ct"
      },
      "source": [
        "Con 30 épocas y 1000 palabras no conseguimos mejorar mucho conforme avanzan las épocas, en el entrenamiento nos estancamos alrededor de un $R^2 \\in [0.6,0.63]$ mientras que para la validación no conseguimos alcanzar un valor de $R^2 =0.6$ hasta la época 21. Sin embargo, esta métrica no se mantiene, y oscila en torno a un valor de coeficiente de correlación de 0.6.\n",
        "\n",
        "A continuación, modificamos la red de la siguiente forma:\n",
        "- Primera capa densa: 160 neuronas\n",
        "- Segunda capa densa: 50 neuronas\n",
        "\n",
        "Al ejecutar observamos que en las métricas ocurría lo siguiente: al iniciar la red, el valor de la precisión en la validación ya alcanzó un valor de 0.61 en la primera época. Este valor no se alcanzó para la red actual hasta la época 21, sin embargo, el valor de la pérdida era mucho mayor para la red con las dos capas densas. Además, el coste computacional de introducir otra capa densa era muy alto y los resultados obtenidos tampoco superaron a los de la red simple.\n",
        "\n",
        "Por ello, hemos decidido seleccionar como modelo de red neuronal definitiva la que únicamente dispone de **una capa densa**"
      ]
    },
    {
      "cell_type": "markdown",
      "metadata": {
        "id": "32N5qWZ-i9JV"
      },
      "source": [
        "Ahora, evaluamos el modelo y comparamos la precisión en los datos de entrenamiento y testeo:"
      ]
    },
    {
      "cell_type": "code",
      "execution_count": null,
      "metadata": {
        "colab": {
          "base_uri": "https://localhost:8080/"
        },
        "id": "mRvcSUagiiA3",
        "outputId": "62a8a3f5-0c6f-4716-c4ff-5f9189015c2a"
      },
      "outputs": [
        {
          "name": "stdout",
          "output_type": "stream",
          "text": [
            "Precisión en el entrenamiento: 0.7041\n",
            "Precisión en el testeo:  0.6071\n"
          ]
        }
      ],
      "source": [
        "loss, accuracy = model.evaluate(X_entrenamiento_dense, y_entrenamiento_categorico, verbose=False)\n",
        "print(\"Precisión en el entrenamiento: {:.4f}\".format(accuracy))\n",
        "loss, accuracy = model.evaluate(X_validacion_dense, y_validacion_categorico, verbose=False)\n",
        "print(\"Precisión en el testeo:  {:.4f}\".format(accuracy))"
      ]
    },
    {
      "cell_type": "markdown",
      "metadata": {
        "id": "81b5saj6jWx9"
      },
      "source": [
        "Graficamos la pérdida y la precisión"
      ]
    },
    {
      "cell_type": "code",
      "execution_count": null,
      "metadata": {
        "id": "3Bo6F17yjZqw"
      },
      "outputs": [],
      "source": [
        "def plot_history(history):\n",
        "    acc = history.history['accuracy']\n",
        "    val_acc = history.history['val_accuracy']\n",
        "    loss = history.history['loss']\n",
        "    val_loss = history.history['val_loss']\n",
        "    x = range(1, len(acc) + 1)\n",
        "\n",
        "    plt.figure(figsize=(12, 5))\n",
        "    plt.subplot(1, 2, 1)\n",
        "    plt.plot(x, acc, 'b', label='Acc entrenamiento')\n",
        "    plt.plot(x, val_acc, 'r', label='Acc validación')\n",
        "    plt.title('Precisión en el entrenamiento y la validación')\n",
        "    plt.legend()\n",
        "    plt.subplot(1, 2, 2)\n",
        "    plt.plot(x, loss, 'b', label='Pérdida en el entrenamiento')\n",
        "    plt.plot(x, val_loss, 'r', label='Pérdida en la validación')\n",
        "    plt.title('Pérdida en el entrenamiento y la validación')\n",
        "    plt.legend()\n"
      ]
    },
    {
      "cell_type": "code",
      "execution_count": null,
      "metadata": {
        "colab": {
          "base_uri": "https://localhost:8080/",
          "height": 336
        },
        "id": "pu9ziN0qwVsv",
        "outputId": "0061d238-12ac-4670-9a15-86045dcd4d73"
      },
      "outputs": [
        {
          "data": {
            "image/png": "[encoded data removed]",
            "text/plain": [
              "<Figure size 864x360 with 2 Axes>"
            ]
          },
          "metadata": {
            "needs_background": "light"
          },
          "output_type": "display_data"
        }
      ],
      "source": [
        "\n",
        "plot_history( history )"
      ]
    },
    {
      "cell_type": "markdown",
      "metadata": {
        "id": "xYpAe2tooKEO"
      },
      "source": [
        "**Accuracy**\n",
        "\n",
        "En la gráfica de precisión observamos que el modelo predice casi prácticamente con un 70% para los datos de entrenamiento pero no es capaz de generalizar para los datos nuevos (validación), por lo que se deduce que el modelo no está aprendiendo, es decir, el modelo *memoriza* los datos de entrenamiento y no puede clasificar el sentimiento de una frase nueva. En las gráficas se aprecia algo de sobreajuste. El valor del coeficiente de correlación en los datos de validación oscila alrededor del 0.6, es decir, el modelo es capaz de explicar un 60% de la variabilidad de la respuesta, el sentimiento de la frase.\n",
        "\n",
        "**Loss**\n",
        "\n",
        "En la gráfica de pérdida en el entrenamiento y la validación, vemos como en las primeras épocas se separan muchísimo las líneas, es decir, la pérdida en el entrenamiendo se separa rápidamente de la de validación. Para el entrenamiento la pérdida disminuye conforme avanzan las épocas y en el conjunto de validación, esta métrica aumenta con el paso de las épocas.\n",
        "\n",
        "\n",
        "\n",
        "Después de las 30 épocas, la pérdida pequeña para los datos del entrenamiento y el valor del coeficiente de correlación (acurracy) es aceptable y está entorno al 0.7. Ocurre diferente para los datos de validación, ya que la pérdida es bastante mayor y crece conforme avanzan las épocas."
      ]
    },
    {
      "cell_type": "markdown",
      "metadata": {
        "id": "9lVR8buIj3ma"
      },
      "source": [
        "### Word embeddings\n",
        "\n",
        "\n",
        "Con la técnica word embeddings, como ya hemos descrito antes, mantendremos la secuencia de las palabras a través de la matriz W, que es la matriz que entrenaremos. La técnica asocia un vector a cada palabra\n"
      ]
    },
    {
      "cell_type": "code",
      "execution_count": null,
      "metadata": {
        "colab": {
          "base_uri": "https://localhost:8080/"
        },
        "id": "-XU0b88ylNvT",
        "outputId": "edba7a7f-eb1e-4338-e758-2774542fdd93"
      },
      "outputs": [
        {
          "name": "stdout",
          "output_type": "stream",
          "text": [
            "insufferably\n",
            "[]\n"
          ]
        }
      ],
      "source": [
        "from keras.preprocessing.text import Tokenizer\n",
        "# Tokenizador de keras\n",
        "\n",
        "tokenizer = Tokenizer(num_words=1500) # Como mucho 1500 palabras\n",
        "\n",
        "tokenizer.fit_on_texts(frases_entrenamiento) # Aquí aprendo el conjunto de entrenamiento, genero el listado de 1500 palabras ordenadas por frecuencia de aparición\n",
        "# Si aquí la palabra the no se usa, no va a apareder\n",
        "\n",
        "X_ENTRENAMIENTO_WE = tokenizer.texts_to_sequences(frases_entrenamiento)\n",
        "X_VALIDACION_WE    = tokenizer.texts_to_sequences(frases_validacion)\n",
        "X_TESTEO_WE =    tokenizer.texts_to_sequences(frases_testeo)\n",
        "vocab_size = len(tokenizer.word_index) + 1  # Adding 1 because of reserved 0 index\n",
        "\n",
        "print( frases_entrenamiento[0] )\n",
        "print( X_ENTRENAMIENTO_WE[0] )"
      ]
    },
    {
      "cell_type": "markdown",
      "metadata": {
        "id": "Ks0QqV8ClPJr"
      },
      "source": [
        "**Observación:** En este caso la representación X_train tiene una lista de índices indicando la palabra. En caso de que la palabra no sea conocida se saltea. De esta forma el largo máximo de la representación coincide con el número de palabras en la sentencia de entrada. Esto quiere decir que sentencias con diferente largo tendrán representaciones de largo distinto.  "
      ]
    },
    {
      "cell_type": "code",
      "execution_count": null,
      "metadata": {
        "colab": {
          "base_uri": "https://localhost:8080/"
        },
        "id": "s-jVDqTGmvLb",
        "outputId": "89b9b9b4-5ab4-4e74-d43a-1c434cdf5fcb"
      },
      "outputs": [
        {
          "name": "stdout",
          "output_type": "stream",
          "text": [
            "Representación de la primera frase del entrenamiento: \n",
            " [0 0 0 0 0 0 0 0 0 0 0 0 0 0 0 0 0 0 0 0 0 0 0 0 0 0 0 0 0 0 0 0 0 0 0 0 0\n",
            " 0 0 0 0 0 0 0 0 0 0 0 0 0]\n"
          ]
        }
      ],
      "source": [
        "# Se llevan todas las sentencias al mismo largo\n",
        "\n",
        "from tensorflow.keras.preprocessing.sequence import pad_sequences\n",
        "\n",
        "maxlen = 50 # Máximo número de palabras por frase\n",
        "\n",
        "# PAD: Decido que las frases con más de 50 palabras las recorto a 50, las que tienen menos relleno con 0 y las de 50 las dejo tal cual\n",
        "X_ENTRENAMIENTO_WE = pad_sequences(X_ENTRENAMIENTO_WE, padding='post', maxlen=maxlen)\n",
        "X_VALIDACION_WE = pad_sequences(X_VALIDACION_WE, padding='post', maxlen=maxlen)\n",
        "X_TESTEO_WE =    pad_sequences(X_TESTEO_WE, padding='post', maxlen=maxlen)\n",
        "\n",
        "print('Representación de la primera frase del entrenamiento: \\n',X_ENTRENAMIENTO_WE[0, :])"
      ]
    },
    {
      "cell_type": "code",
      "execution_count": null,
      "metadata": {
        "colab": {
          "base_uri": "https://localhost:8080/"
        },
        "id": "e5e_ekZNPsIn",
        "outputId": "57f5906e-07fd-4caf-a8dc-18d849909f6a"
      },
      "outputs": [
        {
          "name": "stdout",
          "output_type": "stream",
          "text": [
            "Dimensiones de los datos de entrenamiento  :  (117045, 50)\n",
            "Dimensiones de los datos de validación :  (39015, 50)\n",
            "Dimensiones de los datos de testeo  :  (66292, 50)\n"
          ]
        }
      ],
      "source": [
        "print(\"Dimensiones de los datos de entrenamiento  : \",X_ENTRENAMIENTO_WE.shape)\n",
        "print(\"Dimensiones de los datos de validación : \",X_VALIDACION_WE.shape)\n",
        "print(\"Dimensiones de los datos de testeo  : \",X_TESTEO_WE.shape)"
      ]
    },
    {
      "cell_type": "markdown",
      "metadata": {
        "id": "7SDekXWNpdDS"
      },
      "source": [
        "Hemos decidido que las frases tengan una longitud de 50. Es decir, las frases con más de 50 palabras las recorto a 50, las que tienen menos relleno con 0 y las de 50 las dejo tal cual.\n",
        "\n",
        "**Descripción del modelo**:\n",
        "\n"
      ]
    },
    {
      "cell_type": "code",
      "execution_count": null,
      "metadata": {
        "colab": {
          "base_uri": "https://localhost:8080/"
        },
        "id": "NILu6PZSmwGd",
        "outputId": "72199b30-07a9-49c2-848d-caa6cbc99bb8"
      },
      "outputs": [
        {
          "name": "stdout",
          "output_type": "stream",
          "text": [
            "Configuración de embedding: \n",
            "Dimensión del input: nos quedamos con las  1500  primeras palabras. \n",
            "Dimensión de salida:  128 \n",
            "Longitud máxima de frase: 50\n",
            "Model: \"sequential_2\"\n",
            "_________________________________________________________________\n",
            " Layer (type)                Output Shape              Param #   \n",
            "=================================================================\n",
            " embedding_1 (Embedding)     (None, 50, 128)           192000    \n",
            "                                                                 \n",
            " conv1d_1 (Conv1D)           (None, 47, 20)            10260     \n",
            "                                                                 \n",
            " global_max_pooling1d_1 (Glo  (None, 20)               0         \n",
            " balMaxPooling1D)                                                \n",
            "                                                                 \n",
            " dense_5 (Dense)             (None, 100)               2100      \n",
            "                                                                 \n",
            " dense_6 (Dense)             (None, 200)               20200     \n",
            "                                                                 \n",
            " flatten_1 (Flatten)         (None, 200)               0         \n",
            "                                                                 \n",
            " dense_7 (Dense)             (None, 5)                 1005      \n",
            "                                                                 \n",
            "=================================================================\n",
            "Total params: 225,565\n",
            "Trainable params: 225,565\n",
            "Non-trainable params: 0\n",
            "_________________________________________________________________\n"
          ]
        }
      ],
      "source": [
        "#### NOTA PARA LA ENTREGA: CAMBIAR LOS COMENTARIOS VERDES QUE SON DEL EJERCICIO DE CLASE \n",
        "\n",
        "from keras.models import Sequential\n",
        "from keras.layers import Dense, Flatten\n",
        "from keras import layers\n",
        "\n",
        "embedding_dim = 128 # Esto el D, la dim de cada palabra\n",
        "\n",
        "\n",
        "# Del embeding sale una matriz de 1500 filas (CADA FILA UNA PALABRA DE ESA FRASE) y D columnas. ESTO OCURRE PARA CADA FRASE\n",
        "\n",
        "\n",
        "vocab_size = tokenizer.num_words # Esto ya si es 1500, le pregunto al tokenizador cuantas palabras tiene\n",
        "print('Configuración de embedding: \\nDimensión del input: nos quedamos con las ',vocab_size,' primeras palabras. \\nDimensión de salida: ',embedding_dim,'\\nLongitud máxima de frase:',maxlen)\n",
        "\n",
        "model_2 = Sequential()\n",
        "\n",
        "# Capa de embeding con tamaño de entrada: 100X128=12800 eltos de la representacion\n",
        "## Armo una matrix con 100 filas y 64 columnas, donde cada fila es una palabra de esa frase \n",
        "\n",
        "model_2.add(layers.Embedding(input_dim=vocab_size,  # 1500 me quedo con las 100 primeras palabras\n",
        "                           output_dim=embedding_dim, # 128\n",
        "                           input_length=maxlen) # 1000\n",
        ")\n",
        "\n",
        "# Hago 30 convoluciones con una máscara 3XD, de tres filas\n",
        "model_2.add(layers.Conv1D(20, 4, activation='relu'))\n",
        "# Max pooling\n",
        "model_2.add(layers.GlobalMaxPooling1D()) \n",
        "# Capa densa de 100 neuronas\n",
        "model_2.add(layers.Dense(100, activation='relu')) \n",
        "# Capa densa de 200 neuronas\n",
        "model_2.add(layers.Dense(200, activation='relu')) \n",
        "# Flatten\n",
        "model_2.add(Flatten())\n",
        "# Capa de salida con 5 neuronas\n",
        "model_2.add(layers.Dense(5, activation='softmax')) # Quiero reconocer 5 clases por eso 5, es la capa de salida\n",
        "\n",
        "model_2.compile(optimizer='adam',\n",
        "              loss='categorical_crossentropy',\n",
        "              metrics=['accuracy'])\n",
        "\n",
        "model_2.summary()\n"
      ]
    },
    {
      "cell_type": "code",
      "execution_count": null,
      "metadata": {
        "colab": {
          "base_uri": "https://localhost:8080/"
        },
        "id": "IXy9f282nhhJ",
        "outputId": "7fd70e64-6b79-4616-cc98-74250e62fcb3"
      },
      "outputs": [
        {
          "name": "stdout",
          "output_type": "stream",
          "text": [
            "Epoch 1/20\n",
            "3658/3658 [==============================] - 19s 5ms/step - loss: 1.0449 - accuracy: 0.5881 - val_loss: 0.9892 - val_accuracy: 0.6087\n",
            "Epoch 2/20\n",
            "3658/3658 [==============================] - 19s 5ms/step - loss: 0.9381 - accuracy: 0.6310 - val_loss: 0.9681 - val_accuracy: 0.6182\n",
            "Epoch 3/20\n",
            "3658/3658 [==============================] - 18s 5ms/step - loss: 0.8911 - accuracy: 0.6493 - val_loss: 0.9447 - val_accuracy: 0.6276\n",
            "Epoch 4/20\n",
            "3658/3658 [==============================] - 18s 5ms/step - loss: 0.8611 - accuracy: 0.6610 - val_loss: 0.9458 - val_accuracy: 0.6290\n",
            "Epoch 5/20\n",
            "3658/3658 [==============================] - 19s 5ms/step - loss: 0.8349 - accuracy: 0.6719 - val_loss: 0.9498 - val_accuracy: 0.6307\n",
            "Epoch 6/20\n",
            "3658/3658 [==============================] - 19s 5ms/step - loss: 0.8157 - accuracy: 0.6776 - val_loss: 0.9633 - val_accuracy: 0.6334\n",
            "Epoch 7/20\n",
            "3658/3658 [==============================] - 18s 5ms/step - loss: 0.7969 - accuracy: 0.6851 - val_loss: 0.9632 - val_accuracy: 0.6305\n",
            "Epoch 8/20\n",
            "3658/3658 [==============================] - 21s 6ms/step - loss: 0.7811 - accuracy: 0.6921 - val_loss: 0.9523 - val_accuracy: 0.6297\n",
            "Epoch 9/20\n",
            "3658/3658 [==============================] - 20s 6ms/step - loss: 0.7667 - accuracy: 0.6959 - val_loss: 0.9662 - val_accuracy: 0.6292\n",
            "Epoch 10/20\n",
            "3658/3658 [==============================] - 18s 5ms/step - loss: 0.7532 - accuracy: 0.7015 - val_loss: 0.9859 - val_accuracy: 0.6302\n",
            "Epoch 11/20\n",
            "3658/3658 [==============================] - 18s 5ms/step - loss: 0.7428 - accuracy: 0.7061 - val_loss: 0.9909 - val_accuracy: 0.6269\n",
            "Epoch 12/20\n",
            "3658/3658 [==============================] - 19s 5ms/step - loss: 0.7305 - accuracy: 0.7089 - val_loss: 1.0052 - val_accuracy: 0.6286\n",
            "Epoch 13/20\n",
            "3658/3658 [==============================] - 19s 5ms/step - loss: 0.7206 - accuracy: 0.7130 - val_loss: 0.9997 - val_accuracy: 0.6283\n",
            "Epoch 14/20\n",
            "3658/3658 [==============================] - 19s 5ms/step - loss: 0.7109 - accuracy: 0.7152 - val_loss: 1.0345 - val_accuracy: 0.6288\n",
            "Epoch 15/20\n",
            "3658/3658 [==============================] - 19s 5ms/step - loss: 0.7022 - accuracy: 0.7188 - val_loss: 1.0492 - val_accuracy: 0.6269\n",
            "Epoch 16/20\n",
            "3658/3658 [==============================] - 18s 5ms/step - loss: 0.6931 - accuracy: 0.7224 - val_loss: 1.0666 - val_accuracy: 0.6262\n",
            "Epoch 17/20\n",
            "3658/3658 [==============================] - 19s 5ms/step - loss: 0.6857 - accuracy: 0.7243 - val_loss: 1.0521 - val_accuracy: 0.6211\n",
            "Epoch 18/20\n",
            "3658/3658 [==============================] - 19s 5ms/step - loss: 0.6783 - accuracy: 0.7264 - val_loss: 1.0824 - val_accuracy: 0.6262\n",
            "Epoch 19/20\n",
            "3658/3658 [==============================] - 21s 6ms/step - loss: 0.6703 - accuracy: 0.7314 - val_loss: 1.1045 - val_accuracy: 0.6225\n",
            "Epoch 20/20\n",
            "3658/3658 [==============================] - 18s 5ms/step - loss: 0.6636 - accuracy: 0.7321 - val_loss: 1.1387 - val_accuracy: 0.6182\n"
          ]
        }
      ],
      "source": [
        "history_2 = model_2.fit(X_ENTRENAMIENTO_WE, y_entrenamiento_categorico ,\n",
        "                    epochs=20,\n",
        "                    verbose=True,\n",
        "                    validation_data=(X_VALIDACION_WE, y_validacion_categorico),\n",
        "                    batch_size=32)\n"
      ]
    },
    {
      "cell_type": "code",
      "execution_count": null,
      "metadata": {
        "colab": {
          "base_uri": "https://localhost:8080/"
        },
        "id": "linZa66-ni26",
        "outputId": "6cd14366-21b5-4059-825f-934489228c21"
      },
      "outputs": [
        {
          "name": "stdout",
          "output_type": "stream",
          "text": [
            "Training Accuracy: 0.7559\n",
            "Testing Accuracy:  0.6182\n"
          ]
        }
      ],
      "source": [
        "loss, accuracy = model_2.evaluate(X_ENTRENAMIENTO_WE, y_entrenamiento_categorico, verbose=False)\n",
        "print(\"Training Accuracy: {:.4f}\".format(accuracy))\n",
        "loss, accuracy = model_2.evaluate(X_VALIDACION_WE, y_validacion_categorico, verbose=False)\n",
        "print(\"Testing Accuracy:  {:.4f}\".format(accuracy))"
      ]
    },
    {
      "cell_type": "code",
      "execution_count": null,
      "metadata": {
        "colab": {
          "base_uri": "https://localhost:8080/"
        },
        "id": "VtwX5_LS41uc",
        "outputId": "354f8469-124b-47a0-9da6-e2ba13b25c48"
      },
      "outputs": [
        {
          "name": "stdout",
          "output_type": "stream",
          "text": [
            "1220/1220 [==============================] - 2s 2ms/step\n"
          ]
        }
      ],
      "source": [
        "y_val_pred = np.argmax(model_2.predict(X_VALIDACION_WE), axis=1)"
      ]
    },
    {
      "cell_type": "markdown",
      "metadata": {
        "id": "fH3roHiF5oBh"
      },
      "source": [
        "A continuación mostramos el classification report con el objetivo de conocer las métricas de accuracy para cada una de las clases."
      ]
    },
    {
      "cell_type": "code",
      "execution_count": null,
      "metadata": {
        "colab": {
          "base_uri": "https://localhost:8080/"
        },
        "id": "v8kg8oUU4EnD",
        "outputId": "4f122298-b842-4a2d-e5a3-4cfb268474ff"
      },
      "outputs": [
        {
          "name": "stdout",
          "output_type": "stream",
          "text": [
            "               precision    recall  f1-score   support\n",
            "\n",
            "     Negativo       0.41      0.39      0.40      1790\n",
            "Algo negativo       0.50      0.41      0.45      6857\n",
            "       Neutro       0.69      0.82      0.75     19826\n",
            "Algo positivo       0.57      0.40      0.47      8244\n",
            "     Positivo       0.48      0.43      0.45      2298\n",
            "\n",
            "     accuracy                           0.62     39015\n",
            "    macro avg       0.53      0.49      0.50     39015\n",
            " weighted avg       0.60      0.62      0.60     39015\n",
            "\n"
          ]
        }
      ],
      "source": [
        "import sklearn\n",
        "print(sklearn.metrics.classification_report(y_validacion, # Etiquetas de validación\n",
        "                                      y_val_pred, # Clasificacion de validación\n",
        "                                      target_names=[\"Negativo\",\"Algo negativo\",\"Neutro\",\"Algo positivo\",\"Positivo\"], \n",
        "                                      sample_weight=None, digits=2, output_dict=False))\n",
        "\n"
      ]
    },
    {
      "cell_type": "markdown",
      "metadata": {
        "id": "Wto7mYDM5yjz"
      },
      "source": [
        "Podemos afirmar que la **precisión** global es de 0.62, sin embargo, esta métrica varía en función de las clases. Cabe destacar, que la clase que el modelo consigue clasificar mejor es el sentimiento *neutro*, con casi un valor de 0.7, seguida de la clase *algo positivo* con un valor de precisión del 57%. A esta clase le sigue el sentimiento *algo negativo*, con un valor de un 50%, aquí la métrica ya comienza a ser bastante pobre. Las clases que peor clasifica la red son la clase *positiva*, con un 0.48 y la clase *negativa*, donde la métrica es muy pobre, del 41%. El modelo clasifica peor las clases extremas, o negativa o positiva, y sin embargo, la clase neutra es la que mejor consigue distinguir y generalizar el modelo.\n",
        "\n",
        "El **recall**, que es la capacidad del algoritmo (modelo) de encontrar cada una de las clases, está alrededor del 40% para todas las clases salvo para la clase *neutro*, que supera el 80%. Salvo para la etiqueta *neutro*, esta métrica es muy pobre.\n",
        "\n",
        "Ocurre lo mismo para el **f1-score**, donde todas las clases no superan el valor de 0.47 salvo la clase neutra, con un valor de 0.75, que es bueno, ya que el mayor valor admisible de este parámetro es 1.\n",
        "\n",
        "Que el modelo clasifique mejor a la clase neutra podría explicarse con el **support**, es decir, el número de frases de cada clase que hay en el dataset de validación. Para la clase *neutro* hay muchas mas instancias que para el resto, siendo las clases extremas las que menor representación tiene en el dataset. Esto ocurre también para los datos de testeo, y por tanto, el modelo comprende mucho mejor aquella etiqueta que más ha entrenado.\n",
        "\n",
        "La conclusión es la siguiente:\n",
        "\n",
        "- **Problema**: datos no balanceados\n",
        "- **Posible solución**: aplicar técnicas de balanceo de datos como undersampling, donde disminuiriamos a la clase mayoritaria (neutro), oversampling, en este caso generaríamos más registros de las clases extremas, o balanceo mixto, que consiste en una combinación de ambas técnicas."
      ]
    },
    {
      "cell_type": "code",
      "execution_count": null,
      "metadata": {
        "colab": {
          "base_uri": "https://localhost:8080/",
          "height": 336
        },
        "id": "O71MrXZinj-U",
        "outputId": "754aa275-2a9c-4408-cd9c-aee1cc277cac"
      },
      "outputs": [
        {
          "data": {
            "image/png": "[encoded data removed]",
            "text/plain": [
              "<Figure size 864x360 with 2 Axes>"
            ]
          },
          "metadata": {
            "needs_background": "light"
          },
          "output_type": "display_data"
        }
      ],
      "source": [
        "# Modelo de prueba 2\n",
        "plot_history(history_2)"
      ]
    },
    {
      "cell_type": "markdown",
      "metadata": {
        "id": "yyTeN-HhJZvu"
      },
      "source": [
        "**Accuracy**\n",
        "\n",
        "En la gráfica de precisión observamos que después de las 20 épocas el modelo es capaz de predecir por encima del 70% para los datos de entrenamiento pero no es capaz de generalizar para los datos nuevos, ya que en el conjunto de validación, el coeficiente de correlación está alrededor de un valor $R^2 \\approx 0.62$. Esta separación que vemos en la gráfica indica algo de sobreajuste, el modelo clasifica mejor las frases de entrenamiento y la generalización no es muy óptima.\n",
        "\n",
        "**Loss**\n",
        "\n",
        "En la gráfica de pérdida, vemos que conforme aumenta el número de épocas las líneas se van separando cada vez más, es decir, la pérdida en el entrenamiendo se separa rápidamente de la de validación, en particular, a partir de la segunda época. Después de las 20 épocas, la pérdida es pequeña en los datos del entrenamiento, ocurriendo lo contrario para los datos de validación, ya que la pérdida es bastante mayor y crece conforme avanzan las épocas.\n",
        "\n",
        "**--------------------------------------------------------------------**\n",
        "\n",
        "Overfitting, el modelo no generaliza bien con datos nuevos, pero después de muchas configuraciones con diferentes hiperparámetros, el mejor que hemos encontrado.\n"
      ]
    },
    {
      "cell_type": "markdown",
      "metadata": {
        "id": "OCNAt_C_zUwI"
      },
      "source": [
        "\n",
        "A continuación vamos a exponer los diferentes modelos que hemos entrenado con sus diferentes configuraciones de hiperparámetros, además de las métricas de precisión obtenidas, ya que la pérdida era mas o menos similar, aunque aumentaba ligeramente cuando la precisión bajaba.\n",
        "\n",
        "Modelo de prueba 1: Con 1000 palabraas de max length 150 neuronas en la capa densa y 50 épocas\n",
        "\n",
        "- Training Accuracy: 0.7512\n",
        "- Testing Accuracy:  0.6195\n",
        "\n",
        "Modelo de prueba 2. Con 1000 palabraas de max length 150 neuronas en la capa densa y 20 épocas\n",
        "\n",
        "- Training Accuracy: 0.77\n",
        "- Testing Accuracy:  0.616\n",
        "\n",
        "Modelo de prueba 3. Con 1000 palabraas de max length 150 neuronas en la capa densa y 15 épocas\n",
        "\n",
        "- Training Accuracy: 0.79\n",
        "- Testing Accuracy:  0.618\n",
        "\n",
        "Modelo de prueba 4. Con 1000 palabraas de max length 150 neuronas en la capa densa y 6 épocas\n",
        "\n",
        "- Training Accuracy: 0.7989\n",
        "- Testing Accuracy:  0.60\n",
        "\n",
        "Modelo 5: con palabras de 500 max length y 60 neuronas en la cpaa densa y 20 épocas: la métrica acurracy está por el 50% y loss por encima de 1 \n",
        "\n",
        "Modelo 6: con palabras de 50 max length y 150 neuronas en la capa densa y 10 épocas: \n",
        "\n",
        "- Training Accuracy: 0.7138\n",
        "- Testing Accuracy:  0.6218\n",
        "\n",
        "Modelo 7:  Embedding de 128 y palabras de 50 max; model_2.add(layers.Dense(2048, activation='relu')); model_2.add(Dropout(0.2)) ;model_2.add(layers.Dense(64, activation='relu')) ;model_2.add(Dropout(0.2)); conv1D; maxpooling; flatten y capa de salida densa con 5 neuronas y acitvación softmax\n",
        "\n",
        "- Training Accuracy: 0.6360\n",
        "- Testing Accuracy:  0.6120\n",
        "\n",
        "Modelo 8: Es el mejor modelo y lo describiremos abajo\n",
        "\n",
        "Training Accuracy: 0.7598\n",
        "Testing Accuracy:  0.6262\n",
        "\n",
        "\n",
        "\n",
        "**Nota**: En todos los modelos se ha utlizado lo siguiente:\n",
        "- Optimizador adam\n",
        "- Pérdida cross entropy categórico\n",
        "- Métrica del rendimiento del modelo: precisión (Acurracy)\n",
        "\n",
        "\n",
        "\n",
        "*Conclusión*: cuantas más convoluciones mejores las métricas y cuantas menos épocas mejores las métricas.\n",
        "\n",
        "Después de haber entrenado la red con las diferentes configuraciones descritas anteriormente, y otras que no se han anotado debido a la pobreza de las métricas, concluímos que con las herramientas que conocemos, no hemos podido configurar una red que nos proporcione una métrica acurracy mejor que 0.6218 en la validación. Por tanto, el mejor modelo, que es aquel que nos proporcione mejores métricas en la validación es: **modelo 8**\n",
        "\n",
        "Descripción del modelo secuencial: \n",
        "\n",
        "\n",
        "- Embedding con frases de máximo 50 palabras y dimensión de salida 128. Utilizo las 1500 palabras top en el tokenizador\n",
        "- 20 convoluciones 1D con una máscara 4x4\n",
        "- Una capa densa con 100 neuronas completamnete conectadas y activación relu\n",
        "- Una capa densa con 200 neuronas completamente conectadas y activación relu\n",
        "- Una capa de salida con 5 neuronas (5 clases) y activación softmax\n",
        "\n",
        "\n",
        "\n",
        "\n",
        "\n",
        "## Predicción en el conjunto de testeo\n",
        "\n",
        "\n",
        "A continuación, vamos utilizar este modelo con los datos de testeo, para poder clasificar las frases contenidas en este dataset:\n"
      ]
    },
    {
      "cell_type": "code",
      "execution_count": null,
      "metadata": {
        "colab": {
          "base_uri": "https://localhost:8080/"
        },
        "id": "f6Mq-quN2tE9",
        "outputId": "de6ee203-e92f-4ea3-d591-7f20ee0859e3"
      },
      "outputs": [
        {
          "name": "stdout",
          "output_type": "stream",
          "text": [
            "2072/2072 [==============================] - 4s 2ms/step\n"
          ]
        }
      ],
      "source": [
        "predicciones_test = model_2.predict(X_TESTEO_WE)"
      ]
    },
    {
      "cell_type": "code",
      "execution_count": null,
      "metadata": {
        "colab": {
          "base_uri": "https://localhost:8080/"
        },
        "id": "UTRFtn3TPZr1",
        "outputId": "f77886e1-4e37-4e7d-9875-78460f00ec77"
      },
      "outputs": [
        {
          "name": "stdout",
          "output_type": "stream",
          "text": [
            "Esta es la matriz donde tenemos asocia en cada frase (representada por una fila) las diferentes probabilidades de pertenecer a cada una de las cinco clases.\n",
            "[[1.5987778e-02 4.5859891e-01 4.2348769e-01 9.8148845e-02 3.7767142e-03]\n",
            " [1.5987778e-02 4.5859891e-01 4.2348769e-01 9.8148845e-02 3.7767142e-03]\n",
            " [6.0538474e-02 1.7051899e-01 5.2547145e-01 2.1409433e-01 2.9376805e-02]\n",
            " ...\n",
            " [3.4900400e-04 1.0847702e-02 8.5570240e-01 1.3217221e-01 9.2874223e-04]\n",
            " [3.4900400e-04 1.0847702e-02 8.5570240e-01 1.3217221e-01 9.2874223e-04]\n",
            " [5.5229045e-02 5.5618554e-01 3.7694743e-01 1.1586453e-02 5.1488318e-05]]\n"
          ]
        }
      ],
      "source": [
        "\n",
        "print('Esta es la matriz donde tenemos asocia en cada frase (representada por una fila) las diferentes probabilidades de pertenecer a cada una de las cinco clases.')\n",
        "print(predicciones_test)"
      ]
    },
    {
      "cell_type": "code",
      "execution_count": null,
      "metadata": {
        "colab": {
          "base_uri": "https://localhost:8080/"
        },
        "id": "9O-ezUdxPl6y",
        "outputId": "1dcb2f87-8f51-416c-c8c0-91a9a4c1af7c"
      },
      "outputs": [
        {
          "name": "stdout",
          "output_type": "stream",
          "text": [
            "La clasificación final de cada frase será aquella etiqueta a la que se le asocie una mayor probabilidad.\n"
          ]
        }
      ],
      "source": [
        "print('La clasificación final de cada frase será aquella etiqueta a la que se le asocie una mayor probabilidad.')\n",
        "sentimiento_prediccion = np.argmax(predicciones_test, axis=-1)"
      ]
    },
    {
      "cell_type": "code",
      "execution_count": null,
      "metadata": {
        "id": "4c14p9WzPl9J"
      },
      "outputs": [],
      "source": [
        "Resultados = pd.DataFrame({'PhraseId': frases_testeo, 'Sentiment': sentimiento_prediccion})"
      ]
    },
    {
      "cell_type": "code",
      "execution_count": null,
      "metadata": {
        "colab": {
          "base_uri": "https://localhost:8080/"
        },
        "id": "5jxPyC8CPl_6",
        "outputId": "1cdbe024-4327-4096-9b3c-e0176c0efee0"
      },
      "outputs": [
        {
          "name": "stdout",
          "output_type": "stream",
          "text": [
            "Se muestran ahora unas cuantas frases del conjunto de datos test y el sentimiento asociado:\n",
            "\n",
            "                                            PhraseId  Sentiment\n",
            "0  an intermittently pleasing but mostly routine ...          1\n",
            "1  an intermittently pleasing but mostly routine ...          1\n",
            "2                                                 an          2\n",
            "3  intermittently pleasing but mostly routine effort          2\n",
            "4         intermittently pleasing but mostly routine          1\n",
            "5                        intermittently pleasing but          2\n",
            "6                            intermittently pleasing          2\n",
            "7                                     intermittently          2\n",
            "8                                           pleasing          2\n",
            "9                                                but          2\n"
          ]
        }
      ],
      "source": [
        "print('Se muestran ahora unas cuantas frases del conjunto de datos test y el sentimiento asociado:\\n')\n",
        "print(Resultados.head(10))"
      ]
    },
    {
      "cell_type": "code",
      "execution_count": null,
      "metadata": {
        "colab": {
          "base_uri": "https://localhost:8080/"
        },
        "id": "xYI9MP6dPmCJ",
        "outputId": "454792be-1abd-4b3d-a23b-733bc1ec567e"
      },
      "outputs": [
        {
          "name": "stdout",
          "output_type": "stream",
          "text": [
            "Clasificación de las frases test:\n",
            "\n",
            "Frase 1 : an intermittently pleasing but mostly routine effort\n",
            "\n",
            "Sentimiento: 1\n",
            "\n",
            "\n",
            "\n",
            "Frase 2 : an intermittently pleasing but mostly routine effort\n",
            "\n",
            "Sentimiento: 1\n",
            "\n",
            "\n",
            "\n",
            "Frase 3 : an\n",
            "\n",
            "Sentimiento: 2\n",
            "\n",
            "\n",
            "\n",
            "Frase 4 : intermittently pleasing but mostly routine effort\n",
            "\n",
            "Sentimiento: 2\n",
            "\n",
            "\n",
            "\n",
            "Frase 5 : intermittently pleasing but mostly routine\n",
            "\n",
            "Sentimiento: 1\n",
            "\n",
            "\n",
            "\n",
            "Frase 6 : intermittently pleasing but\n",
            "\n",
            "Sentimiento: 2\n",
            "\n",
            "\n",
            "\n",
            "Frase 7 : intermittently pleasing\n",
            "\n",
            "Sentimiento: 2\n",
            "\n",
            "\n",
            "\n",
            "Frase 8 : intermittently\n",
            "\n",
            "Sentimiento: 2\n",
            "\n",
            "\n",
            "\n",
            "Frase 9 : pleasing\n",
            "\n",
            "Sentimiento: 2\n",
            "\n",
            "\n",
            "\n",
            "Frase 10 : but\n",
            "\n",
            "Sentimiento: 2\n",
            "\n",
            "\n",
            "\n",
            "Frase 11 : mostly routine\n",
            "\n",
            "Sentimiento: 2\n",
            "\n",
            "\n",
            "\n",
            "Frase 12 : mostly\n",
            "\n",
            "Sentimiento: 2\n",
            "\n",
            "\n",
            "\n",
            "Frase 13 : routine\n",
            "\n",
            "Sentimiento: 2\n",
            "\n",
            "\n",
            "\n",
            "Frase 14 : effort\n",
            "\n",
            "Sentimiento: 2\n",
            "\n",
            "\n",
            "\n",
            "Frase 15 : \n",
            "\n",
            "Sentimiento: 2\n",
            "\n",
            "\n",
            "\n",
            "Frase 201 : sort\n",
            "\n",
            "Sentimiento: 2\n",
            "\n",
            "\n",
            "\n",
            "Frase 202 : the frenzied comic moments never click\n",
            "\n",
            "Sentimiento: 2\n",
            "\n",
            "\n",
            "\n",
            "Frase 203 : the frenzied comic moments\n",
            "\n",
            "Sentimiento: 3\n",
            "\n",
            "\n",
            "\n",
            "Frase 204 : frenzied comic moments\n",
            "\n",
            "Sentimiento: 3\n",
            "\n",
            "\n",
            "\n",
            "Frase 205 : frenzied\n",
            "\n",
            "Sentimiento: 2\n",
            "\n",
            "\n",
            "\n",
            "Frase 206 : comic moments\n",
            "\n",
            "Sentimiento: 3\n",
            "\n",
            "\n",
            "\n",
            "Frase 207 : comic\n",
            "\n",
            "Sentimiento: 2\n",
            "\n",
            "\n",
            "\n",
            "Frase 208 : moments\n",
            "\n",
            "Sentimiento: 2\n",
            "\n",
            "\n",
            "\n",
            "Frase 209 : never click\n",
            "\n",
            "Sentimiento: 2\n",
            "\n",
            "\n",
            "\n",
            "Frase 210 : never\n",
            "\n",
            "Sentimiento: 2\n",
            "\n",
            "\n",
            "\n",
            "Frase 211 : click\n",
            "\n",
            "Sentimiento: 2\n",
            "\n",
            "\n",
            "\n",
            "Frase 212 : it s a hoot and a half and a great way for the american people to see what a candidate is like when he s not giving the same 15 cent stump speech\n",
            "\n",
            "Sentimiento: 3\n",
            "\n",
            "\n",
            "\n",
            "Frase 213 : it\n",
            "\n",
            "Sentimiento: 2\n",
            "\n",
            "\n",
            "\n",
            "Frase 214 : s a hoot and a half and a great way for the american people to see what a candidate is like when he s not giving the same 15 cent stump speech\n",
            "\n",
            "Sentimiento: 3\n",
            "\n",
            "\n",
            "\n",
            "Frase 215 : s a hoot and a half and a great way for the american people to see what a candidate is like when he s not giving the same 15 cent stump speech\n",
            "\n",
            "Sentimiento: 3\n",
            "\n",
            "\n",
            "\n",
            "Frase 601 : in a spray can\n",
            "\n",
            "Sentimiento: 2\n",
            "\n",
            "\n",
            "\n",
            "Frase 602 : a spray can\n",
            "\n",
            "Sentimiento: 2\n",
            "\n",
            "\n",
            "\n",
            "Frase 603 : spray can\n",
            "\n",
            "Sentimiento: 2\n",
            "\n",
            "\n",
            "\n",
            "Frase 604 : spray\n",
            "\n",
            "Sentimiento: 2\n",
            "\n",
            "\n",
            "\n",
            "Frase 605 : can\n",
            "\n",
            "Sentimiento: 2\n",
            "\n",
            "\n",
            "\n",
            "Frase 606 : is to actual snow a poor if durable imitation\n",
            "\n",
            "Sentimiento: 1\n",
            "\n",
            "\n",
            "\n",
            "Frase 607 : to actual snow a poor if durable imitation\n",
            "\n",
            "Sentimiento: 2\n",
            "\n",
            "\n",
            "\n",
            "Frase 608 : actual snow a poor if durable imitation\n",
            "\n",
            "Sentimiento: 1\n",
            "\n",
            "\n",
            "\n",
            "Frase 609 : actual snow\n",
            "\n",
            "Sentimiento: 2\n",
            "\n",
            "\n",
            "\n",
            "Frase 610 : actual snow\n",
            "\n",
            "Sentimiento: 2\n",
            "\n",
            "\n"
          ]
        }
      ],
      "source": [
        "print('Clasificación de las frases test:')\n",
        "for i in range(0,15):\n",
        "  print('\\nFrase',i+1,':',Resultados.iloc[i,0])\n",
        "  print('\\nSentimiento:',Resultados.iloc[i,1])\n",
        "  print('\\n')\n",
        "for i in range(200,215):\n",
        "  print('\\nFrase',i+1,':',Resultados.iloc[i,0])\n",
        "  print('\\nSentimiento:',Resultados.iloc[i,1])\n",
        "  print('\\n')\n",
        "for i in range(600,610):\n",
        "  print('\\nFrase',i+1,':',Resultados.iloc[i,0])\n",
        "  print('\\nSentimiento:',Resultados.iloc[i,1])\n",
        "  print('\\n')"
      ]
    },
    {
      "cell_type": "markdown",
      "metadata": {
        "id": "O_MrFjIkpxKA"
      },
      "source": [
        "También hemos probado un modelo con dos neuronas bidirecionales LSTM, una capa densa de 128 neuronas, dropout de 0.5 y la capa de salida con 5 neuronas. Hemos decidido probar esta configuración debido a que investigando sobre el reto, vimos en los códigos de otros usuarios que la precisión aumentaba considerablemente al añadir esta configuración. Sin embargo, esto no ocurría en nuestro caso, ya que la métrica de precisión continuaba alrededor del 61%. Además, el coste computacional de generar este modelo era altísimo, además del tiempo que tardaba su ejecución. Por este motivo, decidimos dejar como modelo final la red de convolución descrita anteriormente.\n",
        "\n",
        "Las redes neuronales bidireccionales con celdas de memoria LSTM (Long Short-Term Memory units) son muy utilizadas en el procesamiento del lenguaje natural y funciona de la siguiente forma: Consta de dos capas, una que aprende de unos datos de entrenamiento y otra que retrocede en el tiempo, para así poder aprender mejor las representtaciones futuras. Es decir, este tipo de redes neuronales es capz de analizar oraciones hacia delante y hacia atrás. Cada una de las capas genera un vector de salida para cada una de las palabras de cada frase y ambos vectores se concatenan a uno solo que es el que modela el derecho como el revés de la frase. Sin embargo, podría ser al no haber estudiado en profundidad este tipo de redes, el motivo de no haber sabido configurarla correctamente, por lo que podría ser un campo objeto de nuestro estudio en el futuro.\n",
        "\n",
        "\n",
        "\n",
        "A continuación, dejamos a modo informativo la configuración de la red bidireccional LSTM:\n",
        "\n",
        "\n",
        "\n",
        "\n",
        "\n",
        "**Model: \"sequential_13\"**\n",
        "\n",
        "*Layer (type) |Output| Shape|Param * \n",
        "\n",
        "> embedding_12 (Embedding)    (None, 50,300)         450000    \n",
        "\n",
        "> bidirectional (Bidirectional) (None, 50,256)         439296                                                       \n",
        "> bidirectional_1 (Bidirectional) (None,128)              164352    \n",
        "     \n",
        "> dense_30 (Dense)(None, 128)16512     \n",
        "                                                                 \n",
        "> dropout_22 (Dropout)(None, 128)0         \n",
        "                                                                 \n",
        ">dense_31 (Dense)(None, 5)645       \n",
        "                                                             \n",
        "=================================================================\n",
        "Total params: 1,070,805\n",
        "Trainable params: 1,070,805\n",
        "Non-trainable params: 0\n",
        "\n",
        "\n",
        "Aún con 5 épocas y un batch size de 256 seguía un costo computacional muy alto sin grandes mejoras."
      ]
    },
    {
      "cell_type": "markdown",
      "metadata": {
        "id": "mjRP3_PFsDZ8"
      },
      "source": [
        "A continuación dejamos el código pero sin ejecutar."
      ]
    },
    {
      "cell_type": "code",
      "execution_count": null,
      "metadata": {
        "colab": {
          "base_uri": "https://localhost:8080/"
        },
        "id": "3uGikkhG2tLq",
        "outputId": "a6d2b7b4-7492-4014-d8f6-425c64f421f4"
      },
      "outputs": [
        {
          "name": "stderr",
          "output_type": "stream",
          "text": [
            "WARNING:tensorflow:Layer lstm will not use cuDNN kernels since it doesn't meet the criteria. It will use a generic GPU kernel as fallback when running on GPU.\n",
            "WARNING:tensorflow:Layer lstm will not use cuDNN kernels since it doesn't meet the criteria. It will use a generic GPU kernel as fallback when running on GPU.\n",
            "WARNING:tensorflow:Layer lstm will not use cuDNN kernels since it doesn't meet the criteria. It will use a generic GPU kernel as fallback when running on GPU.\n"
          ]
        },
        {
          "name": "stdout",
          "output_type": "stream",
          "text": [
            "Configuración de embedding: \n",
            "Dimensión del input: nos quedamos con las  1500  primeras palabras. \n",
            "Dimensión de salida:  300 \n",
            "Longitud máxima de frase: 50\n"
          ]
        },
        {
          "name": "stderr",
          "output_type": "stream",
          "text": [
            "WARNING:tensorflow:Layer lstm_1 will not use cuDNN kernels since it doesn't meet the criteria. It will use a generic GPU kernel as fallback when running on GPU.\n",
            "WARNING:tensorflow:Layer lstm_1 will not use cuDNN kernels since it doesn't meet the criteria. It will use a generic GPU kernel as fallback when running on GPU.\n",
            "WARNING:tensorflow:Layer lstm_1 will not use cuDNN kernels since it doesn't meet the criteria. It will use a generic GPU kernel as fallback when running on GPU.\n"
          ]
        },
        {
          "name": "stdout",
          "output_type": "stream",
          "text": [
            "Model: \"sequential_4\"\n",
            "_________________________________________________________________\n",
            " Layer (type)                Output Shape              Param #   \n",
            "=================================================================\n",
            " embedding_2 (Embedding)     (None, 50, 300)           450000    \n",
            "                                                                 \n",
            " bidirectional (Bidirectiona  (None, 50, 256)          439296    \n",
            " l)                                                              \n",
            "                                                                 \n",
            " bidirectional_1 (Bidirectio  (None, 128)              164352    \n",
            " nal)                                                            \n",
            "                                                                 \n",
            " dense_8 (Dense)             (None, 128)               16512     \n",
            "                                                                 \n",
            " dropout (Dropout)           (None, 128)               0         \n",
            "                                                                 \n",
            " dense_9 (Dense)             (None, 5)                 645       \n",
            "                                                                 \n",
            "=================================================================\n",
            "Total params: 1,070,805\n",
            "Trainable params: 1,070,805\n",
            "Non-trainable params: 0\n",
            "_________________________________________________________________\n"
          ]
        }
      ],
      "source": [
        "## No quitar, voy a comentarlo y ya lo elimino\n",
        "from keras.models import Sequential\n",
        "from keras.layers import Dense, Flatten,Dropout, Bidirectional, LSTM\n",
        "from keras import layers\n",
        "\n",
        "embedding_dim = 300 # Esto el D, la dim de cada palabra\n",
        "\n",
        "\n",
        "# Del embeding sale una matriz de 1500 filas (CADA FILA UNA PALABRA DE ESA FRASE) y D columnas. ESTO OCURRE PARA CADA FRASE\n",
        "\n",
        "vocab_size = tokenizer.num_words # Esto ya si es 1500, le pregunto al tokenizador cuantas palabras tiene\n",
        "model_3 = Sequential()\n",
        "print('Configuración de embedding: \\nDimensión del input: nos quedamos con las ',vocab_size,' primeras palabras. \\nDimensión de salida: ',embedding_dim,'\\nLongitud máxima de frase:',maxlen)\n",
        "\n",
        "model_3.add(layers.Embedding(input_dim=vocab_size,  # 1500 me quedo con las 100 primeras palabras\n",
        "                           output_dim=embedding_dim, # 300\n",
        "                           input_length=maxlen) # 50\n",
        ")\n",
        "\n",
        "model_3.add(layers.Bidirectional(LSTM(128, return_sequences=True, dropout=0.8, recurrent_dropout = 0.8)))\n",
        "model_3.add(layers.Bidirectional(LSTM(64, return_sequences=False, dropout=0.5, recurrent_dropout = 0.5)))\n",
        "model_3.add(layers.Dense(128, activation='relu'))\n",
        "model_3.add(Dropout(0.5))\n",
        "model_3.add(layers.Dense(5, activation='softmax')) # Quiero reconocer 5 clases por eso 5, es la capa de salida\n",
        "\n",
        "model_3.compile(optimizer='adam',loss='categorical_crossentropy',metrics=['accuracy'])\n",
        "\n",
        "model_3.summary()\n"
      ]
    },
    {
      "cell_type": "code",
      "execution_count": null,
      "metadata": {
        "id": "HyXdbOcD2vZq"
      },
      "outputs": [],
      "source": [
        "# history_2 = model_3.fit(X_ENTRENAMIENTO_WE, y_entrenamiento_categorico ,\n",
        "#                     epochs=5,\n",
        "#                     verbose=True,\n",
        "#                     validation_data=(X_VALIDACION_WE, y_validacion_categorico),\n",
        "#                     batch_size=256)"
      ]
    },
    {
      "cell_type": "markdown",
      "metadata": {
        "id": "ixPUYP3y8dZ0"
      },
      "source": []
    }
  ],
  "metadata": {
    "accelerator": "GPU",
    "colab": {
      "collapsed_sections": [
        "ci-uiXR3cAF1",
        "teNlpmHVMKd6"
      ],
      "provenance": [],
      "toc_visible": true
    },
    "gpuClass": "standard",
    "kernelspec": {
      "display_name": "Python 3",
      "language": "python",
      "name": "python3"
    },
    "language_info": {
      "name": "python",
      "version": "3.9.6"
    },
    "vscode": {
      "interpreter": {
        "hash": "31f2aee4e71d21fbe5cf8b01ff0e069b9275f58929596ceb00d14d90e3e16cd6"
      }
    }
  },
  "nbformat": 4,
  "nbformat_minor": 0
}
